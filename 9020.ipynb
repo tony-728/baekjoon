{
 "cells": [
  {
   "cell_type": "code",
   "execution_count": 5,
   "metadata": {},
   "outputs": [
    {
     "name": "stdout",
     "output_type": "stream",
     "text": [
      "0 0\n",
      "0 0\n"
     ]
    },
    {
     "ename": "ValueError",
     "evalue": "invalid literal for int() with base 10: ''",
     "output_type": "error",
     "traceback": [
      "\u001b[1;31m---------------------------------------------------------------------------\u001b[0m",
      "\u001b[1;31mValueError\u001b[0m                                Traceback (most recent call last)",
      "\u001b[1;32mc:\\Users\\ksang\\Dropbox\\CT\\baekjoon\\9020.ipynb Cell 1'\u001b[0m in \u001b[0;36m<module>\u001b[1;34m\u001b[0m\n\u001b[0;32m     <a href='vscode-notebook-cell:/c%3A/Users/ksang/Dropbox/CT/baekjoon/9020.ipynb#ch0000000?line=20'>21</a>\u001b[0m \u001b[39mfor\u001b[39;00m _ \u001b[39min\u001b[39;00m \u001b[39mrange\u001b[39m(T):\n\u001b[0;32m     <a href='vscode-notebook-cell:/c%3A/Users/ksang/Dropbox/CT/baekjoon/9020.ipynb#ch0000000?line=21'>22</a>\u001b[0m     answer1 , answer2 \u001b[39m=\u001b[39m \u001b[39m0\u001b[39m, \u001b[39m0\u001b[39m\n\u001b[1;32m---> <a href='vscode-notebook-cell:/c%3A/Users/ksang/Dropbox/CT/baekjoon/9020.ipynb#ch0000000?line=22'>23</a>\u001b[0m     n \u001b[39m=\u001b[39m \u001b[39mint\u001b[39;49m(\u001b[39minput\u001b[39;49m())\n\u001b[0;32m     <a href='vscode-notebook-cell:/c%3A/Users/ksang/Dropbox/CT/baekjoon/9020.ipynb#ch0000000?line=23'>24</a>\u001b[0m     \u001b[39mfor\u001b[39;00m prime \u001b[39min\u001b[39;00m prime_num:\n\u001b[0;32m     <a href='vscode-notebook-cell:/c%3A/Users/ksang/Dropbox/CT/baekjoon/9020.ipynb#ch0000000?line=24'>25</a>\u001b[0m         \u001b[39mif\u001b[39;00m prime \u001b[39m>\u001b[39m\u001b[39m=\u001b[39m n \u001b[39m/\u001b[39m \u001b[39m2\u001b[39m:\n",
      "\u001b[1;31mValueError\u001b[0m: invalid literal for int() with base 10: ''"
     ]
    }
   ],
   "source": [
    "# 골드바흐의 추측\n",
    "\"\"\"\n",
    "솔루션\n",
    "- 2보다 큰 모든 짝수는 두 소수의 합으로 나타낼 수 있다.\n",
    " -> 2개의 소수로 나타낼 수 있다.\n",
    "- 두 소수의 차이가 가장 작은 것을 출력한다.\n",
    " -> 때문에 입력 받은 수를 반으로 나누어서 각각의 수가 소수인지 확인한다.\n",
    " -> 2개의 수 모두 소수가 아니라면 하나는 1씩 증가 나머지 하나는 1씩 감소하여 소수인지 판별한다.\n",
    " -> 입력 받은 수를 반으로 나눈 것이기 떄문에 두 개의 합은 입력받은 수와 같다.\n",
    "\"\"\"\n",
    "import sys\n",
    "\n",
    "\n",
    "def find_prime(x):\n",
    "    if x == 1:\n",
    "        return False\n",
    "\n",
    "    for i in range(2, int(x**0.5) + 1):\n",
    "        if x % i == 0:\n",
    "            return False\n",
    "\n",
    "    return True\n",
    "\n",
    "# 소수를 찾는 과정이 시간을 많이 소요한다.\n",
    "prime_num = []\n",
    "for i in range(2, int(10000)):\n",
    "    if find_prime(i):\n",
    "        prime_num.append(i)\n",
    "\n",
    "T = int(sys.stdin.readline())\n",
    "\n",
    "for _ in range(T):    \n",
    "    n = int(sys.stdin.readline())\n",
    "    a = int(n/2)\n",
    "    b = int(n/2)\n",
    "\n",
    "    for i in range(a):\n",
    "        if a in prime_num and b in prime_num:\n",
    "            print(a, b)\n",
    "            break\n",
    "\n",
    "        else:\n",
    "            a -= 1\n",
    "            b += 1\n",
    "    "
   ]
  },
  {
   "cell_type": "code",
   "execution_count": null,
   "metadata": {},
   "outputs": [],
   "source": [
    "from sys import stdin\n",
    "\n",
    "T=int(stdin.readline()) #1. 테스트 케이스 개수를 받는다 = T\n",
    "\n",
    "def find_prime(x):\n",
    "    if x == 1:\n",
    "        return False\n",
    "\n",
    "    for i in range(2, int(x**0.5) + 1):\n",
    "        if x % i == 0:\n",
    "            return False\n",
    "\n",
    "    return True\n",
    "\n",
    "for i in range(T): \n",
    "    n=int(stdin.readline()) #3. 값을 입력받아 n으로 지정하고,\n",
    "\n",
    "    a=int(n/2) #3. 반절 값을 시작으로 하나씩 줄여나갈 변수를 지정.\n",
    "    b=int(n/2) #3. 반절 값을 시작으로 하나씩 늘여나갈 변수를 지정.\n",
    "\n",
    "    for k in range(int(n/2)): #4. n 전체가 아닌 반절값만 증명하면 OK\n",
    "        if find_prime(a) and find_prime(b): #4-1. a,b 둘다 소수일 경우 Yes 출력\n",
    "            print(a,b)\n",
    "            break\n",
    "        else: #4-2. 아닐 경우 변수의 차이를 두어 확인\n",
    "            a=a-1\n",
    "            b=b+1"
   ]
  }
 ],
 "metadata": {
  "interpreter": {
   "hash": "1cb989b854fd988d6400614094cb807f874635294f3ee7ee8786de23886924c0"
  },
  "kernelspec": {
   "display_name": "Python 3.8.12 ('dev38')",
   "language": "python",
   "name": "python3"
  },
  "language_info": {
   "codemirror_mode": {
    "name": "ipython",
    "version": 3
   },
   "file_extension": ".py",
   "mimetype": "text/x-python",
   "name": "python",
   "nbconvert_exporter": "python",
   "pygments_lexer": "ipython3",
   "version": "3.8.13"
  },
  "orig_nbformat": 4
 },
 "nbformat": 4,
 "nbformat_minor": 2
}
