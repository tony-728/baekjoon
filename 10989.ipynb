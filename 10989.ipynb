{
 "cells": [
  {
   "cell_type": "code",
   "execution_count": null,
   "metadata": {},
   "outputs": [],
   "source": [
    "# 수 정렬하기 3\n",
    "\n",
    "import sys\n",
    "N = int(sys.stdin.readline())\n",
    "\n",
    "answer = []\n",
    "\n",
    "for _ in range(N):\n",
    "    answer.append(sys.stdin.readline())\n",
    "\n",
    "answer = answer.sort()\n",
    "\n",
    "for a in answer:\n",
    "    print(a)"
   ]
  },
  {
   "cell_type": "code",
   "execution_count": null,
   "metadata": {},
   "outputs": [],
   "source": [
    "\"\"\"\n",
    "입력받는 수를 index값으로 하여 값을 1씩 증가해주고\n",
    "출력할 때 카운트된 숫자만큼 순서대로 숫자를 출력한다.\n",
    "\"\"\"\n",
    "import sys\n",
    "\n",
    "N = int(input())\n",
    "\n",
    "check_list = [0] * 10001\n",
    "\n",
    "for _ in range(N):\n",
    "    i = int(sys.stdin.readline())\n",
    "\n",
    "    check_list[i] = check_list[i] + 1\n",
    "\n",
    "for i in range(10001):\n",
    "    if check_list[i] != 0:\n",
    "        for j in range(check_list[i]):\n",
    "            print(i)\n"
   ]
  }
 ],
 "metadata": {
  "language_info": {
   "name": "python"
  },
  "orig_nbformat": 4
 },
 "nbformat": 4,
 "nbformat_minor": 2
}
