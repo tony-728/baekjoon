{
 "cells": [
  {
   "cell_type": "code",
   "execution_count": 5,
   "metadata": {},
   "outputs": [
    {
     "name": "stdout",
     "output_type": "stream",
     "text": [
      "1\n"
     ]
    }
   ],
   "source": [
    "# n의 약수들 중에서 k번째로 작은 수를 출력\n",
    "n, k = map(int, input().split())\n",
    "\n",
    "answer = [1]\n",
    "\n",
    "for i in range(2, n):\n",
    "    if n % i == 0:\n",
    "        answer.append(i)\n",
    "\n",
    "answer.append(n)\n",
    "\n",
    "if len(answer) < k:\n",
    "    print(0)\n",
    "else:\n",
    "    print(answer[k-1])"
   ]
  }
 ],
 "metadata": {
  "interpreter": {
   "hash": "1cb989b854fd988d6400614094cb807f874635294f3ee7ee8786de23886924c0"
  },
  "kernelspec": {
   "display_name": "Python 3.8.12 ('dev38')",
   "language": "python",
   "name": "python3"
  },
  "language_info": {
   "codemirror_mode": {
    "name": "ipython",
    "version": 3
   },
   "file_extension": ".py",
   "mimetype": "text/x-python",
   "name": "python",
   "nbconvert_exporter": "python",
   "pygments_lexer": "ipython3",
   "version": "3.8.12"
  },
  "orig_nbformat": 4
 },
 "nbformat": 4,
 "nbformat_minor": 2
}
