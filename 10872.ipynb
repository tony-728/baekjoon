{
 "cells": [
  {
   "cell_type": "code",
   "execution_count": 2,
   "metadata": {},
   "outputs": [
    {
     "name": "stdout",
     "output_type": "stream",
     "text": [
      "1\n"
     ]
    }
   ],
   "source": [
    "# 팩토리얼\n",
    "# 반복문 사용\n",
    "\n",
    "N = int(input())\n",
    "\n",
    "answer = 1\n",
    "for i in range(1, N+1):\n",
    "    answer *= i\n",
    "\n",
    "print(answer)"
   ]
  },
  {
   "cell_type": "code",
   "execution_count": 14,
   "metadata": {},
   "outputs": [
    {
     "name": "stdout",
     "output_type": "stream",
     "text": [
      "3628800\n"
     ]
    }
   ],
   "source": [
    "# 팩토리얼 \n",
    "# 재귀함수 사용\n",
    "# 단순 재귀함수는 런타임에러가 발생\n",
    "# 메모이제이션 기법으로 재귀함수를 빠르게 동작\n",
    "memo ={}\n",
    "def fact(n):\n",
    "    if n in memo:\n",
    "        return memo[n]\n",
    "    elif n == 0:\n",
    "        return 1\n",
    "    else:\n",
    "        x = fact(n-1) * n\n",
    "        memo[n] = x\n",
    "        return x\n",
    "\n",
    "a = fact(10)\n",
    "b = fact(20)\n",
    "print(a)"
   ]
  },
  {
   "cell_type": "code",
   "execution_count": null,
   "metadata": {},
   "outputs": [],
   "source": []
  }
 ],
 "metadata": {
  "interpreter": {
   "hash": "1cb989b854fd988d6400614094cb807f874635294f3ee7ee8786de23886924c0"
  },
  "kernelspec": {
   "display_name": "Python 3.8.12 ('dev38')",
   "language": "python",
   "name": "python3"
  },
  "language_info": {
   "codemirror_mode": {
    "name": "ipython",
    "version": 3
   },
   "file_extension": ".py",
   "mimetype": "text/x-python",
   "name": "python",
   "nbconvert_exporter": "python",
   "pygments_lexer": "ipython3",
   "version": "3.8.12"
  },
  "orig_nbformat": 4
 },
 "nbformat": 4,
 "nbformat_minor": 2
}
