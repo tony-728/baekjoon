{
 "cells": [
  {
   "cell_type": "code",
   "execution_count": 12,
   "metadata": {},
   "outputs": [
    {
     "ename": "ValueError",
     "evalue": "invalid literal for int() with base 10: ''",
     "output_type": "error",
     "traceback": [
      "\u001b[1;31m---------------------------------------------------------------------------\u001b[0m",
      "\u001b[1;31mValueError\u001b[0m                                Traceback (most recent call last)",
      "\u001b[1;32mc:\\Users\\ksang\\Dropbox\\CT\\baekjoon\\2300.ipynb Cell 1'\u001b[0m in \u001b[0;36m<module>\u001b[1;34m\u001b[0m\n\u001b[0;32m      <a href='vscode-notebook-cell:/c%3A/Users/ksang/Dropbox/CT/baekjoon/2300.ipynb#ch0000000?line=0'>1</a>\u001b[0m num_list \u001b[39m=\u001b[39m []\n\u001b[0;32m      <a href='vscode-notebook-cell:/c%3A/Users/ksang/Dropbox/CT/baekjoon/2300.ipynb#ch0000000?line=1'>2</a>\u001b[0m \u001b[39mfor\u001b[39;00m _ \u001b[39min\u001b[39;00m \u001b[39mrange\u001b[39m(\u001b[39m9\u001b[39m):\n\u001b[1;32m----> <a href='vscode-notebook-cell:/c%3A/Users/ksang/Dropbox/CT/baekjoon/2300.ipynb#ch0000000?line=2'>3</a>\u001b[0m     num \u001b[39m=\u001b[39m \u001b[39mint\u001b[39;49m(\u001b[39minput\u001b[39;49m())\n\u001b[0;32m      <a href='vscode-notebook-cell:/c%3A/Users/ksang/Dropbox/CT/baekjoon/2300.ipynb#ch0000000?line=3'>4</a>\u001b[0m     num_list\u001b[39m.\u001b[39mappend(num)\n\u001b[0;32m      <a href='vscode-notebook-cell:/c%3A/Users/ksang/Dropbox/CT/baekjoon/2300.ipynb#ch0000000?line=5'>6</a>\u001b[0m num_list \u001b[39m=\u001b[39m \u001b[39msorted\u001b[39m(num_list)\n",
      "\u001b[1;31mValueError\u001b[0m: invalid literal for int() with base 10: ''"
     ]
    }
   ],
   "source": [
    "num_list = []\n",
    "\n",
    "for _ in range(9):\n",
    "    a = int(input())\n",
    "    num_list.append(a)\n",
    "\n",
    "num_list = sorted(num_list)\n",
    "diff = sum(num_list) - 100\n",
    "\n",
    "count = 0\n",
    "check = 0\n",
    "\n",
    "while num_list:\n",
    "    a = num_list.pop(0)\n",
    "    if diff - a in num_list:\n",
    "        check = diff - a\n",
    "        continue\n",
    "\n",
    "    if a != check:\n",
    "        print(a)\n",
    "\n"
   ]
  },
  {
   "cell_type": "code",
   "execution_count": 32,
   "metadata": {},
   "outputs": [
    {
     "name": "stdout",
     "output_type": "stream",
     "text": [
      "[7, 8, 10, 13, 19, 20, 23]\n"
     ]
    }
   ],
   "source": [
    "# 입력의 총합에서 100\n",
    "num_list = [20, 7, 23, 19, 10, 15, 25, 8, 13]\n",
    "\n",
    "a, b = 0, 0\n",
    "\n",
    "num_list = sorted(num_list)\n",
    "\n",
    "for i in range(9):\n",
    "    for j in range(i+1, 9):\n",
    "        if sum(num_list) - (num_list[i] + num_list[j]) == 100:\n",
    "            a = num_list[i]\n",
    "            b = num_list[j]\n",
    "\n",
    "num_list.remove(a)\n",
    "num_list.remove(b)\n",
    "\n",
    "for i in num_list:\n",
    "    print(i)\n"
   ]
  },
  {
   "cell_type": "code",
   "execution_count": 31,
   "metadata": {},
   "outputs": [
    {
     "name": "stdout",
     "output_type": "stream",
     "text": [
      "7\n",
      "8\n",
      "10\n",
      "13\n",
      "19\n",
      "20\n",
      "23\n"
     ]
    }
   ],
   "source": [
    "# 1번째 방법 (temp, remove)\n",
    " \n",
    "n = 9\n",
    "temp1, temp2 = 0, 0\n",
    "arr = [int(input()) for _ in range(n)]\n",
    " \n",
    "for i in range(n):\n",
    "    for j in range(i+1, n):\n",
    "        if sum(arr) - (arr[i] + arr[j]) == 100:\n",
    "            temp1 = arr[i]\n",
    "            temp2 = arr[j]\n",
    " \n",
    "arr.remove(temp1)\n",
    "arr.remove(temp2)\n",
    " \n",
    "print('\\n'.join(map(str, sorted(arr))))"
   ]
  }
 ],
 "metadata": {
  "interpreter": {
   "hash": "1cb989b854fd988d6400614094cb807f874635294f3ee7ee8786de23886924c0"
  },
  "kernelspec": {
   "display_name": "Python 3.8.12 ('dev38')",
   "language": "python",
   "name": "python3"
  },
  "language_info": {
   "codemirror_mode": {
    "name": "ipython",
    "version": 3
   },
   "file_extension": ".py",
   "mimetype": "text/x-python",
   "name": "python",
   "nbconvert_exporter": "python",
   "pygments_lexer": "ipython3",
   "version": "3.8.12"
  },
  "orig_nbformat": 4
 },
 "nbformat": 4,
 "nbformat_minor": 2
}
