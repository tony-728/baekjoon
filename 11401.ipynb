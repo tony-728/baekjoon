{
 "cells": [
  {
   "cell_type": "code",
   "execution_count": null,
   "metadata": {},
   "outputs": [],
   "source": [
    "# 이항 계수3\n",
    "\n",
    "# 시간초과\n",
    "import sys\n",
    "\n",
    "n, k = map(int, sys.stdin.readline().split())\n",
    "\n",
    "if n//2 <= k:\n",
    "    k = n-k\n",
    "\n",
    "u = 1\n",
    "d = 1\n",
    "E = 1000000007\n",
    "\n",
    "for i in range(1, k+1):\n",
    "    u *= n\n",
    "    n-1\n",
    "\n",
    "    d *= k\n",
    "    k-1\n",
    "\n",
    "answer = (u / d) % E\n",
    "print(answer)\n"
   ]
  }
 ],
 "metadata": {
  "language_info": {
   "name": "python"
  },
  "orig_nbformat": 4
 },
 "nbformat": 4,
 "nbformat_minor": 2
}
