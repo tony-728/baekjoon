{
 "cells": [
  {
   "cell_type": "code",
   "execution_count": 1,
   "metadata": {},
   "outputs": [
    {
     "ename": "ValueError",
     "evalue": "not enough values to unpack (expected 2, got 0)",
     "output_type": "error",
     "traceback": [
      "\u001b[1;31m---------------------------------------------------------------------------\u001b[0m",
      "\u001b[1;31mValueError\u001b[0m                                Traceback (most recent call last)",
      "\u001b[1;32mc:\\Users\\ksang\\Dropbox\\CT\\baekjoon\\1018.ipynb Cell 1'\u001b[0m in \u001b[0;36m<module>\u001b[1;34m\u001b[0m\n\u001b[0;32m      <a href='vscode-notebook-cell:/c%3A/Users/ksang/Dropbox/CT/baekjoon/1018.ipynb#ch0000000?line=0'>1</a>\u001b[0m \u001b[39m# 체스판 다시 칠하기\u001b[39;00m\n\u001b[1;32m----> <a href='vscode-notebook-cell:/c%3A/Users/ksang/Dropbox/CT/baekjoon/1018.ipynb#ch0000000?line=2'>3</a>\u001b[0m N, M \u001b[39m=\u001b[39m \u001b[39mmap\u001b[39m(\u001b[39mint\u001b[39m, \u001b[39minput\u001b[39m()\u001b[39m.\u001b[39msplit()) \u001b[39m# 체스판의 가로x세로\u001b[39;00m\n\u001b[0;32m      <a href='vscode-notebook-cell:/c%3A/Users/ksang/Dropbox/CT/baekjoon/1018.ipynb#ch0000000?line=3'>4</a>\u001b[0m original \u001b[39m=\u001b[39m [] \u001b[39m# 원래의 판을 저장하기 위한 리스트\u001b[39;00m\n\u001b[0;32m      <a href='vscode-notebook-cell:/c%3A/Users/ksang/Dropbox/CT/baekjoon/1018.ipynb#ch0000000?line=4'>5</a>\u001b[0m count \u001b[39m=\u001b[39m []  \u001b[39m# 바뀐 채스판의 개수를 저장하기 위한 리스트\u001b[39;00m\n",
      "\u001b[1;31mValueError\u001b[0m: not enough values to unpack (expected 2, got 0)"
     ]
    }
   ],
   "source": [
    "# 체스판 다시 칠하기\n",
    "\n",
    "N, M = map(int, input().split()) # 체스판의 가로x세로\n",
    "original = [] # 원래의 판을 저장하기 위한 리스트\n",
    "count = []  # 바뀐 채스판의 개수를 저장하기 위한 리스트\n",
    "\n",
    "# 체스판 입력\n",
    "for _ in range(N):\n",
    "    original.append(input())\n",
    "\n",
    "\n",
    "# 체스 판에서 8x8로 자를 수 있는 범위의 시작점을 가리킨다.\n",
    "for a in range(N-7):\n",
    "    for b in range(M-7):\n",
    "        index1 = 0 # \"W\"로 시작할 경우 바뀐 체스 판의 개수를 세기 위함\n",
    "        index2 = 0 # \"B\"로 시작할 경우 바뀐 체스 판의 개수를 세기 위함\n",
    "\n",
    "        # 행과 열의 시작점 a, b를 기준으로 8칸씩 모두 체크한다.\n",
    "        for i in range(a, a+8):\n",
    "            for j in range(b, b+8):\n",
    "                # 행의 번호, 열의 번호의 합이 짝수면 시작점의 색깔과 같아야하고\n",
    "                if (i+j) % 2 == 0:\n",
    "                    if original[i][j] != 'W':\n",
    "                        index1 += 1\n",
    "                    if original[i][j] != 'B':\n",
    "                        index2 += 1\n",
    "                # 홀수이면 시작점의 색깔과 다른 색이어야 한다.\n",
    "                else:\n",
    "                    if original[i][j] != 'B':\n",
    "                        index1 += 1\n",
    "                    if original[i][j] != 'W':\n",
    "                        index2 += 1\n",
    "\n",
    "        # 가장 작은 값을 저장\n",
    "        count.append(min(index1, index2))\n",
    "\n",
    "print(min(count))"
   ]
  },
  {
   "cell_type": "code",
   "execution_count": null,
   "metadata": {},
   "outputs": [],
   "source": []
  }
 ],
 "metadata": {
  "interpreter": {
   "hash": "1cb989b854fd988d6400614094cb807f874635294f3ee7ee8786de23886924c0"
  },
  "kernelspec": {
   "display_name": "Python 3.8.12 ('dev38')",
   "language": "python",
   "name": "python3"
  },
  "language_info": {
   "codemirror_mode": {
    "name": "ipython",
    "version": 3
   },
   "file_extension": ".py",
   "mimetype": "text/x-python",
   "name": "python",
   "nbconvert_exporter": "python",
   "pygments_lexer": "ipython3",
   "version": "3.8.13"
  },
  "orig_nbformat": 4
 },
 "nbformat": 4,
 "nbformat_minor": 2
}
