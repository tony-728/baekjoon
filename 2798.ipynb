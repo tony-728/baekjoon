{
 "cells": [
  {
   "cell_type": "code",
   "execution_count": 19,
   "metadata": {},
   "outputs": [
    {
     "name": "stdout",
     "output_type": "stream",
     "text": [
      "497\n"
     ]
    }
   ],
   "source": [
    "# 블랙잭\n",
    "# 주어진 N개의 숫자 중 3개를 골라 M에 최대한 가깝게 만들어라\n",
    "\n",
    "N, M = 10, 500\n",
    "\n",
    "num_list = [93, 181, 245, 214, 315, 36, 185, 138, 216, 295]\n",
    "# N, M = map(int, input().split())  # 카드의 개수 N, 목표 숫자 M\n",
    "\n",
    "# num_list = list(map(int, input().split()))  # 카드에 쓰여진 숫자\n",
    "\n",
    "num_list = sorted(num_list, reverse=True)  # 정렬\n",
    "\n",
    "answer = 0\n",
    "for idx, num1 in enumerate(num_list[:-2]):\n",
    "    for idx2, num2 in enumerate(num_list[idx + 1 :-1]):\n",
    "        if num1 + num2 > M:\n",
    "            continue\n",
    "        num_list2 = num_list[idx + 1 :]\n",
    "        for num3 in num_list2[idx2+1:]:\n",
    "            target = num1 + num2 + num3\n",
    "            if M >= target:\n",
    "                if answer <= target:\n",
    "                    answer = target\n",
    "\n",
    "print(answer)\n"
   ]
  },
  {
   "cell_type": "code",
   "execution_count": 17,
   "metadata": {},
   "outputs": [
    {
     "data": {
      "text/plain": [
       "[1]"
      ]
     },
     "execution_count": 17,
     "metadata": {},
     "output_type": "execute_result"
    }
   ],
   "source": [
    "a = [1,2,3]\n",
    "\n",
    "a[:-2]"
   ]
  }
 ],
 "metadata": {
  "interpreter": {
   "hash": "1cb989b854fd988d6400614094cb807f874635294f3ee7ee8786de23886924c0"
  },
  "kernelspec": {
   "display_name": "Python 3.8.12 ('dev38')",
   "language": "python",
   "name": "python3"
  },
  "language_info": {
   "codemirror_mode": {
    "name": "ipython",
    "version": 3
   },
   "file_extension": ".py",
   "mimetype": "text/x-python",
   "name": "python",
   "nbconvert_exporter": "python",
   "pygments_lexer": "ipython3",
   "version": "3.8.12"
  },
  "orig_nbformat": 4
 },
 "nbformat": 4,
 "nbformat_minor": 2
}
