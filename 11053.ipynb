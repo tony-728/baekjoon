{
 "cells": [
  {
   "cell_type": "code",
   "execution_count": null,
   "metadata": {},
   "outputs": [],
   "source": [
    "# 가장 긴 증가하는 부분수열\n",
    "\"\"\"\n",
    "예를 들어, 수열 A = {10, 20, 10, 30, 20, 50} 인 경우에 가장 긴 증가하는 부분 수열은 A = {10, 20, 10, 30, 20, 50} 이고, 길이는 4이다.\n",
    "\"\"\"\n",
    "n = int(input()) # 수열의 크기\n",
    "\n",
    "a = list(map(int, input().split()))\n",
    "answer = 0\n",
    "\n",
    "s = a[0]\n",
    " \n",
    "for i in range(1, n+1):\n",
    "    if s < a[i]:\n",
    "        answer += 1\n",
    "        s = a[i]\n",
    "    "
   ]
  },
  {
   "cell_type": "code",
   "execution_count": 6,
   "metadata": {},
   "outputs": [
    {
     "ename": "TypeError",
     "evalue": "'int' object is not callable",
     "output_type": "error",
     "traceback": [
      "\u001b[1;31m---------------------------------------------------------------------------\u001b[0m",
      "\u001b[1;31mTypeError\u001b[0m                                 Traceback (most recent call last)",
      "\u001b[1;32mc:\\Users\\ksang\\Dropbox\\CT\\baekjoon\\11053.ipynb Cell 2'\u001b[0m in \u001b[0;36m<cell line: 7>\u001b[1;34m()\u001b[0m\n\u001b[0;32m      <a href='vscode-notebook-cell:/c%3A/Users/ksang/Dropbox/CT/baekjoon/11053.ipynb#ch0000001?line=8'>9</a>\u001b[0m     \u001b[39mfor\u001b[39;00m j \u001b[39min\u001b[39;00m \u001b[39mrange\u001b[39m(i):\n\u001b[0;32m     <a href='vscode-notebook-cell:/c%3A/Users/ksang/Dropbox/CT/baekjoon/11053.ipynb#ch0000001?line=9'>10</a>\u001b[0m         \u001b[39mif\u001b[39;00m a[i] \u001b[39m>\u001b[39m a[j]:\n\u001b[1;32m---> <a href='vscode-notebook-cell:/c%3A/Users/ksang/Dropbox/CT/baekjoon/11053.ipynb#ch0000001?line=10'>11</a>\u001b[0m             dp[i] \u001b[39m=\u001b[39m \u001b[39mmax\u001b[39;49m(dp[i], dp[j] \u001b[39m+\u001b[39;49m \u001b[39m1\u001b[39;49m)\n\u001b[0;32m     <a href='vscode-notebook-cell:/c%3A/Users/ksang/Dropbox/CT/baekjoon/11053.ipynb#ch0000001?line=12'>13</a>\u001b[0m \u001b[39mprint\u001b[39m(dp)\n",
      "\u001b[1;31mTypeError\u001b[0m: 'int' object is not callable"
     ]
    }
   ],
   "source": [
    "# 가장 긴 증가하는 부분수열\n",
    "\"\"\"\n",
    "예를 들어, 수열 A = {10, 20, 10, 30, 20, 50} 인 경우에 \n",
    "가장 긴 증가하는 부분 수열은 A = {10, 20, 10, 30, 20, 50} 이고, 길이는 4이다.\n",
    "\n",
    "예\n",
    "5\n",
    "1 4 2 3 5\n",
    "answer = 4\n",
    "\n",
    "https://4legs-study.tistory.com/106\n",
    "\n",
    "생각하기\n",
    "1. DP로 푸는 방법, 시간 복잡도 O(N^2)\n",
    "- 현재 확인하는 인덱스에서 최장 증가 부분수열을 확인한다.\n",
    "- 현재 확인한 최장 증가 수열의 길이가 다음 인덱스에 최장 증가 부분수열의 길이에 영향을 준다.\n",
    "    인덱스 0, 10일 때 최장 증가 부분수열은 10 이므로 길이는 1\n",
    "    인덱스 1, 20일 때 최장 증가 부분수열은 10, 20 이므로 길이는 2\n",
    "    인덱스 2, 10일 때 최장 증가 부분수열은 10, 20 이므로 길이는 2\n",
    "    인덱스 3, 30일 때 최장 증가 부분수열은 10, 20, 30이므로 길이는 3\n",
    "    인덱스 4, 20일 때 최장 증가 부분수열은 10, 20, 30이므로 길이는 3\n",
    "    인덱스 5, 50일 때 최장 증가 부분수열은 10, 20, 30, 50이므로 길이는 4이다.\n",
    "    -> 자세히 보면 앞 순서의 모든 원소에서 끝나는 최장 증가 수열들의 길이 중 가장 긴 것을 골라 1을 더한 것이 현재 수에서\n",
    "    끝나는 최장 증가 수열의 길이이다.\n",
    "- 코드로 확인하기 위해서는 현재인덱스를 확인할 때 처음인덱스부터 자신 바로 이전 인덱스까지 확인하면서 최장 증가 수열의 길이 중\n",
    "    가장 긴 것을 확인하여 저장하면 된다.\n",
    "\n",
    "2. 이분 탐색을 이용한 방법, O(NlogN)\n",
    "- 입력받은 배열을 최장 증가 수열을 확인하기 위한 배열에 최적의 위치를 갱신하는 방식이다.\n",
    "    1. 입력받은 배열과 동일한 길이의 빈 배열(a)을 선언한다.\n",
    "    2. a에 배열의 첫번째 원소를 추가한다. 다음 인덱스로 이동\n",
    "    3-1. 다음 인덱스가 배열 a에 마지막 수보다 크면 추가한다.\n",
    "    3-2. 만약 더 작다면 이분 탐색을 통해 a배열에 들어갈 위치를 찾아 갱신한다.\n",
    "    4. 위 과정을 반복한다. \n",
    "\"\"\"\n",
    "n = int(input())  # 수열의 크기\n",
    "\n",
    "a = list(map(int, input().split()))\n",
    "\n",
    "dp = [0] * n\n",
    "\n",
    "for i in range(n):\n",
    "    dp[i] = 1\n",
    "    for j in range(i):\n",
    "        if a[i] > a[j]:\n",
    "            dp[i] = max(dp[i], dp[j] + 1)\n",
    "\n",
    "print(dp)\n"
   ]
  },
  {
   "cell_type": "code",
   "execution_count": 3,
   "metadata": {},
   "outputs": [
    {
     "name": "stdout",
     "output_type": "stream",
     "text": [
      "3\n"
     ]
    }
   ],
   "source": [
    "\"\"\"\n",
    "2. 이분 탐색을 이용한 방법, O(NlogN)\n",
    "- 입력받은 배열을 최장 증가 수열을 확인하기 위한 배열에 최적의 위치를 갱신하는 방식이다.\n",
    "    1. 입력받은 배열과 동일한 길이의 빈 배열(a)을 선언한다.\n",
    "    2. a에 배열의 첫번째 원소를 추가한다. 다음 인덱스로 이동\n",
    "    3-1. 다음 인덱스가 배열 a에 마지막 수보다 크면 추가한다.\n",
    "    3-2. 만약 더 작다면 이분 탐색을 통해 a배열에 들어갈 위치를 찾아 갱신한다.\n",
    "    4. 위 과정을 반복한다. \n",
    "\"\"\"\n",
    "def binary_search(lst, start, end, element):\n",
    "    while start < end:\n",
    "        mid = (start + end) // 2\n",
    "        if element > lst[mid]:\n",
    "            start = mid + 1\n",
    "        else:\n",
    "            end = mid\n",
    "\n",
    "    return end\n",
    "\n",
    "\n",
    "answer = 0\n",
    "\n",
    "n = int(input())  # 수열의 크기\n",
    "\n",
    "a = list(map(int, input().split()))\n",
    "\n",
    "dp = []\n",
    "dp.append(a[0])\n",
    "\n",
    "for i in range(1, n):\n",
    "    if a[i] > dp[-1]:\n",
    "        dp.append(a[i])\n",
    "        answer = len(dp) - 1\n",
    "\n",
    "    pos = binary_search(dp, 0, answer, a[i])\n",
    "    dp[pos] = a[i]\n",
    "\n",
    "print(answer + 1)\n"
   ]
  }
 ],
 "metadata": {
  "interpreter": {
   "hash": "a0ce7580e0241c87cb8c01ed191ebfb528913cd035859f50059197555ebf95d7"
  },
  "kernelspec": {
   "display_name": "Python 3.9.11 ('dev39')",
   "language": "python",
   "name": "python3"
  },
  "language_info": {
   "codemirror_mode": {
    "name": "ipython",
    "version": 3
   },
   "file_extension": ".py",
   "mimetype": "text/x-python",
   "name": "python",
   "nbconvert_exporter": "python",
   "pygments_lexer": "ipython3",
   "version": "3.9.11"
  },
  "orig_nbformat": 4
 },
 "nbformat": 4,
 "nbformat_minor": 2
}
