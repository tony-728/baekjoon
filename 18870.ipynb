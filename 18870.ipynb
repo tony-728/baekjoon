{
 "cells": [
  {
   "cell_type": "code",
   "execution_count": null,
   "metadata": {},
   "outputs": [],
   "source": [
    "# 좌표 압축\n",
    "import sys\n",
    "\n",
    "N = int(input()) # 좌표의 개수\n",
    "\n",
    "coordinate = list(map(int, sys.stdin.readline().split()))\n",
    "answer = []\n",
    "\n",
    "for i in range(N):\n",
    "    source = coordinate[i]\n",
    "    count = 0\n",
    "    for c in set(coordinate):\n",
    "        if source - c > 0:\n",
    "            count += 1\n",
    "    \n",
    "    answer.append(count)\n",
    "\n",
    "for i in answer:\n",
    "    print(i, end=' ')"
   ]
  },
  {
   "cell_type": "code",
   "execution_count": 6,
   "metadata": {},
   "outputs": [
    {
     "name": "stdout",
     "output_type": "stream",
     "text": [
      "[-10, -9, 2, 4]\n"
     ]
    },
    {
     "data": {
      "text/plain": [
       "2"
      ]
     },
     "execution_count": 6,
     "metadata": {},
     "output_type": "execute_result"
    }
   ],
   "source": [
    "a = [2, 4, -10, 4, -9]\n",
    "\n",
    "b = sorted(set(a))\n",
    "\n",
    "print(b)\n",
    "b.index(2)\n"
   ]
  },
  {
   "cell_type": "code",
   "execution_count": null,
   "metadata": {},
   "outputs": [],
   "source": [
    "# 좌표 압축\n",
    "import sys\n",
    "\n",
    "N = int(input()) # 좌표의 개수\n",
    "\n",
    "coordinate = list(map(int, sys.stdin.readline().split()))\n",
    "\n",
    "sorted_coordinate = sorted(set(coordinate))\n",
    "\n",
    "dic = {sorted_coordinate[i]: i for i in range(len(sorted_coordinate))}\n",
    "\n",
    "for c in coordinate:\n",
    "    # list.index(i)의 형태는 시간복잡도 O(N)을 가지고 있고 그렇다면 매번 최대 1,000,000번의 수행이 이루어지게 돼서 시간초과가 나는 것이었다.\n",
    "    # list.index(i) 시간복잡도 O(N)\n",
    "    # index[i] 시간복잡도 O(1)\n",
    "    print(dic[c], end=' ')"
   ]
  }
 ],
 "metadata": {
  "interpreter": {
   "hash": "1cb989b854fd988d6400614094cb807f874635294f3ee7ee8786de23886924c0"
  },
  "kernelspec": {
   "display_name": "Python 3.8.13 ('dev38')",
   "language": "python",
   "name": "python3"
  },
  "language_info": {
   "codemirror_mode": {
    "name": "ipython",
    "version": 3
   },
   "file_extension": ".py",
   "mimetype": "text/x-python",
   "name": "python",
   "nbconvert_exporter": "python",
   "pygments_lexer": "ipython3",
   "version": "3.8.13"
  },
  "orig_nbformat": 4
 },
 "nbformat": 4,
 "nbformat_minor": 2
}
