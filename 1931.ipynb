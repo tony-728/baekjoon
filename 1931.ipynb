{
 "cells": [
  {
   "cell_type": "code",
   "execution_count": null,
   "metadata": {},
   "outputs": [],
   "source": [
    "# 회의실 배정\n",
    "\"\"\"\n",
    "각 회의가 겹치지 않게 하면서 회의실을 사용할 수 있는 회의의 최대 개수를 찾아보자. \n",
    "단, 회의는 한번 시작하면 중간에 중단될 수 없으며 한 회의가 끝나는 것과 동시에 다음 회의가 시작될 수 있다.\n",
    "회의의 시작시간과 끝나는 시간이 같을 수도 있다. \n",
    "\"\"\"\n",
    "import sys\n",
    "\n",
    "n = int(input())  # 회의의 수\n",
    "\n",
    "conference = []\n",
    "\n",
    "for _ in range(n):\n",
    "    # 시작시간과 종료시간\n",
    "    conference.append(list(map(int, sys.stdin.readline().split())))\n",
    "\n",
    "\"\"\"\n",
    "이렇게 정렬하는 이유\n",
    "- 종료 시간이 가장 빠른 순서로 정렬하여 가장 많은 회의를 할 수 있도록 한다.\n",
    "- 하지만 종료 시간으로만 정렬하는 경우 종료시간은 같지만 시작 시간이 오름차순이 아닐 수 있다.\n",
    "- 그러므로 먼저 시작 시간으로 정렬한 후에 종료 시간으로 졍렬하여 가장 많은 회의를 진행할 수 있도록 하였다.\n",
    "\"\"\"\n",
    "# 시작 시간 기준으로 정렬\n",
    "conference.sort(key=lambda x: x[0])\n",
    "# 종료 시간 기준으로 정렬\n",
    "conference.sort(key=lambda x: x[-1])\n",
    "\n",
    "count = 1\n",
    "s = conference[0][0]\n",
    "e = conference[0][1]\n",
    "\n",
    "for j in conference[1:]:\n",
    "    if j[0] >= e:\n",
    "        s = j[0]\n",
    "        e = j[1]\n",
    "        count += 1\n",
    "\n",
    "print(count)\n"
   ]
  }
 ],
 "metadata": {
  "interpreter": {
   "hash": "a0ce7580e0241c87cb8c01ed191ebfb528913cd035859f50059197555ebf95d7"
  },
  "kernelspec": {
   "display_name": "Python 3.9.11 ('dev39')",
   "language": "python",
   "name": "python3"
  },
  "language_info": {
   "codemirror_mode": {
    "name": "ipython",
    "version": 3
   },
   "file_extension": ".py",
   "mimetype": "text/x-python",
   "name": "python",
   "nbconvert_exporter": "python",
   "pygments_lexer": "ipython3",
   "version": "3.9.11"
  },
  "orig_nbformat": 4
 },
 "nbformat": 4,
 "nbformat_minor": 2
}
