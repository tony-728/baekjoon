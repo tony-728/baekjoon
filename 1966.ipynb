{
 "cells": [
  {
   "cell_type": "code",
   "execution_count": null,
   "metadata": {},
   "outputs": [],
   "source": [
    "# 프린터 큐\n",
    "import sys\n",
    "\n",
    "case = int(input())  # 테스트 케이스\n",
    "\n",
    "for _ in range(case):\n",
    "    count = 1\n",
    "\n",
    "    # 문서의 개수N, 궁금한 문서가 위치한 곳\n",
    "    N, M = map(int, sys.stdin.readline().split())\n",
    "    # 문서의 중요도 리스트\n",
    "    p = list(map(int, sys.stdin.readline().split()))\n",
    "\n",
    "    # 입력받은 문서에 인덱스를 추가한 리스트 생성\n",
    "    p = [(b, a) for a, b in enumerate(p)]\n",
    "    \n",
    "    # 찾고자 하는 문서\n",
    "    target = p[M]\n",
    "\n",
    "    while target in p:\n",
    "        max_p = max(p)\n",
    "\n",
    "        if p[0][0] == max_p[0]:\n",
    "            if p[0][1] == target[1]:\n",
    "                print(count)\n",
    "                break\n",
    "            else:\n",
    "                p.pop(0)\n",
    "                count += 1\n",
    "        else:\n",
    "            p.append(p.pop(0))\n"
   ]
  },
  {
   "cell_type": "code",
   "execution_count": 7,
   "metadata": {},
   "outputs": [
    {
     "name": "stdout",
     "output_type": "stream",
     "text": [
      "[(1, 0), (1, 1), (1, 2), (1, 3), (1, 4)]\n",
      "(1, 4)\n"
     ]
    }
   ],
   "source": [
    "x = [1,1,1,1,1]\n",
    "\n",
    "x = [(b, a) for a, b in enumerate(x)]\n",
    "print(x)\n",
    "print(max(x))"
   ]
  }
 ],
 "metadata": {
  "interpreter": {
   "hash": "a0ce7580e0241c87cb8c01ed191ebfb528913cd035859f50059197555ebf95d7"
  },
  "kernelspec": {
   "display_name": "Python 3.9.11 ('dev39')",
   "language": "python",
   "name": "python3"
  },
  "language_info": {
   "codemirror_mode": {
    "name": "ipython",
    "version": 3
   },
   "file_extension": ".py",
   "mimetype": "text/x-python",
   "name": "python",
   "nbconvert_exporter": "python",
   "pygments_lexer": "ipython3",
   "version": "3.9.11"
  },
  "orig_nbformat": 4
 },
 "nbformat": 4,
 "nbformat_minor": 2
}
