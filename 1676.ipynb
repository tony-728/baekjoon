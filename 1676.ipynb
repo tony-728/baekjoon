{
 "cells": [
  {
   "cell_type": "code",
   "execution_count": null,
   "metadata": {},
   "outputs": [],
   "source": [
    "# 팩토리얼 0의 개수\n",
    "\n",
    "import sys\n",
    "input = sys.stdin.readline\n",
    "\n",
    "n = int(input())\n",
    "\n",
    "def factorial(n):\n",
    "    answer = 1\n",
    "    count = 0\n",
    "    if n == 0 and n==1:\n",
    "        answer = 1\n",
    "\n",
    "    else:\n",
    "\n",
    "        for i in range(2, n+1):\n",
    "            answer *= i\n",
    "\n",
    "    answer = str(answer)\n",
    "    for i in range(len(answer), -1, -1):\n",
    "        if answer[-i] == '0':\n",
    "            count += 1\n",
    "        else:\n",
    "            break\n",
    "\n",
    "    return count\n",
    "\n",
    "print(factorial(10))"
   ]
  },
  {
   "cell_type": "code",
   "execution_count": 1,
   "metadata": {},
   "outputs": [
    {
     "data": {
      "text/plain": [
       "1"
      ]
     },
     "execution_count": 1,
     "metadata": {},
     "output_type": "execute_result"
    }
   ],
   "source": [
    "import math\n",
    "\n",
    "math.factorial(0)"
   ]
  },
  {
   "cell_type": "code",
   "execution_count": 5,
   "metadata": {},
   "outputs": [
    {
     "ename": "AttributeError",
     "evalue": "'str' object has no attribute '__reversed__'",
     "output_type": "error",
     "traceback": [
      "\u001b[1;31m---------------------------------------------------------------------------\u001b[0m",
      "\u001b[1;31mAttributeError\u001b[0m                            Traceback (most recent call last)",
      "\u001b[1;32mc:\\Users\\ksang\\Dropbox\\CT\\baekjoon\\1676.ipynb Cell 3'\u001b[0m in \u001b[0;36m<cell line: 2>\u001b[1;34m()\u001b[0m\n\u001b[0;32m      <a href='vscode-notebook-cell:/c%3A/Users/ksang/Dropbox/CT/baekjoon/1676.ipynb#ch0000002?line=0'>1</a>\u001b[0m a \u001b[39m=\u001b[39m \u001b[39m\"\u001b[39m\u001b[39m123\u001b[39m\u001b[39m\"\u001b[39m\n\u001b[1;32m----> <a href='vscode-notebook-cell:/c%3A/Users/ksang/Dropbox/CT/baekjoon/1676.ipynb#ch0000002?line=1'>2</a>\u001b[0m a\u001b[39m.\u001b[39;49m\u001b[39m__reversed__\u001b[39;49m\n",
      "\u001b[1;31mAttributeError\u001b[0m: 'str' object has no attribute '__reversed__'"
     ]
    }
   ],
   "source": [
    "a = \"123\"\n",
    "a.__reversed__"
   ]
  }
 ],
 "metadata": {
  "interpreter": {
   "hash": "a0ce7580e0241c87cb8c01ed191ebfb528913cd035859f50059197555ebf95d7"
  },
  "kernelspec": {
   "display_name": "Python 3.9.11 ('dev39')",
   "language": "python",
   "name": "python3"
  },
  "language_info": {
   "codemirror_mode": {
    "name": "ipython",
    "version": 3
   },
   "file_extension": ".py",
   "mimetype": "text/x-python",
   "name": "python",
   "nbconvert_exporter": "python",
   "pygments_lexer": "ipython3",
   "version": "3.9.11"
  },
  "orig_nbformat": 4
 },
 "nbformat": 4,
 "nbformat_minor": 2
}
