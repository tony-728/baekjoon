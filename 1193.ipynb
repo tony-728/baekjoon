{
 "cells": [
  {
   "cell_type": "code",
   "execution_count": null,
   "metadata": {},
   "outputs": [],
   "source": [
    "# 분수 찾기\n",
    "# 시간 초과 나옴\n",
    "\n",
    "\"\"\"\n",
    "솔루션\n",
    "- 순차적으로 탐색하므로 시간이 오래걸림\n",
    "\"\"\"\n",
    "x = int(input())\n",
    "\n",
    "u = 0\n",
    "d = 0\n",
    "count = 1\n",
    "\n",
    "while x > 0:\n",
    "    if u == 0 and d == 0:\n",
    "        u += 1\n",
    "        d += 1\n",
    "        x -= 1\n",
    "\n",
    "    else:\n",
    "        for _ in range(count):\n",
    "            if x == 0:\n",
    "                break\n",
    "\n",
    "            if count % 2 == 0:\n",
    "                if u == 1 and d != count:\n",
    "                    d += 1\n",
    "                elif d > 1:\n",
    "                    u += 1\n",
    "                    d -= 1\n",
    "\n",
    "            else:\n",
    "                if d == 1 and u != count:\n",
    "                    u += 1\n",
    "                elif u > 1:\n",
    "                    u -= 1\n",
    "                    d += 1\n",
    "\n",
    "            x -= 1\n",
    "\n",
    "    count += 1\n",
    "\n",
    "print(f\"{u}/{d}\")\n"
   ]
  },
  {
   "cell_type": "code",
   "execution_count": 29,
   "metadata": {},
   "outputs": [
    {
     "name": "stdout",
     "output_type": "stream",
     "text": [
      "c 15\n",
      "m 6\n",
      "5/1\n"
     ]
    }
   ],
   "source": [
    "# 분수찾기\n",
    "\n",
    "\"\"\"\n",
    "솔루션\n",
    "- 배열에 규칙성\n",
    " -> 1 / 1,2 / 3,2,1 / 1,2,3,4 / 5,4,3,2,1 / ...\n",
    " -> 배열은 총 개수가 계차가 n인 계차수열을 이룬다. 1,2,3,4,5, ... \n",
    "- 먼저 입력받은 숫자가 수열의 몇번째 항에 속하는지 찾는다.\n",
    "\"\"\"\n",
    "\n",
    "x = int(input())\n",
    "count = 0 # 찾고자하는 수가 속하는 배열의 마지막 수를 찾기 위함\n",
    "multiple = 1 # 계차\n",
    "\n",
    "# 계차를 증가하면서 찾고자하는 수가 계차수열에 몇번째 항에 속하는지 찾는다.\n",
    "while count < x:\n",
    "    count += multiple\n",
    "    multiple += 1\n",
    "\n",
    "# print('c', count)\n",
    "# print('m', multiple)\n",
    "\n",
    "u = 0\n",
    "d = 0\n",
    "multiple -= 1 # 마지막에 1을 증가해서 while문을 나왔기 때문에 1을 뺀다.\n",
    "\n",
    "# 계차가 짝수이면 분모는 1부터 시작, 홀수는 반대\n",
    "if multiple % 2 == 0:\n",
    "    u = multiple\n",
    "    d = 1\n",
    "else:\n",
    "    u = 1\n",
    "    d = multiple\n",
    "\n",
    "# 입력받은 수가 몇번째 항인지 찾는다.\n",
    "for i in range(count, x, -1):\n",
    "    if multiple % 2 == 0:\n",
    "        u -= 1\n",
    "        d += 1\n",
    "    else:\n",
    "        u += 1\n",
    "        d -= 1\n",
    "\n",
    "print(f\"{u}/{d}\")"
   ]
  }
 ],
 "metadata": {
  "interpreter": {
   "hash": "1cb989b854fd988d6400614094cb807f874635294f3ee7ee8786de23886924c0"
  },
  "kernelspec": {
   "display_name": "Python 3.8.12 ('dev38')",
   "language": "python",
   "name": "python3"
  },
  "language_info": {
   "codemirror_mode": {
    "name": "ipython",
    "version": 3
   },
   "file_extension": ".py",
   "mimetype": "text/x-python",
   "name": "python",
   "nbconvert_exporter": "python",
   "pygments_lexer": "ipython3",
   "version": "3.8.12"
  },
  "orig_nbformat": 4
 },
 "nbformat": 4,
 "nbformat_minor": 2
}
