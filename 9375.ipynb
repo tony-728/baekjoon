{
 "cells": [
  {
   "cell_type": "code",
   "execution_count": null,
   "metadata": {},
   "outputs": [],
   "source": [
    "# 패션왕 신해빈\n",
    "'''\n",
    "해빈이는 패션에 매우 민감해서 한번 입었던 옷들의 조합을 절대 다시 입지 않는다.\n",
    "예를 들어 오늘 해빈이가 안경, 코트, 상의, 신발을 입었다면,\n",
    "다음날은 바지를 추가로 입거나 안경대신 렌즈를 착용하거나 해야한다.\n",
    "해빈이가 가진 의상들이 주어졌을때 과연 해빈이는 알몸이 아닌 상태로 며칠동안 밖에 돌아다닐 수 있을까?\n",
    "'''\n",
    "'''\n",
    "생각하기\n",
    "- 의상 종류를 조합하여 입을 수 있는 모든 종류를 구하는 문제이다.\n",
    "- 모든 경우의 수를 생각하면 된다.\n",
    "    -> 상의를 입는 경우 * 하의를 입는 경우 * 모자를 입는 경우 = 의상을 입는 모든 경우의 수...\n",
    "    -> 여기서 입지않는 경우도 추가해야한다. 왜냐하면 하나 이상의 의상만 입어도 되기 때문\n",
    "    -> 다시 정리하면 상의를 입을 수 있는 경우+1(입지 않는 경우) * 하의를 입는 경우+1 * 모자를 입는 경우+1 - 1(모든 의상을 입지 않는 경우)\n",
    "    -> 위 식으로 계산하게 되면 모든 의상을 입지 않는 경우가 발생한다. 때문에 모든 의상을 입지 않는 경우를 제외해야 한다.\n",
    "'''\n",
    "import sys\n",
    "\n",
    "input = sys.stdin.readline\n",
    "\n",
    "n = int(input())\n",
    "\n",
    "for _ in range(n):\n",
    "    t = int(input())\n",
    "    clothes = {}\n",
    "    answer = 1\n",
    "    for _ in range(t):\n",
    "        name, kinds = input().split()\n",
    "        if kinds in clothes:\n",
    "            clothes[kinds] += 1\n",
    "        else:\n",
    "            clothes[kinds] = 1\n",
    "\n",
    "    for i in clothes.values():\n",
    "        answer *= i + 1\n",
    "\n",
    "    print(answer - 1)\n"
   ]
  }
 ],
 "metadata": {
  "interpreter": {
   "hash": "a0ce7580e0241c87cb8c01ed191ebfb528913cd035859f50059197555ebf95d7"
  },
  "kernelspec": {
   "display_name": "Python 3.9.11 ('dev39')",
   "language": "python",
   "name": "python3"
  },
  "language_info": {
   "codemirror_mode": {
    "name": "ipython",
    "version": 3
   },
   "file_extension": ".py",
   "mimetype": "text/x-python",
   "name": "python",
   "nbconvert_exporter": "python",
   "pygments_lexer": "ipython3",
   "version": "3.9.11"
  },
  "orig_nbformat": 4
 },
 "nbformat": 4,
 "nbformat_minor": 2
}
