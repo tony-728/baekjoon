{
 "cells": [
  {
   "cell_type": "code",
   "execution_count": 4,
   "metadata": {},
   "outputs": [
    {
     "name": "stdout",
     "output_type": "stream",
     "text": [
      "1827\n"
     ]
    }
   ],
   "source": [
    "# 벌집\n",
    "\"\"\"\n",
    "지나가야하는 방의 개수 1개 : 1\n",
    "\n",
    "지나가야하는 방의 개수 2개 : 2, 3, 4, 5, 6, 7\n",
    "\n",
    "지나가야하는 방의 개수 3개 : 8, 9, 10, 11, 12, 13, 14, 15, 16, 17, 18, 19\n",
    "\n",
    "지나가야하는 방의 개수 4개 : 20 ~ 37\n",
    "\n",
    "지나가야하는 방의 개수 5개 : 38 ~ 61\n",
    "\n",
    " \n",
    "\n",
    "방을 1개 거쳐야 하는 숫자는 1개,\n",
    "\n",
    "2개 거쳐야 하는 숫자는 6개,\n",
    "\n",
    "3개 거쳐야 하는 숫자는 12개,\n",
    "\n",
    "4개 거쳐야 하는 숫자는 18개,\n",
    "\n",
    "5개 거쳐야 하는 숫자는 24개 ...\n",
    "\n",
    "이렇게 6씩 증가하는걸 볼 수 있다.\n",
    "\n",
    "6씩 더할 변수(cnt_six)를 만들어 주고\n",
    "\n",
    "초기값(cnt = 1)을 만들어 준 뒤\n",
    "\n",
    "초기값에 cnt_six를 더해주고 count를 증가시켜주며 cnt_six에 6을 더해준다.(cnt값이 n보다 커질때 까지)\n",
    "\n",
    "count를 출력해준다.\n",
    "\"\"\"\n",
    "n = int(input())\n",
    "\n",
    "nums_pileup = 1 # 벌집의 개수\n",
    "count = 1\n",
    "\n",
    "while n > nums_pileup:\n",
    "    nums_pileup += 6 * count # 벌집이 6의 배수로 증가\n",
    "    count += 1\n",
    "\n",
    "print(count)"
   ]
  }
 ],
 "metadata": {
  "interpreter": {
   "hash": "1cb989b854fd988d6400614094cb807f874635294f3ee7ee8786de23886924c0"
  },
  "kernelspec": {
   "display_name": "Python 3.8.12 ('dev38')",
   "language": "python",
   "name": "python3"
  },
  "language_info": {
   "codemirror_mode": {
    "name": "ipython",
    "version": 3
   },
   "file_extension": ".py",
   "mimetype": "text/x-python",
   "name": "python",
   "nbconvert_exporter": "python",
   "pygments_lexer": "ipython3",
   "version": "3.8.12"
  },
  "orig_nbformat": 4
 },
 "nbformat": 4,
 "nbformat_minor": 2
}
