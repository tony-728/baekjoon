{
 "cells": [
  {
   "cell_type": "code",
   "execution_count": 10,
   "metadata": {},
   "outputs": [
    {
     "data": {
      "text/plain": [
       "17"
      ]
     },
     "execution_count": 10,
     "metadata": {},
     "output_type": "execute_result"
    }
   ],
   "source": [
    "17 % 10**9"
   ]
  },
  {
   "cell_type": "code",
   "execution_count": 9,
   "metadata": {},
   "outputs": [
    {
     "name": "stdout",
     "output_type": "stream",
     "text": [
      "17\n"
     ]
    }
   ],
   "source": [
    "\"\"\"\n",
    "쉬운 계단 수\n",
    "45656이란 수를 보자.\n",
    "\n",
    "이 수는 인접한 모든 자리의 차이가 1이다. 이런 수를 계단 수라고 한다.\n",
    "\n",
    "N이 주어질 때, 길이가 N인 계단 수가 총 몇 개 있는지 구해보자. 0으로 시작하는 수는 계단수가 아니다.\n",
    "\n",
    "\n",
    "생각하기\n",
    "- 규칙성 찾기\n",
    "-> 자리수가 1일 때\n",
    " - 맨 뒤에 올 수 있는 경우의 수는 1~9, 9개이다. \n",
    " -> 자리수가 2일 때\n",
    " - 맨 뒤에 0이 올 수 있는 경우의 수: 10, 1개\n",
    " - 맨 뒤에 1이 올 수 있는 경우의 수: 21, 1개\n",
    " - 맨 뒤에 2가 올 수 있는 경우의 수: 12, 32, 2개\n",
    " - ....\n",
    "            0 1 2 3 4 5 6 7 8 9\n",
    "자리수(1)   0 1 1 1 1 1 1 1 1 1\n",
    "자리수(2)   1 1 2 2 2 2 2 2 2 1\n",
    "자리수(3)   1 3 3 4 4 4 4 4 3 2\n",
    "\n",
    "규칙을 살펴 보면 해당 위치의 다각선 위 위치의 숫자들의 합인것을 확인할 수 있다.\n",
    "왜냐하면 예를 들어 3이 맨 뒷자리에 가려면 앞을 2나 4가 와야한다.\n",
    " -> 3자리의 계단수는 123, 323, 343, 543이 있다. 다시 살펴보면 12, 32, 34, 54이다.\n",
    "\"\"\"\n",
    "\n",
    "\n",
    "N = int(input())\n",
    "# dp 테이블 만들기 2차원 배열\n",
    "# 자리수 X 각 자리수에서 맨 뒤에 올 수 있는 숫자의 개수\n",
    "dp = [[0 for _ in range(10)] for _ in range(N+1)]\n",
    "\n",
    "# 자리수가 1개일 때 0을 제외한 숫자는 1개씩 올 수 있다.\n",
    "for i in range(1, 10):\n",
    "    dp[1][i] = 1\n",
    "\n",
    "\n",
    "for i in range(2, N + 1):\n",
    "    for j in range(10):\n",
    "        if j == 0: # 맨뒤에 오는 숫자가 0일 때\n",
    "            dp[i][j] = dp[i - 1][1]\n",
    "        elif j == 9: # 맨뒤에 오는 숫자가 9일 때\n",
    "            dp[i][j] = dp[i - 1][8]\n",
    "        else:\n",
    "            dp[i][j] = dp[i - 1][j - 1] + dp[i - 1][j + 1]\n",
    "            \n",
    "print(sum(dp[N]) % 10**9)"
   ]
  }
 ],
 "metadata": {
  "interpreter": {
   "hash": "a0ce7580e0241c87cb8c01ed191ebfb528913cd035859f50059197555ebf95d7"
  },
  "kernelspec": {
   "display_name": "Python 3.9.11 ('dev39')",
   "language": "python",
   "name": "python3"
  },
  "language_info": {
   "codemirror_mode": {
    "name": "ipython",
    "version": 3
   },
   "file_extension": ".py",
   "mimetype": "text/x-python",
   "name": "python",
   "nbconvert_exporter": "python",
   "pygments_lexer": "ipython3",
   "version": "3.9.11"
  },
  "orig_nbformat": 4
 },
 "nbformat": 4,
 "nbformat_minor": 2
}
