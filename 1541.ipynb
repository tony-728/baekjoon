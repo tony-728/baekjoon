{
 "cells": [
  {
   "cell_type": "code",
   "execution_count": 6,
   "metadata": {},
   "outputs": [],
   "source": [
    "# 잃어버린 괄호\n",
    "\n",
    "import sys\n",
    "\n",
    "expression = sys.stdin.readline().rstrip()\n",
    "\n",
    "\"\"\"\n",
    "빼기 연산자가 나타나고 괄호를 열어서 다음 빼기가 나올 때까지 혹은 식이 끝날 때 괄호를 닫는다.\n",
    "\"\"\"\n",
    "answer = []\n",
    "bracket = False\n",
    "\n",
    "num = \"\"\n",
    "\n",
    "for i in range(len(expression)):\n",
    "    if expression[i].isdigit():\n",
    "        num += expression[i]\n",
    "    else:\n",
    "        answer.append(str(int(num)))\n",
    "        answer.append(expression[i])\n",
    "        if expression[i] == \"-\":\n",
    "            if not bracket:\n",
    "                answer.append(\"(\")\n",
    "                bracket = True\n",
    "            else:\n",
    "                answer.append(\")\")\n",
    "                bracket = False\n",
    "\n",
    "        num = \"\"\n",
    "\n",
    "answer.append(str(int(num)))\n",
    "if bracket:\n",
    "    answer.append(\")\")\n",
    "\n",
    "print(eval(\"\".join(answer)))\n"
   ]
  },
  {
   "cell_type": "code",
   "execution_count": 12,
   "metadata": {},
   "outputs": [
    {
     "name": "stdout",
     "output_type": "stream",
     "text": [
      "55\n",
      "50+40\n"
     ]
    }
   ],
   "source": [
    "# 잃어버린 괄호\n",
    "\n",
    "import sys\n",
    "\n",
    "expression = sys.stdin.readline().rstrip()\n",
    "\n",
    "\"\"\"\n",
    "양수와 +, -, 그리고 괄호를 가지고 식을 만들었다. 그리고 나서 세준이는 괄호를 모두 지웠다.\n",
    "\n",
    "그리고 나서 세준이는 괄호를 적절히 쳐서 이 식의 값을 최소로 만들려고 한다.\n",
    "\n",
    "생각하기\n",
    "- 주어진 식에서 값을 최소로 만들기 위해서는 - 가 나온 이후로는 모두 뺄셈 연산을 해주면 된다.\n",
    "- 그렇게 되면 적절히 괄호를 쳐서 최소로 만든 값과 동일하다\n",
    "\"\"\"\n",
    "answer = 0\n",
    "plus = True\n",
    "\n",
    "num = \"\"\n",
    "\n",
    "for i in range(len(expression)):\n",
    "    if expression[i].isdigit():\n",
    "        num += expression[i]\n",
    "    else:\n",
    "        if plus:\n",
    "            answer += int(num)\n",
    "            if expression[i] == \"-\":\n",
    "                plus = False\n",
    "        else:\n",
    "            answer -= int(num)\n",
    "\n",
    "        num = \"\"\n",
    "\n",
    "if plus:\n",
    "    answer += int(num)\n",
    "else:\n",
    "    answer -= int(num)\n",
    "print(answer)\n"
   ]
  }
 ],
 "metadata": {
  "interpreter": {
   "hash": "a0ce7580e0241c87cb8c01ed191ebfb528913cd035859f50059197555ebf95d7"
  },
  "kernelspec": {
   "display_name": "Python 3.9.11 ('dev39')",
   "language": "python",
   "name": "python3"
  },
  "language_info": {
   "codemirror_mode": {
    "name": "ipython",
    "version": 3
   },
   "file_extension": ".py",
   "mimetype": "text/x-python",
   "name": "python",
   "nbconvert_exporter": "python",
   "pygments_lexer": "ipython3",
   "version": "3.9.11"
  },
  "orig_nbformat": 4
 },
 "nbformat": 4,
 "nbformat_minor": 2
}
