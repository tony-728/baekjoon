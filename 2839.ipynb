{
 "cells": [
  {
   "cell_type": "code",
   "execution_count": 11,
   "metadata": {},
   "outputs": [
    {
     "name": "stdout",
     "output_type": "stream",
     "text": [
      "3\n"
     ]
    }
   ],
   "source": [
    "# 설탕 배달\n",
    "\n",
    "n = int(input())\n",
    "\n",
    "a = 5\n",
    "b = 3\n",
    "count = 0\n",
    "\n",
    "# 10의 배수로 만들자\n",
    "while True:\n",
    "    if n % 5 == 0:\n",
    "        count += n // 5\n",
    "        break\n",
    "    else:\n",
    "        n -= b\n",
    "        count += 1\n",
    "        if n == 0:\n",
    "            break\n",
    "        elif n < 0:\n",
    "            count = -1\n",
    "            break\n",
    "        \n",
    "print(count)\n",
    "\n"
   ]
  }
 ],
 "metadata": {
  "interpreter": {
   "hash": "1cb989b854fd988d6400614094cb807f874635294f3ee7ee8786de23886924c0"
  },
  "kernelspec": {
   "display_name": "Python 3.8.12 ('dev38')",
   "language": "python",
   "name": "python3"
  },
  "language_info": {
   "codemirror_mode": {
    "name": "ipython",
    "version": 3
   },
   "file_extension": ".py",
   "mimetype": "text/x-python",
   "name": "python",
   "nbconvert_exporter": "python",
   "pygments_lexer": "ipython3",
   "version": "3.8.12"
  },
  "orig_nbformat": 4
 },
 "nbformat": 4,
 "nbformat_minor": 2
}
