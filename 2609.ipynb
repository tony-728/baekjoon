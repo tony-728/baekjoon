{
 "cells": [
  {
   "cell_type": "code",
   "execution_count": 21,
   "metadata": {},
   "outputs": [
    {
     "name": "stdout",
     "output_type": "stream",
     "text": [
      "6\n",
      "1170\n"
     ]
    }
   ],
   "source": [
    "a, b = input().split()\n",
    "\n",
    "a = int(a)\n",
    "tempa = a\n",
    "b = int(b)\n",
    "tempb = b\n",
    "\n",
    "# a, b의 최대공약수, 최소 공배수\n",
    "greatest_common_factor = 0\n",
    "least_common_multiple = 0\n",
    "\n",
    "for i in range(1, max(a, b) + 1):\n",
    "    if a % i == 0 and b % i == 0:\n",
    "        greatest_common_factor = i\n",
    "\n",
    "    if tempa > tempb:\n",
    "        tempb += b\n",
    "\n",
    "    elif tempa < tempb:\n",
    "        tempa += a\n",
    "\n",
    "    elif tempa == tempb:\n",
    "        least_common_multiple = tempa\n",
    "        \n",
    "\n",
    "\n",
    "print(greatest_common_factor)\n",
    "print(least_common_multiple)\n"
   ]
  },
  {
   "cell_type": "code",
   "execution_count": null,
   "metadata": {},
   "outputs": [],
   "source": [
    "gcd = 0\n",
    "lcm = 0\n",
    "\n",
    "# 시간 초과가 나올 수 있다.\n",
    "\n",
    "# 입력받은 두 수가 모두 나눠 떨어지면 최대공약수\n",
    "for i in range(min(a, b), 0, -1):\n",
    "    if a % i == 0 and b % i == 0:\n",
    "        gcd = i\n",
    "        break\n",
    "\n",
    "# 두 수 중 가장 큰 수부터 두 수의 곱까지 루프를 돌면서\n",
    "# 입력받은 수로 나눠떨어지는 가장 작은 수가 최소공배수\n",
    "for i in range(max(a, b), (a*b)+1):\n",
    "    if i % a == 0 and i % b == 0:\n",
    "        lcm = i\n",
    "        break"
   ]
  },
  {
   "cell_type": "code",
   "execution_count": 23,
   "metadata": {},
   "outputs": [
    {
     "name": "stdout",
     "output_type": "stream",
     "text": [
      "2\n"
     ]
    }
   ],
   "source": [
    "# 유클리드 호제법\n",
    "\n",
    "\"\"\"\n",
    "x, y의 최대공약수는 r의 최대공약수와 같다\n",
    "(x%y = r)\n",
    "\"\"\"\n",
    "def GCD(x, y):\n",
    "    while y:\n",
    "        x, y = y, x%y\n",
    "    \n",
    "    return x\n",
    "\n",
    "# 최소공배수는 입력받은 수의 곱을 최대공약수로 나눠준 몫과 같다.\n",
    "def LCM(x, y):\n",
    "    result = (x*y) // GCD(x, y)\n",
    "    return result\n",
    "    \n",
    "print(GCD(12, 10))"
   ]
  },
  {
   "cell_type": "code",
   "execution_count": 5,
   "metadata": {},
   "outputs": [
    {
     "name": "stdout",
     "output_type": "stream",
     "text": [
      "6\n",
      "72\n"
     ]
    }
   ],
   "source": [
    "import math\n",
    "\n",
    "a, b = input().split()\n",
    "a, b = int(a), int(b)\n",
    "\n",
    "gcd = math.gcd(a,b)\n",
    "\n",
    "print(gcd)\n",
    "print((a*b) // gcd)"
   ]
  }
 ],
 "metadata": {
  "interpreter": {
   "hash": "1cb989b854fd988d6400614094cb807f874635294f3ee7ee8786de23886924c0"
  },
  "kernelspec": {
   "display_name": "Python 3.8.12 ('dev38')",
   "language": "python",
   "name": "python3"
  },
  "language_info": {
   "codemirror_mode": {
    "name": "ipython",
    "version": 3
   },
   "file_extension": ".py",
   "mimetype": "text/x-python",
   "name": "python",
   "nbconvert_exporter": "python",
   "pygments_lexer": "ipython3",
   "version": "3.8.12"
  },
  "orig_nbformat": 4
 },
 "nbformat": 4,
 "nbformat_minor": 2
}
