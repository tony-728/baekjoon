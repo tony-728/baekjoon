{
 "cells": [
  {
   "cell_type": "code",
   "execution_count": 41,
   "metadata": {},
   "outputs": [
    {
     "name": "stdout",
     "output_type": "stream",
     "text": [
      "-2\n",
      "-1\n",
      "-1\n",
      "2\n"
     ]
    }
   ],
   "source": [
    "# 통계학\n",
    "# 산술평균, 중아값, 최빈값, 범위\n",
    "\n",
    "import operator\n",
    "import sys\n",
    "\n",
    "N = int(input()) # 홀수 \n",
    "\n",
    "total = 0\n",
    "\n",
    "dic = {}\n",
    "\n",
    "for _ in range(N):\n",
    "    i = int(sys.stdin.readline())\n",
    "    total += i\n",
    "    if i in dic:\n",
    "        dic[i] += 1\n",
    "    else:\n",
    "        dic[i] = 1\n",
    "\n",
    "lst = sorted(dic.items(), key=operator.itemgetter(0))\n",
    "\n",
    "fin_list = []\n",
    "for item in lst:\n",
    "    for _ in range(item[1]):\n",
    "        fin_list.append(item[0])\n",
    "\n",
    "dic = sorted(dic.items(), key=operator.itemgetter(1), reverse=True)\n",
    "\n",
    "most_common = []\n",
    "count = 0\n",
    "\n",
    "for i in dic:\n",
    "    if count == 0:\n",
    "        most_common.append(i[0])\n",
    "        count = i[1]\n",
    "    else:\n",
    "        if count > i[1]:\n",
    "            break\n",
    "        elif count == i[1]:\n",
    "            most_common.append(i[0])\n",
    "\n",
    "most_common = sorted(most_common)\n",
    "if len(most_common) >= 2:\n",
    "    most_common = most_common[1]\n",
    "else:\n",
    "    most_common = most_common[0]\n",
    "\n",
    "print(round(total / N))\n",
    "print(fin_list[N//2]) # 중복된 값이 있으면 제거\n",
    "print(most_common)\n",
    "print(fin_list[-1] - fin_list[0])"
   ]
  },
  {
   "cell_type": "code",
   "execution_count": 29,
   "metadata": {},
   "outputs": [
    {
     "name": "stdout",
     "output_type": "stream",
     "text": [
      "[(3, 2), (8, 2), (-2, 2), (1, 1), (2, 1)]\n",
      "{1: 1, 3: 2, 8: 2, -2: 2, 2: 1}\n",
      "(1, 1)\n",
      "(3, 2)\n",
      "(8, 2)\n",
      "(-2, 2)\n",
      "(2, 1)\n"
     ]
    }
   ],
   "source": [
    "import operator\n",
    "a = {1: 1, 3:2, 8:2, -2:2, 2:1}\n",
    "\n",
    "print(sorted(a.items(), key=operator.itemgetter(1), reverse=True))\n",
    "print(a)\n",
    "\n",
    "for i in a.items():\n",
    "    print(i)\n"
   ]
  },
  {
   "cell_type": "code",
   "execution_count": 22,
   "metadata": {},
   "outputs": [
    {
     "data": {
      "text/plain": [
       "True"
      ]
     },
     "execution_count": 22,
     "metadata": {},
     "output_type": "execute_result"
    }
   ],
   "source": [
    "a = {1: 1, 3:2, 8:2, -2:2, 2:1}\n",
    "\n",
    "\n",
    "1 in a"
   ]
  }
 ],
 "metadata": {
  "interpreter": {
   "hash": "1cb989b854fd988d6400614094cb807f874635294f3ee7ee8786de23886924c0"
  },
  "kernelspec": {
   "display_name": "Python 3.8.12 ('dev38')",
   "language": "python",
   "name": "python3"
  },
  "language_info": {
   "codemirror_mode": {
    "name": "ipython",
    "version": 3
   },
   "file_extension": ".py",
   "mimetype": "text/x-python",
   "name": "python",
   "nbconvert_exporter": "python",
   "pygments_lexer": "ipython3",
   "version": "3.8.12"
  },
  "orig_nbformat": 4
 },
 "nbformat": 4,
 "nbformat_minor": 2
}
