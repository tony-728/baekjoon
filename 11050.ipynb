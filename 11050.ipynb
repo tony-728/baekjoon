{
 "cells": [
  {
   "cell_type": "code",
   "execution_count": null,
   "metadata": {},
   "outputs": [],
   "source": [
    "# 이항 계수1\n",
    "import sys\n",
    "\n",
    "input = sys.stdin.readline\n",
    "n, k = map(int, input().split())\n",
    "\n",
    "u = 1\n",
    "\n",
    "for i in range(k):\n",
    "    u *= n - i\n",
    "\n",
    "d = 1\n",
    "for i in range(k):\n",
    "    d *= k - i\n",
    "\n",
    "print(u // d)\n"
   ]
  }
 ],
 "metadata": {
  "language_info": {
   "name": "python"
  },
  "orig_nbformat": 4
 },
 "nbformat": 4,
 "nbformat_minor": 2
}
