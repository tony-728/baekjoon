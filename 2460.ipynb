{
 "cells": [
  {
   "cell_type": "code",
   "execution_count": 10,
   "metadata": {},
   "outputs": [
    {
     "ename": "IndexError",
     "evalue": "list index out of range",
     "output_type": "error",
     "traceback": [
      "\u001b[1;31m---------------------------------------------------------------------------\u001b[0m",
      "\u001b[1;31mIndexError\u001b[0m                                Traceback (most recent call last)",
      "\u001b[1;32mc:\\Users\\ksang\\Dropbox\\CT\\baekjoon\\2460.ipynb Cell 1'\u001b[0m in \u001b[0;36m<module>\u001b[1;34m\u001b[0m\n\u001b[0;32m      <a href='vscode-notebook-cell:/c%3A/Users/ksang/Dropbox/CT/baekjoon/2460.ipynb#ch0000000?line=2'>3</a>\u001b[0m \u001b[39mfor\u001b[39;00m _ \u001b[39min\u001b[39;00m \u001b[39mrange\u001b[39m(\u001b[39m10\u001b[39m):\n\u001b[0;32m      <a href='vscode-notebook-cell:/c%3A/Users/ksang/Dropbox/CT/baekjoon/2460.ipynb#ch0000000?line=3'>4</a>\u001b[0m     num \u001b[39m=\u001b[39m \u001b[39mlist\u001b[39m(\u001b[39mmap\u001b[39m(\u001b[39mint\u001b[39m, \u001b[39minput\u001b[39m()\u001b[39m.\u001b[39msplit()))\n\u001b[1;32m----> <a href='vscode-notebook-cell:/c%3A/Users/ksang/Dropbox/CT/baekjoon/2460.ipynb#ch0000000?line=4'>5</a>\u001b[0m     total \u001b[39m-\u001b[39m\u001b[39m=\u001b[39m num[\u001b[39m0\u001b[39;49m]\n\u001b[0;32m      <a href='vscode-notebook-cell:/c%3A/Users/ksang/Dropbox/CT/baekjoon/2460.ipynb#ch0000000?line=5'>6</a>\u001b[0m     total \u001b[39m+\u001b[39m\u001b[39m=\u001b[39m num[\u001b[39m1\u001b[39m]\n\u001b[0;32m      <a href='vscode-notebook-cell:/c%3A/Users/ksang/Dropbox/CT/baekjoon/2460.ipynb#ch0000000?line=7'>8</a>\u001b[0m     \u001b[39mif\u001b[39;00m answer \u001b[39m<\u001b[39m total:\n",
      "\u001b[1;31mIndexError\u001b[0m: list index out of range"
     ]
    }
   ],
   "source": [
    "total = 0\n",
    "answer = 0\n",
    "for _ in range(10):\n",
    "    num = list(map(int, input().split()))\n",
    "    total -= num[0]\n",
    "    total += num[1]\n",
    "\n",
    "    if answer < total:\n",
    "        answer = total\n",
    "\n",
    "print(answer)\n"
   ]
  },
  {
   "cell_type": "code",
   "execution_count": 8,
   "metadata": {},
   "outputs": [
    {
     "data": {
      "text/plain": [
       "<map at 0x2d299427160>"
      ]
     },
     "execution_count": 8,
     "metadata": {},
     "output_type": "execute_result"
    }
   ],
   "source": [
    "a = map(int, input().split())\n",
    "a"
   ]
  }
 ],
 "metadata": {
  "interpreter": {
   "hash": "1cb989b854fd988d6400614094cb807f874635294f3ee7ee8786de23886924c0"
  },
  "kernelspec": {
   "display_name": "Python 3.8.12 ('dev38')",
   "language": "python",
   "name": "python3"
  },
  "language_info": {
   "codemirror_mode": {
    "name": "ipython",
    "version": 3
   },
   "file_extension": ".py",
   "mimetype": "text/x-python",
   "name": "python",
   "nbconvert_exporter": "python",
   "pygments_lexer": "ipython3",
   "version": "3.8.12"
  },
  "orig_nbformat": 4
 },
 "nbformat": 4,
 "nbformat_minor": 2
}
