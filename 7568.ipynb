{
 "cells": [
  {
   "cell_type": "code",
   "execution_count": 9,
   "metadata": {},
   "outputs": [
    {
     "name": "stdout",
     "output_type": "stream",
     "text": [
      "2 2 1 "
     ]
    }
   ],
   "source": [
    "# 덩치\n",
    "\n",
    "N = int(input())\n",
    "\n",
    "dungchi = []\n",
    "\n",
    "for _ in range(N):\n",
    "    x, y = map(int, input().split())\n",
    "    z = 1\n",
    "    if not dungchi:\n",
    "        dungchi.append([x, y, 1])\n",
    "    else:\n",
    "        for d in dungchi:\n",
    "            if d[0] > x and d[1] > y:\n",
    "                z += 1\n",
    "            elif d[0] < x and d[1] < y:\n",
    "                d[2] += 1\n",
    "\n",
    "        dungchi.append([x, y, z])\n",
    "\n",
    "for d in dungchi:\n",
    "    print(d[2], end=' ')\n"
   ]
  }
 ],
 "metadata": {
  "interpreter": {
   "hash": "1cb989b854fd988d6400614094cb807f874635294f3ee7ee8786de23886924c0"
  },
  "kernelspec": {
   "display_name": "Python 3.8.12 ('dev38')",
   "language": "python",
   "name": "python3"
  },
  "language_info": {
   "codemirror_mode": {
    "name": "ipython",
    "version": 3
   },
   "file_extension": ".py",
   "mimetype": "text/x-python",
   "name": "python",
   "nbconvert_exporter": "python",
   "pygments_lexer": "ipython3",
   "version": "3.8.12"
  },
  "orig_nbformat": 4
 },
 "nbformat": 4,
 "nbformat_minor": 2
}
