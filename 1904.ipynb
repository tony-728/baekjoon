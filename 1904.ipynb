{
 "cells": [
  {
   "cell_type": "code",
   "execution_count": 12,
   "metadata": {},
   "outputs": [
    {
     "ename": "KeyError",
     "evalue": "3",
     "output_type": "error",
     "traceback": [
      "\u001b[1;31m---------------------------------------------------------------------------\u001b[0m",
      "\u001b[1;31mKeyError\u001b[0m                                  Traceback (most recent call last)",
      "\u001b[1;32mc:\\Users\\ksang\\Dropbox\\CT\\baekjoon\\1904.ipynb Cell 1'\u001b[0m in \u001b[0;36m<cell line: 40>\u001b[1;34m()\u001b[0m\n\u001b[0;32m     <a href='vscode-notebook-cell:/c%3A/Users/ksang/Dropbox/CT/baekjoon/1904.ipynb#ch0000000?line=36'>37</a>\u001b[0m         memo[x] \u001b[39m=\u001b[39m memo[x\u001b[39m-\u001b[39m\u001b[39m2\u001b[39m] \u001b[39m+\u001b[39m memo[x\u001b[39m-\u001b[39m\u001b[39m1\u001b[39m]\n\u001b[0;32m     <a href='vscode-notebook-cell:/c%3A/Users/ksang/Dropbox/CT/baekjoon/1904.ipynb#ch0000000?line=37'>38</a>\u001b[0m         \u001b[39mreturn\u001b[39;00m memo[x]\n\u001b[1;32m---> <a href='vscode-notebook-cell:/c%3A/Users/ksang/Dropbox/CT/baekjoon/1904.ipynb#ch0000000?line=39'>40</a>\u001b[0m tail01(N)\n",
      "\u001b[1;32mc:\\Users\\ksang\\Dropbox\\CT\\baekjoon\\1904.ipynb Cell 1'\u001b[0m in \u001b[0;36mtail01\u001b[1;34m(x)\u001b[0m\n\u001b[0;32m     <a href='vscode-notebook-cell:/c%3A/Users/ksang/Dropbox/CT/baekjoon/1904.ipynb#ch0000000?line=34'>35</a>\u001b[0m     \u001b[39mreturn\u001b[39;00m memo\n\u001b[0;32m     <a href='vscode-notebook-cell:/c%3A/Users/ksang/Dropbox/CT/baekjoon/1904.ipynb#ch0000000?line=35'>36</a>\u001b[0m \u001b[39melse\u001b[39;00m:\n\u001b[1;32m---> <a href='vscode-notebook-cell:/c%3A/Users/ksang/Dropbox/CT/baekjoon/1904.ipynb#ch0000000?line=36'>37</a>\u001b[0m     memo[x] \u001b[39m=\u001b[39m memo[x\u001b[39m-\u001b[39;49m\u001b[39m2\u001b[39;49m] \u001b[39m+\u001b[39m memo[x\u001b[39m-\u001b[39m\u001b[39m1\u001b[39m]\n\u001b[0;32m     <a href='vscode-notebook-cell:/c%3A/Users/ksang/Dropbox/CT/baekjoon/1904.ipynb#ch0000000?line=37'>38</a>\u001b[0m     \u001b[39mreturn\u001b[39;00m memo[x]\n",
      "\u001b[1;31mKeyError\u001b[0m: 3"
     ]
    }
   ],
   "source": [
    "# 01타일\n",
    "# 1, 00로 이루어진 수열만 만들 수 있다.\n",
    "\n",
    "\"\"\"\n",
    "점화식\n",
    "n = 1\n",
    "    1\n",
    "n = 2\n",
    "    00\n",
    "    11\n",
    "n = 3\n",
    "    n-2 + 00\n",
    "        1 + 00\n",
    "    n-1 + 1\n",
    "        00 + 1\n",
    "        11 + 1\n",
    "n = 4\n",
    "    n-2 + 00\n",
    "        00 + 00\n",
    "        11 + 00\n",
    "    n-1 + 1\n",
    "        100 + 1\n",
    "        001 + 1\n",
    "        111 + 1\n",
    "...\n",
    "-> d[n] = {d[n-2] + 1} + {d[n-1] + 1}\n",
    "\"\"\"\n",
    "\n",
    "N = int(input()) # 수열의 길이\n",
    "\n",
    "memo = {1: 1, 2: 2}\n",
    "\n",
    "def tail01(x):\n",
    "    if x in memo:\n",
    "        return memo\n",
    "    else:\n",
    "        memo[x] = (memo[x-2] + memo[x-1]) % 15746\n",
    "        return memo[x]\n",
    "\n",
    "# 재귀함수로 실행시 RecursionError 발생\n",
    "tail01(N)"
   ]
  },
  {
   "cell_type": "code",
   "execution_count": 3,
   "metadata": {},
   "outputs": [
    {
     "name": "stdout",
     "output_type": "stream",
     "text": [
      "6231\n"
     ]
    }
   ],
   "source": [
    "# 01타일\n",
    "# 1, 00로 이루어진 수열만 만들 수 있다.\n",
    "\n",
    "\"\"\"\n",
    "점화식\n",
    "n = 1\n",
    "    1\n",
    "n = 2\n",
    "    00\n",
    "    11\n",
    "n = 3\n",
    "    n-2 + 00\n",
    "        1 + 00\n",
    "    n-1 + 1\n",
    "        00 + 1\n",
    "        11 + 1\n",
    "n = 4\n",
    "    n-2 + 00\n",
    "        00 + 00\n",
    "        11 + 00\n",
    "    n-1 + 1\n",
    "        100 + 1\n",
    "        001 + 1\n",
    "        111 + 1\n",
    "...\n",
    "-> d[n] = d[n-2] + d[n-1]\n",
    "\"\"\"\n",
    "memo = [0] * 1000001\n",
    "memo[1] = 1\n",
    "memo[2] = 2\n",
    "\n",
    "\n",
    "N = int(input())\n",
    "\n",
    "if N > 2:\n",
    "    for i in range(3, N+1):\n",
    "        memo[i] = (memo[i-2] + memo[i-1]) % 15746\n",
    "\n",
    "print(memo[N])"
   ]
  },
  {
   "cell_type": "code",
   "execution_count": null,
   "metadata": {},
   "outputs": [],
   "source": []
  }
 ],
 "metadata": {
  "interpreter": {
   "hash": "a0ce7580e0241c87cb8c01ed191ebfb528913cd035859f50059197555ebf95d7"
  },
  "kernelspec": {
   "display_name": "Python 3.9.11 ('dev39')",
   "language": "python",
   "name": "python3"
  },
  "language_info": {
   "codemirror_mode": {
    "name": "ipython",
    "version": 3
   },
   "file_extension": ".py",
   "mimetype": "text/x-python",
   "name": "python",
   "nbconvert_exporter": "python",
   "pygments_lexer": "ipython3",
   "version": "3.9.11"
  },
  "orig_nbformat": 4
 },
 "nbformat": 4,
 "nbformat_minor": 2
}
