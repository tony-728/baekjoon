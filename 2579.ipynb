{
 "cells": [
  {
   "cell_type": "code",
   "execution_count": 6,
   "metadata": {},
   "outputs": [
    {
     "data": {
      "text/plain": [
       "[10, 20, 15, 25, 10, 20]"
      ]
     },
     "execution_count": 6,
     "metadata": {},
     "output_type": "execute_result"
    }
   ],
   "source": [
    "# 계단 오르기\n",
    "\n",
    "n = int(input())\n",
    "\n",
    "steps = []\n",
    "\n",
    "for _ in range(n):\n",
    "    steps.append(int(input()))\n",
    "\n",
    "steps"
   ]
  },
  {
   "cell_type": "code",
   "execution_count": null,
   "metadata": {},
   "outputs": [],
   "source": [
    "# 계단 오르기\n",
    "\n",
    "n = int(input())\n",
    "\n",
    "steps = []\n",
    "\n",
    "for _ in range(n):\n",
    "    steps.append(int(input()))\n",
    "\n",
    "dp = []\n",
    "# 어떤 계단에 도달했을 때 우리에게 주어진 경우의 수는 두가지 이다.\n",
    "# 1. 연속되지 않은 계단이다.(직전의 계단을 밟지 않았다.)\n",
    "# 2. 연속된 계단이다.(직전의 계단을 밟았다.)\n",
    "# 3. 마지막 계단은 무조건 밟아야 한다.\n",
    "\n",
    "dp.append(steps[0])\n",
    "dp.append(max(steps[0]+steps[1], steps[1]))\n",
    "dp.append(max(steps[0]+steps[2], steps[1]+steps[2]))\n",
    "\n",
    "for i in range(3,n):\n",
    "    dp.append(max(dp[i-2]+steps[i], dp[i-3]+steps[i]+steps[i-1]))\n",
    "\n",
    "print(dp[-1])\n"
   ]
  },
  {
   "cell_type": "code",
   "execution_count": null,
   "metadata": {},
   "outputs": [],
   "source": [
    "\"\"\"\n",
    "계단 오르기\n",
    "\n",
    "생각하기\n",
    "- 앞으로 어떤 계단을 밟을 것인가 말고\n",
    "- 지금 계단을 어떻게 올라왔을까로 생각하기\n",
    " -> 이렇게 되면 연속해서 계단을 밟았는지에 대한 정보를 알 필요없이 문제를 풀 수 있다.\n",
    "\n",
    "풀이\n",
    "- 계단을 올라갈 때 앞으로 어떻게 올라갈건지를 생각하지 않고 어디서 부터 올라온 건지를 생각해야한다.\n",
    "- 문제 조건에서 3칸을 연속으로 올라 올 수 없으므로\n",
    "    1. 자신의 위치 점수 + 1칸 밑의 점수 + 3칸 밑까지 올라오는 최대점수(dp)\n",
    "    2. 자신의 위치 점수 + 2칸 밑까지 올라오는 최대점수(dp)\n",
    "    이 중 최대 값을 dp리스트에 저장한다.\n",
    "\n",
    "\"\"\"\n",
    "N = int(input())\n",
    "\n",
    "stair = [0]\n",
    "for _ in range(N):\n",
    "    stair.append(int(input()))\n",
    "\n",
    "if N == 1:\n",
    "    print(stair[1])\n",
    "else:\n",
    "    dp = [0] * (N+1)\n",
    "    dp[1] = stair[1]\n",
    "    dp[2] = stair[1] + stair[2] \n",
    "\n",
    "    # 위에서 2까지 최대로 밟고 오는 것을 기록했으므로 3부터 확인한다.\n",
    "    for i in range(3, N+1):\n",
    "        # 현재 계단을 어떻게 밟고 올라왔을까\n",
    "        # 1. 3칸 밑까지 올라오는 최대점수(dp) + 1칸밑의 점수 + 자신의 위치 점수\n",
    "        # 2. 2칸 밑까지 올라오는 최대점수(dp) + 자신의 위치 점수\n",
    "        # 이 중 최대가 현재계단을 올라오는 최대점수이다.\n",
    "        dp[i] = max(dp[i-3]+stair[i-1]+stair[i], dp[i-2]+stair[i])  \n",
    "\n",
    "    print(dp[N])"
   ]
  }
 ],
 "metadata": {
  "interpreter": {
   "hash": "a0ce7580e0241c87cb8c01ed191ebfb528913cd035859f50059197555ebf95d7"
  },
  "kernelspec": {
   "display_name": "Python 3.9.11 ('dev39')",
   "language": "python",
   "name": "python3"
  },
  "language_info": {
   "codemirror_mode": {
    "name": "ipython",
    "version": 3
   },
   "file_extension": ".py",
   "mimetype": "text/x-python",
   "name": "python",
   "nbconvert_exporter": "python",
   "pygments_lexer": "ipython3",
   "version": "3.9.11"
  },
  "orig_nbformat": 4
 },
 "nbformat": 4,
 "nbformat_minor": 2
}
