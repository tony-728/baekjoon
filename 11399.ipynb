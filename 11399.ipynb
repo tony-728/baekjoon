{
 "cells": [
  {
   "cell_type": "code",
   "execution_count": null,
   "metadata": {},
   "outputs": [],
   "source": [
    "# ATM\n",
    "import sys\n",
    "\n",
    "n = int(input())  # 사람의 수\n",
    "\n",
    "# 각 사람이 인출하는데 걸리는 시간\n",
    "time = list(map(int, sys.stdin.readline().split()))\n",
    "\n",
    "time.sort()\n",
    "\n",
    "answer = time[0]\n",
    "pre = time[0]\n",
    "\n",
    "for i in time[1:]:\n",
    "    pre = i + pre\n",
    "    answer = pre + answer\n",
    "\n",
    "print(answer)\n"
   ]
  }
 ],
 "metadata": {
  "language_info": {
   "name": "python"
  },
  "orig_nbformat": 4
 },
 "nbformat": 4,
 "nbformat_minor": 2
}
