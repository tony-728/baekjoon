{
 "cells": [
  {
   "cell_type": "code",
   "execution_count": null,
   "metadata": {},
   "outputs": [],
   "source": [
    "# 균형잡힌 세상\n",
    "import sys\n",
    "\n",
    "while True:\n",
    "    stack = []\n",
    "    string = sys.stdin.readline().rstrip()\n",
    "\n",
    "    if string == '.':\n",
    "        break\n",
    "    else:\n",
    "        for i in string:\n",
    "            if i == '(':\n",
    "                stack.append(i)\n",
    "\n",
    "            if i == ')':\n",
    "                if stack and stack[-1] == \"(\":\n",
    "                    stack.pop()\n",
    "                else:\n",
    "                    stack.append(i)\n",
    "                \n",
    "            if i == \"[\":\n",
    "                stack.append(i)\n",
    "                \n",
    "            if i == \"]\":\n",
    "                if stack and stack[-1] == \"[\":\n",
    "                    stack.pop()\n",
    "                else:\n",
    "                    stack.append(i)\n",
    "\n",
    "        if stack:\n",
    "            print(\"no\")\n",
    "        else:\n",
    "            print(\"yes\")"
   ]
  }
 ],
 "metadata": {
  "language_info": {
   "name": "python"
  },
  "orig_nbformat": 4
 },
 "nbformat": 4,
 "nbformat_minor": 2
}
