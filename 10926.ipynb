{
 "cells": [
  {
   "cell_type": "code",
   "execution_count": 1,
   "metadata": {},
   "outputs": [
    {
     "name": "stdout",
     "output_type": "stream",
     "text": [
      "joonas??!\n"
     ]
    }
   ],
   "source": [
    "string = input()\n",
    "\n",
    "print(f\"{string}??!\")"
   ]
  },
  {
   "cell_type": "code",
   "execution_count": 2,
   "metadata": {},
   "outputs": [
    {
     "data": {
      "text/plain": [
       "543"
      ]
     },
     "execution_count": 2,
     "metadata": {},
     "output_type": "execute_result"
    }
   ],
   "source": [
    "2541 - 1998"
   ]
  },
  {
   "cell_type": "code",
   "execution_count": 6,
   "metadata": {},
   "outputs": [
    {
     "name": "stdout",
     "output_type": "stream",
     "text": [
      "1\n",
      "13\n",
      "0 13\n"
     ]
    }
   ],
   "source": [
    "# a, b = map(int, input().split()) # 현재 시각의 시, 분\n",
    "# c = int(input()) # 요리하는 데 필요한 시간이 분단위로 \n",
    "\n",
    "# a, b = 14, 30\n",
    "# c = 20\n",
    "\n",
    "a, b = 23, 48\n",
    "c = 25\n",
    "\n",
    "need_time = b + c\n",
    "\n",
    "need_hour = need_time // 60\n",
    "need_minute = need_time % 60\n",
    "\n",
    "print(need_hour)\n",
    "print(need_minute)\n",
    "\n",
    "result_hour = a + need_hour \n",
    "if result_hour >= 24:\n",
    "    result_hour -= 24\n",
    "\n",
    "print(result_hour, need_minute)\n",
    "\n",
    "\n"
   ]
  },
  {
   "cell_type": "code",
   "execution_count": null,
   "metadata": {},
   "outputs": [],
   "source": []
  }
 ],
 "metadata": {
  "interpreter": {
   "hash": "1cb989b854fd988d6400614094cb807f874635294f3ee7ee8786de23886924c0"
  },
  "kernelspec": {
   "display_name": "Python 3.8.12 ('dev38')",
   "language": "python",
   "name": "python3"
  },
  "language_info": {
   "codemirror_mode": {
    "name": "ipython",
    "version": 3
   },
   "file_extension": ".py",
   "mimetype": "text/x-python",
   "name": "python",
   "nbconvert_exporter": "python",
   "pygments_lexer": "ipython3",
   "version": "3.8.12"
  },
  "orig_nbformat": 4
 },
 "nbformat": 4,
 "nbformat_minor": 2
}
