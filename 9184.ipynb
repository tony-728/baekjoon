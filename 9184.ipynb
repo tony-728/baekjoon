{
 "cells": [
  {
   "cell_type": "code",
   "execution_count": 5,
   "metadata": {},
   "outputs": [],
   "source": [
    "# 신나는 함수 실행\n",
    "# 라이브러리 사용\n",
    "\n",
    "from functools import lru_cache\n",
    "import sys\n",
    "\n",
    "@lru_cache(maxsize=None)\n",
    "def w(a, b, c):\n",
    "    if a <= 0 or b <=0 or c <= 0:\n",
    "        return 1\n",
    "    if a > 20 or b > 20 or c > 20:\n",
    "        return w(20, 20, 20)\n",
    "    if a < b and b < c:\n",
    "        return w(a, b, c-1) + w(a, b-1,c) - w(a, b-1,c)\n",
    "    else:\n",
    "        return w(a-1,b,c)+w(a-1,b-1,c)+w(a-1,b,c-1)-w(a-1,b-1,c-1)\n",
    "\n",
    "while True:\n",
    "    a, b, c = map(int, sys.stdin.readline().split())\n",
    "    if a == -1 and b == -1 and c == -1:\n",
    "        break\n",
    "    print(f\"w({a}, {b}, {c}) = {w(a,b,c)}\")"
   ]
  },
  {
   "cell_type": "code",
   "execution_count": null,
   "metadata": {},
   "outputs": [],
   "source": [
    "# 신나는 함수 실행\n",
    "# 직접 구현\n",
    "\n",
    "import sys\n",
    "\n",
    "memo = {(0,0,0): 1}\n",
    "\n",
    "def w(a, b, c):\n",
    "    if (a, b, c) in memo:\n",
    "        return memo[(a,b,c)]\n",
    "\n",
    "    if a <= 0 or b <=0 or c <= 0:\n",
    "        return 1\n",
    "    if a > 20 or b > 20 or c > 20:\n",
    "        memo[(20,20,20)] = w(20,20,20)\n",
    "        return memo[(20,20,20)]\n",
    "    if a < b and b < c:\n",
    "        memo[(a,b,c)] = w(a, b, c-1) + w(a, b-1,c) - w(a, b-1,c)\n",
    "        return memo[(a,b,c)]\n",
    "    else:\n",
    "        memo[(a,b,c)] = w(a-1,b,c)+w(a-1,b-1,c)+w(a-1,b,c-1)-w(a-1,b-1,c-1)\n",
    "        return memo[(a,b,c)]\n",
    "\n",
    "while True:\n",
    "    a, b, c = map(int, sys.stdin.readline().split())\n",
    "    if a == -1 and b == -1 and c == -1:\n",
    "        break\n",
    "    print(f\"w({a}, {b}, {c}) = {w(a,b,c)}\")"
   ]
  },
  {
   "cell_type": "code",
   "execution_count": 14,
   "metadata": {},
   "outputs": [
    {
     "data": {
      "text/plain": [
       "1"
      ]
     },
     "execution_count": 14,
     "metadata": {},
     "output_type": "execute_result"
    }
   ],
   "source": [
    "a = {(0,0,0):1}\n",
    "\n",
    "a[(0,0,0)]"
   ]
  }
 ],
 "metadata": {
  "interpreter": {
   "hash": "a0ce7580e0241c87cb8c01ed191ebfb528913cd035859f50059197555ebf95d7"
  },
  "kernelspec": {
   "display_name": "Python 3.9.11 ('dev39')",
   "language": "python",
   "name": "python3"
  },
  "language_info": {
   "codemirror_mode": {
    "name": "ipython",
    "version": 3
   },
   "file_extension": ".py",
   "mimetype": "text/x-python",
   "name": "python",
   "nbconvert_exporter": "python",
   "pygments_lexer": "ipython3",
   "version": "3.9.11"
  },
  "orig_nbformat": 4
 },
 "nbformat": 4,
 "nbformat_minor": 2
}
