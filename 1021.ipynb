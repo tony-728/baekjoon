{
 "cells": [
  {
   "cell_type": "code",
   "execution_count": 10,
   "metadata": {},
   "outputs": [
    {
     "name": "stdout",
     "output_type": "stream",
     "text": [
      "59\n"
     ]
    }
   ],
   "source": [
    "# 회전하는 큐\n",
    "from collections import deque\n",
    "\n",
    "# 큐의 크기 N, 뽑으려고하는 수의 개수 M\n",
    "N, M = map(int, input().split())\n",
    "\n",
    "# 뽑고자하는 수의 위치\n",
    "idx = map(int, input().split())\n",
    "\n",
    "count = 0\n",
    "\n",
    "q = deque([i for i in range(1, N + 1)])\n",
    "\n",
    "for t in idx:\n",
    "    if q[0] == t:\n",
    "        q.popleft()\n",
    "    else:\n",
    "        \"\"\"\n",
    "        t가 q에 어느 위치에 있는지에 따라서\n",
    "        왼쪽, 오른쪽으로 이동할 수 있다.\n",
    "        \"\"\"\n",
    "        idx = q.index(t)\n",
    "        # t가 q보다 왼쪽에 있다.\n",
    "        if idx <= len(q) // 2:\n",
    "            while q[0] != t:\n",
    "                q.append(q.popleft())\n",
    "                count += 1\n",
    "        else:\n",
    "            while q[0] != t:\n",
    "                q.appendleft(q.pop())\n",
    "                count += 1\n",
    "        q.popleft()\n",
    "\n",
    "print(count)\n"
   ]
  },
  {
   "cell_type": "code",
   "execution_count": 8,
   "metadata": {},
   "outputs": [
    {
     "data": {
      "text/plain": [
       "1"
      ]
     },
     "execution_count": 8,
     "metadata": {},
     "output_type": "execute_result"
    }
   ],
   "source": [
    "a = [7,8,9,10,2,3,4,5]\n",
    "\n",
    "a.index(8)"
   ]
  }
 ],
 "metadata": {
  "interpreter": {
   "hash": "a0ce7580e0241c87cb8c01ed191ebfb528913cd035859f50059197555ebf95d7"
  },
  "kernelspec": {
   "display_name": "Python 3.9.11 ('dev39')",
   "language": "python",
   "name": "python3"
  },
  "language_info": {
   "codemirror_mode": {
    "name": "ipython",
    "version": 3
   },
   "file_extension": ".py",
   "mimetype": "text/x-python",
   "name": "python",
   "nbconvert_exporter": "python",
   "pygments_lexer": "ipython3",
   "version": "3.9.11"
  },
  "orig_nbformat": 4
 },
 "nbformat": 4,
 "nbformat_minor": 2
}
