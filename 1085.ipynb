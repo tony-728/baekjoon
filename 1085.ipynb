{
 "cells": [
  {
   "cell_type": "code",
   "execution_count": 4,
   "metadata": {},
   "outputs": [
    {
     "name": "stdout",
     "output_type": "stream",
     "text": [
      "161\n"
     ]
    }
   ],
   "source": [
    "# 직사각형에서 탈출\n",
    "# 직사각형의 경계선까지 가는 거리의 최솟값을 구하라\n",
    "# x, y는 현재 위치, w, h는 직사각형의 오른쪽 위 꼭짓점의 좌표\n",
    "\n",
    "x, y, w, h = map(int, input().split())\n",
    "\n",
    "if int(w/2) > x:\n",
    "    x = x\n",
    "else:\n",
    "    x = w - x\n",
    "\n",
    "if int(h/2) > y:\n",
    "    y = y\n",
    "else:\n",
    "    y = h - y\n",
    "\n",
    "print(min(x, y))    "
   ]
  }
 ],
 "metadata": {
  "interpreter": {
   "hash": "1cb989b854fd988d6400614094cb807f874635294f3ee7ee8786de23886924c0"
  },
  "kernelspec": {
   "display_name": "Python 3.8.12 ('dev38')",
   "language": "python",
   "name": "python3"
  },
  "language_info": {
   "codemirror_mode": {
    "name": "ipython",
    "version": 3
   },
   "file_extension": ".py",
   "mimetype": "text/x-python",
   "name": "python",
   "nbconvert_exporter": "python",
   "pygments_lexer": "ipython3",
   "version": "3.8.12"
  },
  "orig_nbformat": 4
 },
 "nbformat": 4,
 "nbformat_minor": 2
}
