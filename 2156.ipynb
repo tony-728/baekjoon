{
 "cells": [
  {
   "cell_type": "code",
   "execution_count": null,
   "metadata": {},
   "outputs": [],
   "source": [
    "# 포도주 시식\n",
    "\n",
    "import sys\n",
    "\n",
    "input = sys.stdin.readline\n",
    "\n",
    "n = int(input())\n",
    "wines = [0]\n",
    "for _ in range(n):\n",
    "    wines.append(int(input()))\n",
    "\n",
    "\n",
    "if n == 1:\n",
    "    print(wines[1])\n",
    "else:\n",
    "    dp = [0] * (n + 1)\n",
    "    dp[1] = wines[1]\n",
    "    dp[2] = wines[1] + wines[2]\n",
    "\n",
    "    for i in range(3, n + 1):\n",
    "        dp[i] = max(\n",
    "            # 이전 2잔을 연속해서 마시지 않고 이전 잔과 현재잔을 마신 경우\n",
    "            dp[i - 3] + wines[i - 1] + wines[i],\n",
    "            # 이전 잔을 마시지 않고 현재잔을 마신 경우\n",
    "            dp[i - 2] + wines[i],\n",
    "            # 이전 2잔을 연속해서 마시지 않은 경우\n",
    "            dp[i - 1],\n",
    "        )\n",
    "\n",
    "    print(max(dp))\n"
   ]
  }
 ],
 "metadata": {
  "language_info": {
   "name": "python"
  },
  "orig_nbformat": 4
 },
 "nbformat": 4,
 "nbformat_minor": 2
}
