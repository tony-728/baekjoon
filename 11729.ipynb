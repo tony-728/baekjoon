{
 "cells": [
  {
   "cell_type": "code",
   "execution_count": null,
   "metadata": {},
   "outputs": [],
   "source": [
    "# 하노이 탑 이동 순서\n",
    "from collections import deque\n",
    "\n",
    "def hanoi(n):\n",
    "    count = 0\n",
    "\n",
    "    fir = deque([i+1 for i in range(n)])\n",
    "    snd = deque()\n",
    "    trd = deque()\n",
    "\n",
    "    while True:\n",
    "        \n",
    "\n",
    "\n",
    "\n",
    "N = int(input()) # 쌓인 원판 개수\n",
    "\n"
   ]
  },
  {
   "cell_type": "code",
   "execution_count": 4,
   "metadata": {},
   "outputs": [
    {
     "name": "stdout",
     "output_type": "stream",
     "text": [
      "31\n",
      "1 3\n",
      "1 2\n",
      "3 2\n",
      "1 3\n",
      "2 1\n",
      "2 3\n",
      "1 3\n",
      "1 2\n",
      "3 2\n",
      "3 1\n",
      "2 1\n",
      "3 2\n",
      "1 3\n",
      "1 2\n",
      "3 2\n",
      "1 3\n",
      "2 1\n",
      "2 3\n",
      "1 3\n",
      "2 1\n",
      "3 2\n",
      "3 1\n",
      "2 1\n",
      "2 3\n",
      "1 3\n",
      "1 2\n",
      "3 2\n",
      "1 3\n",
      "2 1\n",
      "2 3\n",
      "1 3\n"
     ]
    }
   ],
   "source": [
    "\"\"\"\n",
    "하노이 타워를 옮길 때 재귀적으로 생각할 수 있는 부분은\n",
    "1 ~ n-1 개의 타워를 2번에 옮기고 n을 3번에 옮긴다.\n",
    "2번에 있는 1~n-1개의 원판을 3번으로 옮긴다.\n",
    "1. 1 ~ n-1개의 원판을 2번으로 옮긴다.\n",
    "2. n번째 원판을 3번으로 옮긴다.\n",
    "3. 2번에 있는 1 ~ n-1개의 원판을 3번으로 옮긴다.\n",
    "\"\"\"\n",
    "def hanoi_tower(n, start, end):\n",
    "    \"\"\"\n",
    "    n:원판의 개수\n",
    "    start\n",
    "        시작 지점\n",
    "    end\n",
    "        종료 지점\n",
    "    \"\"\"\n",
    "    if n == 1 :\n",
    "        print(start, end)\n",
    "        return\n",
    "       \n",
    "    # 이동에 사용되는 티워의 번호는 1,2,3이 있다. 총 6\n",
    "    # start, end를 제외한 나머지 값이 나머지 하나의 타워 번호이다.\n",
    "    hanoi_tower(n-1, start, 6-start-end) # 1단계\n",
    "    print(start, end) # 2단계\n",
    "    hanoi_tower(n-1, 6-start-end, end) # 3단계\n",
    "    \n",
    "n = int(input())\n",
    "print(2**n-1) # 총 이동 횟수는 (2 ^ 원판의 개수) - 1\n",
    "hanoi_tower(n, 1, 3)"
   ]
  }
 ],
 "metadata": {
  "interpreter": {
   "hash": "1cb989b854fd988d6400614094cb807f874635294f3ee7ee8786de23886924c0"
  },
  "kernelspec": {
   "display_name": "Python 3.8.12 ('dev38')",
   "language": "python",
   "name": "python3"
  },
  "language_info": {
   "codemirror_mode": {
    "name": "ipython",
    "version": 3
   },
   "file_extension": ".py",
   "mimetype": "text/x-python",
   "name": "python",
   "nbconvert_exporter": "python",
   "pygments_lexer": "ipython3",
   "version": "3.8.12"
  },
  "orig_nbformat": 4
 },
 "nbformat": 4,
 "nbformat_minor": 2
}
