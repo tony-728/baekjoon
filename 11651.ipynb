{
 "cells": [
  {
   "cell_type": "code",
   "execution_count": null,
   "metadata": {},
   "outputs": [],
   "source": [
    "import sys\n",
    "\n",
    "# 좌표 정렬하기2\n",
    "\n",
    "N = int(input())\n",
    "\n",
    "lst = []\n",
    "answer = []\n",
    "\n",
    "for _ in range(N):\n",
    "    x, y = map(int, sys.stdin.readline().split())\n",
    "    lst.append([x, y])\n",
    "\n",
    "lst = sorted(lst, key=lambda x: (x[1], x[0]))\n",
    "\n",
    "\n",
    "for i in lst:\n",
    "    print(i[0], i[1])\n"
   ]
  }
 ],
 "metadata": {
  "language_info": {
   "name": "python"
  },
  "orig_nbformat": 4
 },
 "nbformat": 4,
 "nbformat_minor": 2
}
