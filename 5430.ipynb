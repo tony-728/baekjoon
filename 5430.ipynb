{
 "cells": [
  {
   "cell_type": "code",
   "execution_count": 6,
   "metadata": {},
   "outputs": [],
   "source": [
    "# AC\n",
    "import sys\n",
    "from collections import deque\n",
    "\n",
    "# 테스트 케이스 개수\n",
    "T = int(input())\n",
    "\n",
    "\n",
    "for _ in range(T):\n",
    "    error_check = False # 에러가 발생했는지 확인하는 변수\n",
    "    reverse_check = False # R 함수가 나타났을 때 토글 스위치 역할\n",
    "\n",
    "    # 수행할 함수\n",
    "    p = sys.stdin.readline().rstrip()\n",
    "\n",
    "    # 배열에 들어있는 수의 개수\n",
    "    n = int(sys.stdin.readline().rstrip())\n",
    "\n",
    "    # 배열\n",
    "    lst = sys.stdin.readline().rstrip()\n",
    "    if n != 0:\n",
    "        lst = deque(lst[1:-1].split(\",\"))\n",
    "    else:\n",
    "        lst = deque([])\n",
    "\n",
    "    for f in p:\n",
    "        if f == \"R\":\n",
    "            # 리버스 함수가 나타나면 T/F 토글 스위치 작동\n",
    "            reverse_check = not reverse_check\n",
    "        elif f == \"D\":\n",
    "            if lst:\n",
    "                # 리버스 함수 T/F에 따라서 첫번째 혹은 마지막 값을 삭제\n",
    "                if reverse_check:\n",
    "                    lst.pop()\n",
    "                else:\n",
    "                    lst.popleft()\n",
    "            else:\n",
    "                print(\"error\")\n",
    "                error_check = True\n",
    "                break\n",
    "\n",
    "    if not error_check:\n",
    "        # 리버스 함수 T/F 토글 스위치가 켜져있으면 입력 배열을 반전시킨다.\n",
    "        if reverse_check:\n",
    "            lst.reverse()\n",
    "        print(\"[\" + \",\".join(lst) + \"]\")\n"
   ]
  }
 ],
 "metadata": {
  "interpreter": {
   "hash": "a0ce7580e0241c87cb8c01ed191ebfb528913cd035859f50059197555ebf95d7"
  },
  "kernelspec": {
   "display_name": "Python 3.9.11 ('dev39')",
   "language": "python",
   "name": "python3"
  },
  "language_info": {
   "codemirror_mode": {
    "name": "ipython",
    "version": 3
   },
   "file_extension": ".py",
   "mimetype": "text/x-python",
   "name": "python",
   "nbconvert_exporter": "python",
   "pygments_lexer": "ipython3",
   "version": "3.9.11"
  },
  "orig_nbformat": 4
 },
 "nbformat": 4,
 "nbformat_minor": 2
}
