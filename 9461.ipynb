{
 "cells": [
  {
   "cell_type": "code",
   "execution_count": null,
   "metadata": {},
   "outputs": [],
   "source": [
    "# 파도반 수열\n",
    "\"\"\"\n",
    "첫 삼각형은 정삼각형으로 변의 길이는 1이다.\n",
    "나선에서 가장 긴 변의 길이를 K라 했을 때, 그 변에 길이가 K인\n",
    "정삼각형을 추가한다.\n",
    "\n",
    "1,1,1,2,2,3,4,5,7,9, ...\n",
    "d[n] = d[n-2] + d[n-3]\n",
    "\n",
    "\"\"\"\n",
    "\n",
    "import sys\n",
    "memo = {1:1,2:1,3:1}\n",
    "\n",
    "N = int(input())\n",
    "\n",
    "for _ in range(N):\n",
    "    n = int(sys.stdin.readline())\n",
    "    if n > 3:\n",
    "        for i in range(4, n+1):\n",
    "            memo[i] = memo[i-2] + memo[i-3]\n",
    "\n",
    "    print(memo[n])\n",
    "    \n"
   ]
  }
 ],
 "metadata": {
  "language_info": {
   "name": "python"
  },
  "orig_nbformat": 4
 },
 "nbformat": 4,
 "nbformat_minor": 2
}
