{
 "cells": [
  {
   "cell_type": "code",
   "execution_count": null,
   "metadata": {},
   "outputs": [],
   "source": [
    "# 조합 0의 개수\n",
    "\"\"\"\n",
    "조합 값의 끝자리 0의 개수를 출력하는 프로그램을 작성하시오.\n",
    "\n",
    "생각하기\n",
    "- 끝자리가 0이기 위해서는 10의 배수면 된다. \n",
    "- 즉 2, 5의 개수가 몇개인지 알면 끝자리 0의 개수를 알 수 있다.\n",
    "- 조합은 n! / m!(n-m)! 으로 나타낼 수 있다.\n",
    "    n의 2의 개수 - m의 2의 개수 - (n-m)의 2의 개수\n",
    "    n의 5의 개수 - m의 5의 개수 - (n-m)의 5의 개수\n",
    "    중 작은 값이 10의 개수라고 생각할 수 있다.\n",
    "- 2, 5의 개수를 구하는 방법은 다음과 같다.\n",
    "- n이 주어졌을 때 2의 개수를 구하는 방법은 n보다 작은 2의 배수(2,4,8,16,..)로 나눴을 때 몫을 더하면\n",
    "1~n까지의 2의 개수를 구할 수 있다.(5의 개수도 마찬가지이다.)\n",
    "\"\"\"\n",
    "\n",
    "import sys\n",
    "\n",
    "input = sys.stdin.readline\n",
    "\n",
    "\n",
    "def num_count(n, k):\n",
    "    answer = 0\n",
    "    while n != 0:\n",
    "        n //= k\n",
    "        answer += n\n",
    "    return answer\n",
    "\n",
    "\n",
    "n, m = map(int, input().split())\n",
    "\n",
    "print(\n",
    "    min(\n",
    "        num_count(n, 2) - num_count(m, 2) - num_count((n - m), 2),\n",
    "        num_count(n, 5) - num_count(m, 5) - num_count((n - m), 5),\n",
    "    )\n",
    ")\n"
   ]
  }
 ],
 "metadata": {
  "interpreter": {
   "hash": "a0ce7580e0241c87cb8c01ed191ebfb528913cd035859f50059197555ebf95d7"
  },
  "kernelspec": {
   "display_name": "Python 3.9.11 ('dev39')",
   "language": "python",
   "name": "python3"
  },
  "language_info": {
   "codemirror_mode": {
    "name": "ipython",
    "version": 3
   },
   "file_extension": ".py",
   "mimetype": "text/x-python",
   "name": "python",
   "nbconvert_exporter": "python",
   "pygments_lexer": "ipython3",
   "version": "3.9.11"
  },
  "orig_nbformat": 4
 },
 "nbformat": 4,
 "nbformat_minor": 2
}
