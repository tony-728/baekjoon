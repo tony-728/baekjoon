{
 "cells": [
  {
   "cell_type": "code",
   "execution_count": null,
   "metadata": {},
   "outputs": [],
   "source": [
    "# 다리 놓기\n",
    "# 겹치지 않고 두 곳을 연결하는 방법\n",
    "import sys\n",
    "import math\n",
    "\n",
    "input = sys.stdin.readline\n",
    "\n",
    "n = int(input())\n",
    "\n",
    "n, m = 0, 0\n",
    "for _ in range(n):\n",
    "    n, m = map(int, input().split())\n",
    "\n",
    "    print(math.comb(m, n))\n"
   ]
  },
  {
   "cell_type": "code",
   "execution_count": 2,
   "metadata": {},
   "outputs": [
    {
     "data": {
      "text/plain": [
       "67863915"
      ]
     },
     "execution_count": 2,
     "metadata": {},
     "output_type": "execute_result"
    }
   ],
   "source": [
    "import sys\n",
    "\n",
    "input = sys.stdin.readline\n",
    "\n",
    "N = int(input())\n",
    "for _ in range(N):\n",
    "    n, m = map(int, input().split())\n",
    "\n",
    "    # 이항계수의 식을 응용하여 구현\n",
    "    divided = 1\n",
    "    for i in range(n):\n",
    "        divided *= m\n",
    "        m -= 1\n",
    "\n",
    "    divisor = 1\n",
    "    for i in range(2, n + 1):\n",
    "        divisor *= i\n",
    "\n",
    "    print(divided // divisor)\n"
   ]
  }
 ],
 "metadata": {
  "interpreter": {
   "hash": "a0ce7580e0241c87cb8c01ed191ebfb528913cd035859f50059197555ebf95d7"
  },
  "kernelspec": {
   "display_name": "Python 3.9.11 ('dev39')",
   "language": "python",
   "name": "python3"
  },
  "language_info": {
   "codemirror_mode": {
    "name": "ipython",
    "version": 3
   },
   "file_extension": ".py",
   "mimetype": "text/x-python",
   "name": "python",
   "nbconvert_exporter": "python",
   "pygments_lexer": "ipython3",
   "version": "3.9.11"
  },
  "orig_nbformat": 4
 },
 "nbformat": 4,
 "nbformat_minor": 2
}
