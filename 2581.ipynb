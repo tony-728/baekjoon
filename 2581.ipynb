{
 "cells": [
  {
   "cell_type": "code",
   "execution_count": 1,
   "metadata": {},
   "outputs": [
    {
     "name": "stdout",
     "output_type": "stream",
     "text": [
      "620\n",
      "61\n"
     ]
    }
   ],
   "source": [
    "m = int(input())\n",
    "n = int(input())\n",
    "\n",
    "def find_prime(x):\n",
    "    if x == 1:\n",
    "        return False\n",
    "\n",
    "    for i in range(2, x):\n",
    "        if x % i == 0:\n",
    "            return False\n",
    "\n",
    "    return x\n",
    "\n",
    "# m이상 n이하의 자연수 중 소수인 것을 모두 찾아야 한다.\n",
    "fir_result = 1e9\n",
    "result = 0\n",
    "for i in range(m, n+1):\n",
    "    prime_num = find_prime(i)\n",
    "    if prime_num:\n",
    "        result += prime_num\n",
    "        if prime_num < fir_result:\n",
    "            fir_result = prime_num\n",
    "\n",
    "if result:\n",
    "    print(result)\n",
    "    print(fir_result)\n",
    "else:\n",
    "    print(-1)\n",
    "\n"
   ]
  }
 ],
 "metadata": {
  "interpreter": {
   "hash": "1cb989b854fd988d6400614094cb807f874635294f3ee7ee8786de23886924c0"
  },
  "kernelspec": {
   "display_name": "Python 3.8.12 ('dev38')",
   "language": "python",
   "name": "python3"
  },
  "language_info": {
   "codemirror_mode": {
    "name": "ipython",
    "version": 3
   },
   "file_extension": ".py",
   "mimetype": "text/x-python",
   "name": "python",
   "nbconvert_exporter": "python",
   "pygments_lexer": "ipython3",
   "version": "3.8.12"
  },
  "orig_nbformat": 4
 },
 "nbformat": 4,
 "nbformat_minor": 2
}
