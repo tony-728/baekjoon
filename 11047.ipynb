{
 "cells": [
  {
   "cell_type": "code",
   "execution_count": 2,
   "metadata": {},
   "outputs": [],
   "source": [
    "# 동전0\n",
    "import sys\n",
    "\n",
    "# n: 동전 종류, k: 가치의 합\n",
    "n, k = map(int, sys.stdin.readline().split())\n",
    "\n",
    "coin = []\n",
    "answer = 0\n",
    "\n",
    "# 동전종류 입력 오름차순으로 입력된다.\n",
    "for _ in range(n):\n",
    "    coin.append(int(sys.stdin.readline()))\n",
    "\n",
    "# k원을 만드는데 필요한 동전 개수의 최솟값 찾기\n",
    "for i in range(-1, -(n + 1), -1):\n",
    "    if coin[i] <= k:\n",
    "        count = k // coin[i]\n",
    "        answer += count\n",
    "        k = k - (coin[i] * count)\n",
    "\n",
    "        if k == 0:\n",
    "            break\n",
    "\n",
    "print(answer)\n"
   ]
  },
  {
   "cell_type": "code",
   "execution_count": 1,
   "metadata": {},
   "outputs": [
    {
     "data": {
      "text/plain": [
       "1"
      ]
     },
     "execution_count": 1,
     "metadata": {},
     "output_type": "execute_result"
    }
   ],
   "source": [
    "a = [1,2,3]\n",
    "\n",
    "a[-3]"
   ]
  }
 ],
 "metadata": {
  "interpreter": {
   "hash": "a0ce7580e0241c87cb8c01ed191ebfb528913cd035859f50059197555ebf95d7"
  },
  "kernelspec": {
   "display_name": "Python 3.9.11 ('dev39')",
   "language": "python",
   "name": "python3"
  },
  "language_info": {
   "codemirror_mode": {
    "name": "ipython",
    "version": 3
   },
   "file_extension": ".py",
   "mimetype": "text/x-python",
   "name": "python",
   "nbconvert_exporter": "python",
   "pygments_lexer": "ipython3",
   "version": "3.9.11"
  },
  "orig_nbformat": 4
 },
 "nbformat": 4,
 "nbformat_minor": 2
}
