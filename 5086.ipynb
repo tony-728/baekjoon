{
 "cells": [
  {
   "cell_type": "code",
   "execution_count": null,
   "metadata": {},
   "outputs": [],
   "source": [
    "# 배수와 약수\n",
    "import sys\n",
    "\n",
    "input = sys.stdin.readline\n",
    "\n",
    "while True:\n",
    "    a, b = map(int, input().split())\n",
    "    if a == 0 and b ==0:\n",
    "        break\n",
    "    \n",
    "    '''\n",
    "    a가 b의 약수인지\n",
    "    a가 b의 배수인지\n",
    "    어떤것도 아닌지 확인해야 한다.\n",
    "    '''\n",
    "    if b % a == 0:\n",
    "        print('factor')\n",
    "    elif a % b == 0:\n",
    "        print('multiple')\n",
    "    else:\n",
    "        print('neither')"
   ]
  }
 ],
 "metadata": {
  "language_info": {
   "name": "python"
  },
  "orig_nbformat": 4
 },
 "nbformat": 4,
 "nbformat_minor": 2
}
