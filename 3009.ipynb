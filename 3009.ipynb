{
 "cells": [
  {
   "cell_type": "code",
   "execution_count": 24,
   "metadata": {},
   "outputs": [
    {
     "name": "stdout",
     "output_type": "stream",
     "text": [
      "7\n",
      "7\n"
     ]
    }
   ],
   "source": [
    "# 네 번째 점\n",
    "\n",
    "x, y = {}, {}\n",
    "\n",
    "\n",
    "for _ in range(3):\n",
    "    a, b = map(int, input().split())\n",
    "    \n",
    "    if not a in x:\n",
    "        x[a] = 1\n",
    "    else:\n",
    "        x[a] += 1\n",
    "        if x[a] == 2:\n",
    "            del x[a]\n",
    "    if not b in y:\n",
    "        y[b] = 1\n",
    "    else:\n",
    "        y[b] += 1\n",
    "        if y[b] == 2:\n",
    "            del y[b]\n",
    "  \n",
    "\n",
    "print(list(x.keys())[0], list(y.keys())[0])"
   ]
  },
  {
   "cell_type": "code",
   "execution_count": 23,
   "metadata": {},
   "outputs": [
    {
     "data": {
      "text/plain": [
       "5"
      ]
     },
     "execution_count": 23,
     "metadata": {},
     "output_type": "execute_result"
    }
   ],
   "source": [
    "a = {5: 2, 7: 1}\n",
    "\n",
    "\n",
    "\n",
    "list(a.keys()"
   ]
  }
 ],
 "metadata": {
  "interpreter": {
   "hash": "1cb989b854fd988d6400614094cb807f874635294f3ee7ee8786de23886924c0"
  },
  "kernelspec": {
   "display_name": "Python 3.8.12 ('dev38')",
   "language": "python",
   "name": "python3"
  },
  "language_info": {
   "codemirror_mode": {
    "name": "ipython",
    "version": 3
   },
   "file_extension": ".py",
   "mimetype": "text/x-python",
   "name": "python",
   "nbconvert_exporter": "python",
   "pygments_lexer": "ipython3",
   "version": "3.8.12"
  },
  "orig_nbformat": 4
 },
 "nbformat": 4,
 "nbformat_minor": 2
}
