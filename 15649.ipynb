{
 "cells": [
  {
   "cell_type": "code",
   "execution_count": 1,
   "metadata": {},
   "outputs": [
    {
     "name": "stdout",
     "output_type": "stream",
     "text": [
      "1 \n",
      "2 \n",
      "3 \n"
     ]
    }
   ],
   "source": [
    "# N과 M(1)\n",
    "\n",
    "N, M = map(int, input().split())\n",
    "\n",
    "lst = [i for i in range(1,N+1)]\n",
    "\n",
    "visit = [0]* (N+1)\n",
    "arr = [0] * (M+1)\n",
    "\n",
    "def is_not_duplicate(num):\n",
    "    if visit[num] == 0:\n",
    "        return True\n",
    "    else:\n",
    "        return False\n",
    "\n",
    "def check(x):\n",
    "    \"\"\"_summary_\n",
    "\n",
    "    Parameters\n",
    "    ----------\n",
    "    x : _type_\n",
    "        _description_\n",
    "    \"\"\"\n",
    "    if x == M+1:\n",
    "        for i in range(1, M+1):\n",
    "            print(arr[i], end=' ')\n",
    "        print()\n",
    "    else:\n",
    "        for i in range(1, N+1):\n",
    "            if is_not_duplicate(i):\n",
    "                visit[i] = 1\n",
    "                arr[x] = i\n",
    "                check(x+1)\n",
    "                arr[x] = 0\n",
    "                visit[i] = 0\n",
    "\n",
    "check(1)    "
   ]
  },
  {
   "cell_type": "code",
   "execution_count": 8,
   "metadata": {},
   "outputs": [
    {
     "name": "stdout",
     "output_type": "stream",
     "text": [
      "1 2 3 4\n",
      "1 2 4 3\n",
      "1 3 2 4\n",
      "1 3 4 2\n",
      "1 4 2 3\n",
      "1 4 3 2\n",
      "2 1 3 4\n",
      "2 1 4 3\n",
      "2 3 1 4\n",
      "2 3 4 1\n",
      "2 4 1 3\n",
      "2 4 3 1\n",
      "3 1 2 4\n",
      "3 1 4 2\n",
      "3 2 1 4\n",
      "3 2 4 1\n",
      "3 4 1 2\n",
      "3 4 2 1\n",
      "4 1 2 3\n",
      "4 1 3 2\n",
      "4 2 1 3\n",
      "4 2 3 1\n",
      "4 3 1 2\n",
      "4 3 2 1\n"
     ]
    }
   ],
   "source": [
    "def n_and_m(depth:int, n:int, m:int):\n",
    "    \"\"\"\n",
    "    자연수 n에 대하여 길이가 m인 수열을 모두 구하는 함수\n",
    "\n",
    "    Parameters\n",
    "    ----------\n",
    "    depth : int\n",
    "        수열에 길이까지 들어가기 위한 함수\n",
    "    n : int\n",
    "        1부터 n까지 수열을 만들기 위한 n\n",
    "    m : int\n",
    "        수열의 길이\n",
    "    \"\"\"\n",
    "    # 찾고자하는 깊이일 때 결과를 출력한다.\n",
    "    if depth == m:\n",
    "        print(*answer) # 괄호를 없애고 출력할 수 있다.\n",
    "        return\n",
    "\n",
    "    # 1의 자리수 부터 n까지 확인\n",
    "    for i in range(1, n + 1):\n",
    "\n",
    "        if not visited[i]:\n",
    "            visited[i] = True\n",
    "            answer.append(i)\n",
    "            n_and_m(depth + 1, n, m)\n",
    "            visited[i] = False\n",
    "            answer.pop()\n",
    "\n",
    "\n",
    "n, m = map(int, input().split())\n",
    "\n",
    "visited = [False] * (n + 1)\n",
    "answer = []\n",
    "\n",
    "n_and_m(0, n, m)\n"
   ]
  },
  {
   "cell_type": "code",
   "execution_count": 2,
   "metadata": {},
   "outputs": [
    {
     "name": "stdout",
     "output_type": "stream",
     "text": [
      "1 2\n",
      "1 3\n",
      "1 4\n",
      "2 1\n",
      "2 3\n",
      "2 4\n",
      "3 1\n",
      "3 2\n",
      "3 4\n",
      "4 1\n",
      "4 2\n",
      "4 3\n"
     ]
    }
   ],
   "source": [
    "# 파이썬 라이브러리 사용\n",
    "# 순열\n",
    "from itertools import permutations\n",
    "\n",
    "n, m = map(int, input().split())\n",
    "\n",
    "a = list(permutations([i for i in range(1, n+1)], m))\n",
    "\n",
    "for x in a:\n",
    "    print(*x)\n"
   ]
  }
 ],
 "metadata": {
  "interpreter": {
   "hash": "a0ce7580e0241c87cb8c01ed191ebfb528913cd035859f50059197555ebf95d7"
  },
  "kernelspec": {
   "display_name": "Python 3.9.11 ('dev39')",
   "language": "python",
   "name": "python3"
  },
  "language_info": {
   "codemirror_mode": {
    "name": "ipython",
    "version": 3
   },
   "file_extension": ".py",
   "mimetype": "text/x-python",
   "name": "python",
   "nbconvert_exporter": "python",
   "pygments_lexer": "ipython3",
   "version": "3.9.12"
  },
  "orig_nbformat": 4
 },
 "nbformat": 4,
 "nbformat_minor": 2
}
