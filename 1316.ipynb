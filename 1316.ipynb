{
 "cells": [
  {
   "cell_type": "code",
   "execution_count": 5,
   "metadata": {},
   "outputs": [
    {
     "name": "stdout",
     "output_type": "stream",
     "text": [
      "4\n"
     ]
    }
   ],
   "source": [
    "# 그룹 단어 체커\n",
    "\"\"\"\n",
    "솔루션\n",
    "- 문자열을 하나씩 확인하면서 기존에 입력받은 문자인지 확인한다.\n",
    "- 지금 확인하는 문자가 이전에 확인했는지 확인하고 바로 이전에 문자와 같은지 확인한다.ㅏ\n",
    "\"\"\"\n",
    "def check_groupword(word):\n",
    "    check = []\n",
    "    for i in word:\n",
    "        if not check:\n",
    "            check.append(i)\n",
    "        else:\n",
    "            if i in check: # 확인하는 문자와 이미 확인한 문자가 같은 경우\n",
    "                if check[-1] == i: # 바로 이전에 확인한 문자와 같은 경우\n",
    "                    check.append(i)\n",
    "                else: # 이미 확인한 문자인경우인데 연결되어 있지 않은 경우\n",
    "                    return False\n",
    "            else:\n",
    "                check.append(i)\n",
    "\n",
    "    return True\n",
    "\n",
    "\n",
    "N = int(input())\n",
    "count = 0\n",
    "for i in range(N):\n",
    "    word = input()\n",
    "    if check_groupword(word):\n",
    "        count += 1\n",
    "\n",
    "print(count)"
   ]
  },
  {
   "cell_type": "code",
   "execution_count": 2,
   "metadata": {},
   "outputs": [
    {
     "name": "stdout",
     "output_type": "stream",
     "text": [
      "nok\n"
     ]
    }
   ],
   "source": [
    "a = {'a': True}\n",
    "\n",
    "if 'b' in a:\n",
    "    print('ok')\n",
    "else:\n",
    "    print('nok')"
   ]
  }
 ],
 "metadata": {
  "interpreter": {
   "hash": "1cb989b854fd988d6400614094cb807f874635294f3ee7ee8786de23886924c0"
  },
  "kernelspec": {
   "display_name": "Python 3.8.12 ('dev38')",
   "language": "python",
   "name": "python3"
  },
  "language_info": {
   "codemirror_mode": {
    "name": "ipython",
    "version": 3
   },
   "file_extension": ".py",
   "mimetype": "text/x-python",
   "name": "python",
   "nbconvert_exporter": "python",
   "pygments_lexer": "ipython3",
   "version": "3.8.12"
  },
  "orig_nbformat": 4
 },
 "nbformat": 4,
 "nbformat_minor": 2
}
