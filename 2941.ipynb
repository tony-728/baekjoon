{
 "cells": [
  {
   "cell_type": "code",
   "execution_count": 17,
   "metadata": {},
   "outputs": [
    {
     "name": "stdout",
     "output_type": "stream",
     "text": [
      "3\n"
     ]
    }
   ],
   "source": [
    "# 크로아티아 알파벳\n",
    "\"\"\"\n",
    "솔루션\n",
    "- stack에 문자열을 넣고 크로아티아 알파벳이 stack문자열에 있는지 확인\n",
    "- 있으면 해당 문자열만큼 stack에서 제외하고 count 증가, 남은 문자열에 개수만큼 count 증가\n",
    "- 입력받은 문자열을 위 과정으로 반복\n",
    "- 마지막에 남은 문자열만큼 count 증가\n",
    "\"\"\"\n",
    "\n",
    "c_alphabet = [\"c=\", \"c-\", \"dz=\", \"d-\", \"lj\", \"nj\", \"s=\", \"z=\"]\n",
    "\n",
    "stack = \"\"\n",
    "count = 0\n",
    "\n",
    "n = input()\n",
    "\n",
    "for i in n:\n",
    "    stack += i\n",
    "    for c_alpha in c_alphabet:\n",
    "        if c_alpha in stack:\n",
    "            stack = stack[: -len(c_alpha)]\n",
    "            count += 1\n",
    "\n",
    "            count += len(stack)\n",
    "            stack = ''            \n",
    "            break\n",
    "\n",
    "count += len(stack)\n",
    "print(count)\n"
   ]
  },
  {
   "cell_type": "code",
   "execution_count": 14,
   "metadata": {},
   "outputs": [
    {
     "data": {
      "text/plain": [
       "''"
      ]
     },
     "execution_count": 14,
     "metadata": {},
     "output_type": "execute_result"
    }
   ],
   "source": [
    "a = \"ddz=\"\n",
    "\n",
    "a[:-4]"
   ]
  }
 ],
 "metadata": {
  "interpreter": {
   "hash": "1cb989b854fd988d6400614094cb807f874635294f3ee7ee8786de23886924c0"
  },
  "kernelspec": {
   "display_name": "Python 3.8.12 ('dev38')",
   "language": "python",
   "name": "python3"
  },
  "language_info": {
   "codemirror_mode": {
    "name": "ipython",
    "version": 3
   },
   "file_extension": ".py",
   "mimetype": "text/x-python",
   "name": "python",
   "nbconvert_exporter": "python",
   "pygments_lexer": "ipython3",
   "version": "3.8.12"
  },
  "orig_nbformat": 4
 },
 "nbformat": 4,
 "nbformat_minor": 2
}
