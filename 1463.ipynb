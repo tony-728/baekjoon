{
 "cells": [
  {
   "cell_type": "code",
   "execution_count": 1,
   "metadata": {},
   "outputs": [],
   "source": [
    "# 1로 만들기\n",
    "# x가 3으로 나누어 떨어지면 3으로 나눈다.\n",
    "# x가 2로 나누어 떨어지면 2로 나눈다.\n",
    "# 1을 뺀다.\n",
    "\n",
    "x = int(input())\n",
    "count = 0\n",
    "\n",
    "while True:\n",
    "    if (x - 1) % 3 == 0:\n",
    "        x -= 1\n",
    "        count += 1\n",
    "    elif (x-1) % 2 == 0:\n",
    "        x -= 1\n",
    "        count += 1\n",
    "    elif x % 3 == 0:\n",
    "        x /= 3\n",
    "        count += 1\n",
    "    elif x % 2 == 0:\n",
    "        x /= 2\n",
    "        count += 1\n",
    "    \n",
    "    elif x == 1:\n",
    "        break\n",
    "\n",
    "print(count)"
   ]
  },
  {
   "cell_type": "code",
   "execution_count": 2,
   "metadata": {},
   "outputs": [
    {
     "data": {
      "text/plain": [
       "1.0"
      ]
     },
     "execution_count": 2,
     "metadata": {},
     "output_type": "execute_result"
    }
   ],
   "source": [
    "# 1로 만들기\n",
    "# x가 3으로 나누어 떨어지면 3으로 나눈다.\n",
    "# x가 2로 나누어 떨어지면 2로 나눈다.\n",
    "# 1을 뺀다.\n",
    "\n",
    "\n",
    "\"\"\"\n",
    "생각하기\n",
    "- 이전의 결과를 다음 결과에 이용하게 되는 점화식을 활요한 dp문제\n",
    "x = 10 경우\n",
    "- 10 -> 9 -> 3 -> 1 과정으로 1이 된다. 여기서 보면 9 -> 3 -> 1 , 3 -> 1의 과정이 반복된다.\n",
    "- 즉, 10을 구할 때 9의 결과를 9를 구할 땐 3의 결과를 이용하게 된다.\n",
    "\"\"\"\n",
    "x = int(input())\n",
    "\n",
    "# dp에 계산된 값을 저장해둔다.\n",
    "dp = [0] * (x + 1) \n",
    "\n",
    "for i in range(2, x + 1):\n",
    "    # 처음에 1을 빼고 시작하는 이유는\n",
    "    # 다음에 계산할 나누기가 1을 뺀 값보다 작거나 큼에 따라 어차피 교체되기 때문이다.\n",
    "    dp[i] = dp[i - 1] + 1\n",
    "\n",
    "\n",
    "    # if로만 사용해야지 모든 경우를 확인한다.\n",
    "    if i % 3 == 0:\n",
    "        dp[i] = min(dp[i], dp[i // 3] + 1) # 1을 더하는 것은 최소인 값이 횟수이기 때문이다.\n",
    "    if i % 2 == 0:\n",
    "        dp[i] = min(dp[i], dp[i // 2] + 1)\n",
    "\n",
    "\n",
    "print(dp[x])\n"
   ]
  }
 ],
 "metadata": {
  "interpreter": {
   "hash": "a0ce7580e0241c87cb8c01ed191ebfb528913cd035859f50059197555ebf95d7"
  },
  "kernelspec": {
   "display_name": "Python 3.9.11 ('dev39')",
   "language": "python",
   "name": "python3"
  },
  "language_info": {
   "codemirror_mode": {
    "name": "ipython",
    "version": 3
   },
   "file_extension": ".py",
   "mimetype": "text/x-python",
   "name": "python",
   "nbconvert_exporter": "python",
   "pygments_lexer": "ipython3",
   "version": "3.9.11"
  },
  "orig_nbformat": 4
 },
 "nbformat": 4,
 "nbformat_minor": 2
}
