{
 "cells": [
  {
   "cell_type": "code",
   "execution_count": 18,
   "metadata": {},
   "outputs": [
    {
     "ename": "ZeroDivisionError",
     "evalue": "integer division or modulo by zero",
     "output_type": "error",
     "traceback": [
      "\u001b[1;31m---------------------------------------------------------------------------\u001b[0m",
      "\u001b[1;31mZeroDivisionError\u001b[0m                         Traceback (most recent call last)",
      "\u001b[1;32mc:\\Users\\ksang\\Dropbox\\CT\\baekjoon\\1712.ipynb Cell 1'\u001b[0m in \u001b[0;36m<module>\u001b[1;34m\u001b[0m\n\u001b[0;32m      <a href='vscode-notebook-cell:/c%3A/Users/ksang/Dropbox/CT/baekjoon/1712.ipynb#ch0000000?line=7'>8</a>\u001b[0m     \u001b[39mprint\u001b[39m(\u001b[39m-\u001b[39m\u001b[39m1\u001b[39m)\n\u001b[0;32m      <a href='vscode-notebook-cell:/c%3A/Users/ksang/Dropbox/CT/baekjoon/1712.ipynb#ch0000000?line=8'>9</a>\u001b[0m \u001b[39m# elif c-b == 0:\u001b[39;00m\n\u001b[0;32m     <a href='vscode-notebook-cell:/c%3A/Users/ksang/Dropbox/CT/baekjoon/1712.ipynb#ch0000000?line=9'>10</a>\u001b[0m \u001b[39m#     answer = a + 1\u001b[39;00m\n\u001b[0;32m     <a href='vscode-notebook-cell:/c%3A/Users/ksang/Dropbox/CT/baekjoon/1712.ipynb#ch0000000?line=10'>11</a>\u001b[0m \u001b[39m#     print(answer)\u001b[39;00m\n\u001b[0;32m     <a href='vscode-notebook-cell:/c%3A/Users/ksang/Dropbox/CT/baekjoon/1712.ipynb#ch0000000?line=11'>12</a>\u001b[0m \u001b[39melse\u001b[39;00m:\n\u001b[1;32m---> <a href='vscode-notebook-cell:/c%3A/Users/ksang/Dropbox/CT/baekjoon/1712.ipynb#ch0000000?line=12'>13</a>\u001b[0m     answer \u001b[39m=\u001b[39m a \u001b[39m/\u001b[39;49m\u001b[39m/\u001b[39;49m (c\u001b[39m-\u001b[39;49mb) \u001b[39m+\u001b[39m \u001b[39m1\u001b[39m\n\u001b[0;32m     <a href='vscode-notebook-cell:/c%3A/Users/ksang/Dropbox/CT/baekjoon/1712.ipynb#ch0000000?line=13'>14</a>\u001b[0m     \u001b[39mprint\u001b[39m(answer)\n",
      "\u001b[1;31mZeroDivisionError\u001b[0m: integer division or modulo by zero"
     ]
    }
   ],
   "source": [
    "# 손익분기점\n",
    "\n",
    "# a: 고정비용, b: 가변비용, c: 노트북 가격\n",
    "a, b, c = input().split()\n",
    "a, b, c = int(a), int(b), int(c)\n",
    "answer = 1\n",
    "if c - b <= 0:\n",
    "    print(-1)\n",
    "else:\n",
    "    answer = a // (c-b) + 1\n",
    "    print(answer)"
   ]
  },
  {
   "cell_type": "code",
   "execution_count": null,
   "metadata": {},
   "outputs": [],
   "source": []
  }
 ],
 "metadata": {
  "interpreter": {
   "hash": "1cb989b854fd988d6400614094cb807f874635294f3ee7ee8786de23886924c0"
  },
  "kernelspec": {
   "display_name": "Python 3.8.12 ('dev38')",
   "language": "python",
   "name": "python3"
  },
  "language_info": {
   "codemirror_mode": {
    "name": "ipython",
    "version": 3
   },
   "file_extension": ".py",
   "mimetype": "text/x-python",
   "name": "python",
   "nbconvert_exporter": "python",
   "pygments_lexer": "ipython3",
   "version": "3.8.12"
  },
  "orig_nbformat": 4
 },
 "nbformat": 4,
 "nbformat_minor": 2
}
