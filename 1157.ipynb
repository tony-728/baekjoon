{
 "cells": [
  {
   "cell_type": "code",
   "execution_count": 21,
   "metadata": {},
   "outputs": [
    {
     "name": "stdout",
     "output_type": "stream",
     "text": [
      "Counter({'Z': 2, 'A': 1})\n",
      "Z\n"
     ]
    }
   ],
   "source": [
    "from collections import Counter\n",
    "S = input()\n",
    "\n",
    "result = Counter(S.upper())\n",
    "\n",
    "if result.most_common(2)[0][1] == result.most_common(2)[1][1]:\n",
    "    print('?')\n",
    "else:\n",
    "    print(result.most_common()[0][0])\n"
   ]
  },
  {
   "cell_type": "code",
   "execution_count": 38,
   "metadata": {},
   "outputs": [
    {
     "name": "stdout",
     "output_type": "stream",
     "text": [
      "?\n"
     ]
    }
   ],
   "source": [
    "# 단어공부\n",
    "# 알파벳 대소문자로 된 단어가 주어지면, 이 단어에서 가장 많이 사용된 알파벳이 무엇인지 알아내는 프로그램을 작성하시오\n",
    "\n",
    "\"\"\"\n",
    "솔루션\n",
    "- 딕셔너리로 각 알파벳이 몇개 사용됬는지 확인\n",
    "- 가장 많이 사용된 알파벳을 찾는다. 가장 많이 사용된 알파벳이 중복되는지 확인을 함께한다.\n",
    "\"\"\"\n",
    "S = input()\n",
    "alpha = {}\n",
    "\n",
    "for s in S.upper():\n",
    "    if s in alpha:\n",
    "        alpha[s] += 1\n",
    "    else:\n",
    "        alpha[s] = 1\n",
    "\n",
    "max_count = 0\n",
    "answer = ''\n",
    "check = False\n",
    "\n",
    "for a in alpha:\n",
    "    if alpha[a] >= max_count:\n",
    "        if max_count == alpha[a]:\n",
    "            check = True\n",
    "        else:\n",
    "            check = False\n",
    "        max_count = alpha[a]\n",
    "        answer = a\n",
    "\n",
    "if check:\n",
    "    print('?')\n",
    "else:\n",
    "    print(answer)\n"
   ]
  }
 ],
 "metadata": {
  "interpreter": {
   "hash": "1cb989b854fd988d6400614094cb807f874635294f3ee7ee8786de23886924c0"
  },
  "kernelspec": {
   "display_name": "Python 3.8.12 ('dev38')",
   "language": "python",
   "name": "python3"
  },
  "language_info": {
   "codemirror_mode": {
    "name": "ipython",
    "version": 3
   },
   "file_extension": ".py",
   "mimetype": "text/x-python",
   "name": "python",
   "nbconvert_exporter": "python",
   "pygments_lexer": "ipython3",
   "version": "3.8.12"
  },
  "orig_nbformat": 4
 },
 "nbformat": 4,
 "nbformat_minor": 2
}
