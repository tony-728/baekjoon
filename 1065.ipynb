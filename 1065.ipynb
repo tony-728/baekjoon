{
 "cells": [
  {
   "cell_type": "code",
   "execution_count": 11,
   "metadata": {},
   "outputs": [
    {
     "name": "stdout",
     "output_type": "stream",
     "text": [
      "119\n"
     ]
    }
   ],
   "source": [
    "# 한수\n",
    "# 어떤 양의 정수 X의 각 자리가 등차수열을 이룬다면 그 수를 한수라고 한다.\n",
    "\"\"\"\n",
    "솔루션\n",
    "- \n",
    "\"\"\"\n",
    "\n",
    "\n",
    "def find_hansu(x):\n",
    "    str_x = str(x)\n",
    "    if len(str_x) == 1 or len(str_x) == 2: # 한자리, 두자리 숫자는 한수\n",
    "        return True\n",
    "\n",
    "    # 세자리 숫자부터 각 자리가 등차수열을 이루는지 확인\n",
    "    elif len(str_x) > 2:\n",
    "        check = int(str_x[0]) - int(str_x[1]) # 등차\n",
    "        result = False\n",
    "        for i in range(len(str_x) - 1):\n",
    "            if check == (int(str_x[i]) - int(str_x[i + 1])):\n",
    "                result = True\n",
    "            else:\n",
    "                result = False\n",
    "        \n",
    "        return result\n",
    "\n",
    "\n",
    "num = int(input())\n",
    "count = 0\n",
    "for i in range(1, num + 1):\n",
    "    if find_hansu(i):\n",
    "        count += 1\n",
    "\n",
    "print(count)\n"
   ]
  },
  {
   "cell_type": "code",
   "execution_count": 1,
   "metadata": {},
   "outputs": [
    {
     "data": {
      "text/plain": [
       "1"
      ]
     },
     "execution_count": 1,
     "metadata": {},
     "output_type": "execute_result"
    }
   ],
   "source": [
    "a = 1\n",
    "a\n"
   ]
  }
 ],
 "metadata": {
  "interpreter": {
   "hash": "1cb989b854fd988d6400614094cb807f874635294f3ee7ee8786de23886924c0"
  },
  "kernelspec": {
   "display_name": "Python 3.8.12 ('dev38')",
   "language": "python",
   "name": "python3"
  },
  "language_info": {
   "codemirror_mode": {
    "name": "ipython",
    "version": 3
   },
   "file_extension": ".py",
   "mimetype": "text/x-python",
   "name": "python",
   "nbconvert_exporter": "python",
   "pygments_lexer": "ipython3",
   "version": "3.8.12"
  },
  "orig_nbformat": 4
 },
 "nbformat": 4,
 "nbformat_minor": 2
}
