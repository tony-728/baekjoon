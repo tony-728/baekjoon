{
 "cells": [
  {
   "cell_type": "code",
   "execution_count": 5,
   "metadata": {},
   "outputs": [
    {
     "name": "stdout",
     "output_type": "stream",
     "text": [
      "1 1 1\n",
      "1 1 2\n",
      "1 1 3\n",
      "1 2 2\n",
      "1 2 3\n",
      "1 3 3\n",
      "2 2 2\n",
      "2 2 3\n",
      "2 3 3\n",
      "3 3 3\n"
     ]
    }
   ],
   "source": [
    "# N과 M (4)\n",
    "# 1부터 N까지 자연수 중에서 M개를 고른 수열\n",
    "# 중복 가능\n",
    "# 고른 수열이 비내림차순이여야 한다.\n",
    "\n",
    "\n",
    "def n_and_m(depth: int, n: int, m: int):\n",
    "    \"\"\"\n",
    "    1부터 n까지 자연수 중에서 m개를 고른 수열\n",
    "    중복 가능\n",
    "    고른 수열이 비내림차순이어야 한다.\n",
    "        - A1<=A2<= .. <=Ak-1<=Ak\n",
    "\n",
    "    Parameters\n",
    "    ----------\n",
    "    depth : int\n",
    "        찾는 깊이\n",
    "    n : int\n",
    "        1부터 n까지 수열\n",
    "    m : int\n",
    "        m개를 고르기 위함\n",
    "    \"\"\"\n",
    "    if depth == m:\n",
    "        print(*answer)\n",
    "        return\n",
    "\n",
    "    for i in range(1, n + 1):\n",
    "        if not answer:\n",
    "            answer.append(i)\n",
    "        # 비내림차순을 만들기 위함\n",
    "        elif answer and answer[-1] <= i:\n",
    "            answer.append(i)\n",
    "        # 배열의 마지막 값이 현재 확인하는 값보다 \n",
    "        # 더 작은 수일 때는 넘어간다.\n",
    "        else:\n",
    "            continue\n",
    "        n_and_m(depth=depth + 1, n=n, m=m)\n",
    "        answer.pop()\n",
    "\n",
    "\n",
    "n, m = map(int, input().split())\n",
    "\n",
    "answer = []\n",
    "\n",
    "n_and_m(0, n, m)\n"
   ]
  },
  {
   "cell_type": "code",
   "execution_count": 6,
   "metadata": {},
   "outputs": [
    {
     "name": "stdout",
     "output_type": "stream",
     "text": [
      "1 1\n",
      "1 2\n",
      "1 3\n",
      "1 4\n",
      "2 2\n",
      "2 3\n",
      "2 4\n",
      "3 3\n",
      "3 4\n",
      "4 4\n"
     ]
    }
   ],
   "source": [
    "def dfs(x):\n",
    "    if len(s)==k:\n",
    "        print(' '.join(map(str, s)))\n",
    "        return\n",
    "    for i in range(x, n+1):\n",
    "        s.append(i)\n",
    "        dfs(i)\n",
    "        s.pop()\n",
    "n,k = map(int,input().split())\n",
    "s=[]\n",
    "dfs(1)"
   ]
  }
 ],
 "metadata": {
  "interpreter": {
   "hash": "a0ce7580e0241c87cb8c01ed191ebfb528913cd035859f50059197555ebf95d7"
  },
  "kernelspec": {
   "display_name": "Python 3.9.11 ('dev39')",
   "language": "python",
   "name": "python3"
  },
  "language_info": {
   "codemirror_mode": {
    "name": "ipython",
    "version": 3
   },
   "file_extension": ".py",
   "mimetype": "text/x-python",
   "name": "python",
   "nbconvert_exporter": "python",
   "pygments_lexer": "ipython3",
   "version": "3.9.11"
  },
  "orig_nbformat": 4
 },
 "nbformat": 4,
 "nbformat_minor": 2
}
