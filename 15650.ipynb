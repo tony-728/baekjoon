{
 "cells": [
  {
   "cell_type": "code",
   "execution_count": 20,
   "metadata": {},
   "outputs": [
    {
     "name": "stdout",
     "output_type": "stream",
     "text": [
      "1 2\n",
      "1 3\n",
      "1 4\n",
      "2 3\n",
      "2 4\n",
      "3 4\n"
     ]
    }
   ],
   "source": [
    "# N과 M (2)\n",
    "\"\"\"\n",
    "자연수 N과 M이 주어졌을 떄 아래 조건을 만족하는 길이가 M인 수열을 모두 구하는 프로그램을 작성하시오\n",
    "1. 1부터 N까지 자연수 중에서 중복 없이 M개를 고른 수열\n",
    "2. 고른 수열을 오름차순이어야 한다.\n",
    "\"\"\"\n",
    "\n",
    "\n",
    "def n_and_m(depth: int, start:int, n: int, m: int):\n",
    "    \"\"\"\n",
    "    오름차순이면서 중복이 없는\n",
    "    길이가 M인 수열을 구하여라\n",
    "\n",
    "    Parameters\n",
    "    ----------\n",
    "    depth : int\n",
    "        m까지 확인하기 위한 변수\n",
    "    n : int\n",
    "        1부터 n까지 자연수\n",
    "    m : int\n",
    "        수열의 길이 m\n",
    "    \"\"\"\n",
    "    if depth == m:\n",
    "        print(*answer)\n",
    "        return\n",
    "\n",
    "    for i in range(start, n + 1):\n",
    "        if not visited[i]:\n",
    "            visited[i] = True\n",
    "            answer.append(i)\n",
    "            n_and_m(depth=depth + 1, start=i + 1,n=n, m=m)\n",
    "            visited[i] = False\n",
    "            answer.pop()\n",
    "\n",
    "\n",
    "N, M = map(int, input().split())\n",
    "\n",
    "visited = [False] * (N + 1)\n",
    "answer = []\n",
    "n_and_m(0, 1, N, M)\n"
   ]
  },
  {
   "cell_type": "code",
   "execution_count": 6,
   "metadata": {},
   "outputs": [
    {
     "name": "stdout",
     "output_type": "stream",
     "text": [
      "1 2\n",
      "1 3\n",
      "1 4\n",
      "2 3\n",
      "2 4\n",
      "3 4\n"
     ]
    }
   ],
   "source": [
    "n,m = map(int,input().split())\n",
    "\n",
    "arr=[]\n",
    "def back(arr,i):\n",
    "  if len(arr) ==m:\n",
    "    print(*arr)\n",
    "    return\n",
    "  # print(i,'방문',arr)\n",
    "  for j in range(i+1,n+1):\n",
    "    back(arr+[j],j)\n",
    "  \n",
    "back([],0)"
   ]
  },
  {
   "cell_type": "code",
   "execution_count": 18,
   "metadata": {},
   "outputs": [
    {
     "name": "stdout",
     "output_type": "stream",
     "text": [
      "1 2\n",
      "1 3\n",
      "1 4\n",
      "2 3\n",
      "2 4\n",
      "3 4\n"
     ]
    }
   ],
   "source": [
    "# 라이브러리를 사용\n",
    "\n",
    "from itertools import combinations\n",
    "\n",
    "n, m = map(int, input().split())\n",
    "\n",
    "a = [i for i in range(1, n+1)]\n",
    "\n",
    "c = list(combinations(a, 2))\n",
    "for i in c:\n",
    "    print(*i)"
   ]
  },
  {
   "cell_type": "code",
   "execution_count": 19,
   "metadata": {},
   "outputs": [
    {
     "name": "stdout",
     "output_type": "stream",
     "text": [
      "1 2\n",
      "1 3\n",
      "1 4\n",
      "2 3\n",
      "2 4\n",
      "3 4\n"
     ]
    }
   ],
   "source": [
    "n, m = map(int, input().split())\n",
    "s = []\n",
    "\n",
    "def dfs(start):\n",
    "    if len(s) == m:\n",
    "        print(' '.join(map(str, s)))\n",
    "        return\n",
    "\n",
    "    for i in range(start, n + 1):\n",
    "        # 가지치기(pruning)\n",
    "        if i not in s:\n",
    "            s.append(i)\n",
    "            dfs(i + 1)\n",
    "            s.pop()\n",
    "\n",
    "\n",
    "dfs(1)"
   ]
  }
 ],
 "metadata": {
  "interpreter": {
   "hash": "a0ce7580e0241c87cb8c01ed191ebfb528913cd035859f50059197555ebf95d7"
  },
  "kernelspec": {
   "display_name": "Python 3.9.11 ('dev39')",
   "language": "python",
   "name": "python3"
  },
  "language_info": {
   "codemirror_mode": {
    "name": "ipython",
    "version": 3
   },
   "file_extension": ".py",
   "mimetype": "text/x-python",
   "name": "python",
   "nbconvert_exporter": "python",
   "pygments_lexer": "ipython3",
   "version": "3.9.11"
  },
  "orig_nbformat": 4
 },
 "nbformat": 4,
 "nbformat_minor": 2
}
