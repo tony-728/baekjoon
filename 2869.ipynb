{
 "cells": [
  {
   "cell_type": "code",
   "execution_count": 18,
   "metadata": {},
   "outputs": [
    {
     "name": "stdout",
     "output_type": "stream",
     "text": [
      "2\n"
     ]
    }
   ],
   "source": [
    "# 달팽이는 올라가고 싶다.\n",
    "\n",
    "a, b, v = map(int, input().split())\n",
    "\n",
    "count = 0\n",
    "answer = 0\n",
    "\n",
    "while v > 0:\n",
    "    v -= a\n",
    "    if v <= 0:\n",
    "        count += 1\n",
    "        break\n",
    "    v += b\n",
    "    count += 1\n",
    "\n",
    "print(count)"
   ]
  },
  {
   "cell_type": "code",
   "execution_count": 32,
   "metadata": {},
   "outputs": [
    {
     "ename": "KeyboardInterrupt",
     "evalue": "",
     "output_type": "error",
     "traceback": [
      "\u001b[1;31m---------------------------------------------------------------------------\u001b[0m",
      "\u001b[1;31mKeyboardInterrupt\u001b[0m                         Traceback (most recent call last)",
      "\u001b[1;32mc:\\Users\\ksang\\Dropbox\\CT\\baekjoon\\2869.ipynb Cell 2'\u001b[0m in \u001b[0;36m<module>\u001b[1;34m\u001b[0m\n\u001b[0;32m     <a href='vscode-notebook-cell:/c%3A/Users/ksang/Dropbox/CT/baekjoon/2869.ipynb#ch0000001?line=11'>12</a>\u001b[0m     count \u001b[39m+\u001b[39m\u001b[39m=\u001b[39m \u001b[39m1\u001b[39m\n\u001b[0;32m     <a href='vscode-notebook-cell:/c%3A/Users/ksang/Dropbox/CT/baekjoon/2869.ipynb#ch0000001?line=12'>13</a>\u001b[0m     \u001b[39mwhile\u001b[39;00m answer \u001b[39m<\u001b[39m v:\n\u001b[1;32m---> <a href='vscode-notebook-cell:/c%3A/Users/ksang/Dropbox/CT/baekjoon/2869.ipynb#ch0000001?line=13'>14</a>\u001b[0m         answer \u001b[39m+\u001b[39m\u001b[39m=\u001b[39m (a \u001b[39m-\u001b[39m b)\n\u001b[0;32m     <a href='vscode-notebook-cell:/c%3A/Users/ksang/Dropbox/CT/baekjoon/2869.ipynb#ch0000001?line=14'>15</a>\u001b[0m         count \u001b[39m+\u001b[39m\u001b[39m=\u001b[39m \u001b[39m1\u001b[39m\n\u001b[0;32m     <a href='vscode-notebook-cell:/c%3A/Users/ksang/Dropbox/CT/baekjoon/2869.ipynb#ch0000001?line=17'>18</a>\u001b[0m \u001b[39mprint\u001b[39m(count)\n",
      "\u001b[1;31mKeyboardInterrupt\u001b[0m: "
     ]
    }
   ],
   "source": [
    "# 달팽이는 올라가고 싶다.\n",
    "\n",
    "a, b, v = map(int, input().split())\n",
    "\n",
    "count = 1\n",
    "answer = 0\n",
    "\n",
    "if v == a:\n",
    "    print(count)\n",
    "else:\n",
    "    answer += a + (a - b) * count\n",
    "    count += 1\n",
    "    while answer < v:\n",
    "        answer += (a - b)\n",
    "        count += 1\n",
    "\n",
    "\n",
    "print(count)\n"
   ]
  },
  {
   "cell_type": "code",
   "execution_count": 72,
   "metadata": {},
   "outputs": [
    {
     "name": "stdout",
     "output_type": "stream",
     "text": [
      "999999901\n"
     ]
    }
   ],
   "source": [
    "# 달팽이는 올라가고 싶다.\n",
    "import math\n",
    "\n",
    "a, b, v = map(int, input().split())\n",
    "\n",
    "answer = 1\n",
    "\n",
    "if a == v:\n",
    "    print(answer)\n",
    "else:\n",
    "    answer = (v - a) / (a-b)\n",
    "    if answer == 0:\n",
    "        answer += 2\n",
    "    elif (v-a+b) % (a-b) > 0:\n",
    "        answer = math.ceil(answer)\n",
    "        answer += 1\n",
    "    elif (v-a+b) % (a-b) == 0:\n",
    "        answer = int(answer)\n",
    "        answer += 1\n",
    "    # elif type(answer) is int:\n",
    "\n",
    "\n",
    "print(answer)\n"
   ]
  },
  {
   "cell_type": "code",
   "execution_count": 1,
   "metadata": {},
   "outputs": [],
   "source": [
    "# 달팽이는 올라가고 싶다.\n",
    "import math\n",
    "import sys\n",
    "\n",
    "input = sys.stdin.readline()\n",
    "\n",
    "a, b, v = map(int, input.split())\n",
    "\n",
    "# 달팽이는 하루에 (a-b) 미터 씩 총 v미터를 올라가면 된다.\n",
    "# 하지만 달팽이가 목표 지점에 도달한 날에 미끄러지는 것을 감안하면 안되므로 총 (v-b)미터를 올라간 것과 같다.\n",
    "day = (v-b) / (a-b) \n",
    "\n",
    "# 나누어 떨어지지 않는 것을 고려하여 올림처리한다.\n",
    "print(math.ceil(day))\n"
   ]
  }
 ],
 "metadata": {
  "interpreter": {
   "hash": "1cb989b854fd988d6400614094cb807f874635294f3ee7ee8786de23886924c0"
  },
  "kernelspec": {
   "display_name": "Python 3.8.12 ('dev38')",
   "language": "python",
   "name": "python3"
  },
  "language_info": {
   "codemirror_mode": {
    "name": "ipython",
    "version": 3
   },
   "file_extension": ".py",
   "mimetype": "text/x-python",
   "name": "python",
   "nbconvert_exporter": "python",
   "pygments_lexer": "ipython3",
   "version": "3.8.12"
  },
  "orig_nbformat": 4
 },
 "nbformat": 4,
 "nbformat_minor": 2
}
