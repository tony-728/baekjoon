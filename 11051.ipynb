{
 "cells": [
  {
   "cell_type": "code",
   "execution_count": null,
   "metadata": {},
   "outputs": [],
   "source": [
    "# 이항 계수2\n",
    "import sys\n",
    "\n",
    "input = sys.stdin.readline\n",
    "\n",
    "n, k = map(int, input().split())\n",
    "\n",
    "memo = [0] * (n + 1)\n",
    "memo[1] = 1\n",
    "memo[2] = 2\n",
    "\n",
    "def factorial(n):\n",
    "    if n == 2:\n",
    "        return memo[2]\n",
    "    \n",
    "    if memo[n]:\n",
    "        return memo[n]\n",
    "    else:\n",
    "        memo[n] = factorial(n-1) * n\n",
    "        return memo[n]\n",
    "\n",
    "print(factorial(5))\n",
    "\n"
   ]
  },
  {
   "cell_type": "code",
   "execution_count": 6,
   "metadata": {},
   "outputs": [
    {
     "name": "stdout",
     "output_type": "stream",
     "text": [
      "nok\n"
     ]
    }
   ],
   "source": [
    "# 이항 계수2\n",
    "import sys\n",
    "\n",
    "input = sys.stdin.readline\n",
    "\n",
    "n, k = map(int, input().split())\n",
    "\n",
    "memo = {}\n",
    "\n",
    "# 파스칼 삼각형을 활용한 DP 풀이 (nCk = (n-1)C(k-1) + (n-1)Ck)\n",
    "# 비어있는 파스칼 삼각형 구축해놓기\n",
    "def bincomail_ceo(n, k):\n",
    "    if n == k or k == 0:\n",
    "        memo[f\"{n}c{k}\"] = 1\n",
    "        return 1\n",
    "\n",
    "    if k == 1:\n",
    "        memo[f\"{n}c1\"] = n\n",
    "        return n\n",
    "\n",
    "    if n - k == 1:\n",
    "        if memo.get(f\"{n}c1\"):\n",
    "            return memo[f\"{n}c1\"]\n",
    "        else:\n",
    "            memo[f\"{n}c1\"] = n\n",
    "            return memo[f\"{n}c1\"]\n",
    "\n",
    "    if n == k:\n",
    "        return 1\n",
    "\n",
    "    if memo.get(f\"{n}c{k}\"):\n",
    "        return memo[f\"{n}c{k}\"]\n",
    "    if memo.get(f\"{n}c{n-k}\"):\n",
    "        return memo[f\"{n}c{n-k}\"]\n",
    "    else:\n",
    "        memo[f\"{n}c{k}\"] = bincomail_ceo(n - 1, k - 1) + bincomail_ceo(n - 1, k)\n",
    "        return memo[f\"{n}c{k}\"]\n",
    "\n",
    "\n",
    "if n - k < k:\n",
    "    k = n - k\n",
    "bincomail_ceo(n, k)\n",
    "print(memo[f\"{n}c{k}\"] % 10007)\n"
   ]
  },
  {
   "cell_type": "code",
   "execution_count": null,
   "metadata": {},
   "outputs": [],
   "source": [
    "import sys\n",
    "input = sys.stdin.readline\n",
    "\n",
    "N, K = map(int, input().split())\n",
    "\n",
    "result = 1\n",
    "for i in range(K):\n",
    "    result *= N\n",
    "    N -= 1\n",
    "\n",
    "divisor = 1\n",
    "for i in range(2, K+1):\n",
    "    divisor *= i\n",
    "\n",
    "print((result // divisor) % 10007)"
   ]
  }
 ],
 "metadata": {
  "interpreter": {
   "hash": "a0ce7580e0241c87cb8c01ed191ebfb528913cd035859f50059197555ebf95d7"
  },
  "kernelspec": {
   "display_name": "Python 3.9.11 ('dev39')",
   "language": "python",
   "name": "python3"
  },
  "language_info": {
   "codemirror_mode": {
    "name": "ipython",
    "version": 3
   },
   "file_extension": ".py",
   "mimetype": "text/x-python",
   "name": "python",
   "nbconvert_exporter": "python",
   "pygments_lexer": "ipython3",
   "version": "3.9.11"
  },
  "orig_nbformat": 4
 },
 "nbformat": 4,
 "nbformat_minor": 2
}
