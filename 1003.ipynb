{
 "cells": [
  {
   "cell_type": "code",
   "execution_count": 9,
   "metadata": {},
   "outputs": [
    {
     "name": "stdout",
     "output_type": "stream",
     "text": [
      "[5, 8]\n",
      "[10946, 17711]\n"
     ]
    }
   ],
   "source": [
    "# 피보나치 함수\n",
    "\n",
    "# 파이썬 메모이제이션 내장함수 사용\n",
    "from functools import lru_cache\n",
    "\n",
    "# @lru_cache 데코레이터를 사용하여 이미 연산된 값을 모두 저장한다.\n",
    "@lru_cache(maxsize=None)\n",
    "def fibo(x):\n",
    "    if x == 0:\n",
    "        return [1, 0]\n",
    "    elif x == 1:\n",
    "        return [0, 1]\n",
    "    else:\n",
    "        return [a+b for a, b in zip(fibo(x-1), fibo(x-2))]\n",
    "\n",
    "\n",
    "T = int(input())\n",
    "\n",
    "\n",
    "for _ in range(T):\n",
    "    answer = fibo(int(input()))\n",
    "    print(answer[0], answer[1])\n"
   ]
  },
  {
   "cell_type": "code",
   "execution_count": 11,
   "metadata": {},
   "outputs": [
    {
     "data": {
      "text/plain": [
       "[34, 55]"
      ]
     },
     "execution_count": 11,
     "metadata": {},
     "output_type": "execute_result"
    }
   ],
   "source": [
    "# 직접 메모공간을 만든 후에 계산한 값을 저장하여 사용한다.\n",
    "dic = {0:[1,0], 1:[0,1]}\n",
    "\n",
    "def fibo2(n):\n",
    "    if n in dic:\n",
    "        return dic[n]\n",
    "    \n",
    "    dic[n] = [a+b for a, b in zip(fibo2(n-1),fibo2(n-2))]\n",
    "    return dic[n]\n",
    "\n",
    "fibo2(10)"
   ]
  },
  {
   "cell_type": "code",
   "execution_count": 2,
   "metadata": {},
   "outputs": [
    {
     "data": {
      "text/plain": [
       "[1, 1]"
      ]
     },
     "execution_count": 2,
     "metadata": {},
     "output_type": "execute_result"
    }
   ],
   "source": [
    "a= [1, 0]\n",
    "b = [0, 1]\n",
    "\n",
    "# 두개의 리스트의 요소를 각각 더하여 하나의 리스트로 만든다.\n",
    "c = [x + y for x, y in zip(a, b)]\n",
    "c"
   ]
  },
  {
   "cell_type": "code",
   "execution_count": 3,
   "metadata": {},
   "outputs": [
    {
     "data": {
      "text/plain": [
       "[1, 0, 0, 1]"
      ]
     },
     "execution_count": 3,
     "metadata": {},
     "output_type": "execute_result"
    }
   ],
   "source": [
    "a= [1, 0]\n",
    "b = [0, 1]\n",
    "\n",
    "a+b"
   ]
  }
 ],
 "metadata": {
  "interpreter": {
   "hash": "1cb989b854fd988d6400614094cb807f874635294f3ee7ee8786de23886924c0"
  },
  "kernelspec": {
   "display_name": "Python 3.8.13 ('dev38')",
   "language": "python",
   "name": "python3"
  },
  "language_info": {
   "codemirror_mode": {
    "name": "ipython",
    "version": 3
   },
   "file_extension": ".py",
   "mimetype": "text/x-python",
   "name": "python",
   "nbconvert_exporter": "python",
   "pygments_lexer": "ipython3",
   "version": "3.9.11"
  },
  "orig_nbformat": 4
 },
 "nbformat": 4,
 "nbformat_minor": 2
}
