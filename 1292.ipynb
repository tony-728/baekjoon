{
 "cells": [
  {
   "cell_type": "code",
   "execution_count": 13,
   "metadata": {},
   "outputs": [
    {
     "name": "stdout",
     "output_type": "stream",
     "text": [
      "5\n"
     ]
    }
   ],
   "source": [
    "# 수열에서 a부터 b번까지의 숫자 합을 구한다.\n",
    "a, b = input().split()\n",
    "a, b = int(a), int(b)\n",
    "\n",
    "count = 1\n",
    "num = 1\n",
    "answer = 0\n",
    "for i in range(1, b+1):\n",
    "    if count >= 1:\n",
    "        count -= 1\n",
    "\n",
    "    else:\n",
    "        num += 1\n",
    "        count = num\n",
    "        count -= 1\n",
    "\n",
    "    if a <= i <= b:\n",
    "        answer += num\n",
    "\n",
    "print(answer)"
   ]
  },
  {
   "cell_type": "code",
   "execution_count": 10,
   "metadata": {},
   "outputs": [
    {
     "name": "stdout",
     "output_type": "stream",
     "text": [
      "1\n",
      "2\n",
      "2\n",
      "3\n"
     ]
    }
   ],
   "source": [
    "count = 1\n",
    "num = 1\n",
    "answer = 0\n",
    "\n",
    "a, b = 3, 7\n",
    "for i in range(1, 7 + 1):\n",
    "    if count >= 1:\n",
    "        count -= 1\n",
    "        print(num)\n",
    "\n",
    "    else:\n",
    "        num += 1\n",
    "        count = num\n",
    "        count -= 1\n",
    "        # print(num)\n",
    "\n",
    "    if a <= i <= b:\n",
    "        answer += num\n",
    "\n",
    "print(answer)\n"
   ]
  }
 ],
 "metadata": {
  "interpreter": {
   "hash": "1cb989b854fd988d6400614094cb807f874635294f3ee7ee8786de23886924c0"
  },
  "kernelspec": {
   "display_name": "Python 3.8.12 ('dev38')",
   "language": "python",
   "name": "python3"
  },
  "language_info": {
   "codemirror_mode": {
    "name": "ipython",
    "version": 3
   },
   "file_extension": ".py",
   "mimetype": "text/x-python",
   "name": "python",
   "nbconvert_exporter": "python",
   "pygments_lexer": "ipython3",
   "version": "3.8.12"
  },
  "orig_nbformat": 4
 },
 "nbformat": 4,
 "nbformat_minor": 2
}
