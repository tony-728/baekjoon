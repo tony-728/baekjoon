{
 "cells": [
  {
   "cell_type": "code",
   "execution_count": null,
   "metadata": {},
   "outputs": [],
   "source": [
    "# 나이순 정렬\n",
    "# 나이 증가하는 순, 같으면 먼저 가입한 순\n",
    "import sys\n",
    "\n",
    "N = int(input()) # 회원 수\n",
    "\n",
    "answer = []\n",
    "\n",
    "for i in range(N):\n",
    "    age, name = sys.stdin.readline().rstrip().split()\n",
    "    answer.append((int(age), name, i))\n",
    "\n",
    "answer = sorted(answer, key=lambda x:(x[0], x[2]))\n",
    "\n",
    "for i in answer:\n",
    "    print(i[0], i[1])"
   ]
  }
 ],
 "metadata": {
  "language_info": {
   "name": "python"
  },
  "orig_nbformat": 4
 },
 "nbformat": 4,
 "nbformat_minor": 2
}
