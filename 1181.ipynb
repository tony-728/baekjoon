{
 "cells": [
  {
   "cell_type": "code",
   "execution_count": null,
   "metadata": {},
   "outputs": [],
   "source": [
    "# 단어 정렬\n",
    "# 알파벳 소문자로 이루어진 N개의 단어가 들어오면 정렬\n",
    "# 1. 길이가 짧은 순\n",
    "# 2. 길이가 같으면 사전순\n",
    "\n",
    "import sys\n",
    "\n",
    "N = int(input()) # 단어의 갯수\n",
    "\n",
    "answer = []\n",
    "\n",
    "for _ in range(N):\n",
    "    word = sys.stdin.readline().rstrip()\n",
    "    if not word in answer:\n",
    "        answer.append(word)\n",
    "\n",
    "answer = sorted(answer)\n",
    "answer = sorted(answer, key=lambda x: len(x))\n",
    "\n",
    "for i in answer:\n",
    "    print(i)"
   ]
  },
  {
   "cell_type": "code",
   "execution_count": 1,
   "metadata": {},
   "outputs": [
    {
     "data": {
      "text/plain": [
       "['im', 'it']"
      ]
     },
     "execution_count": 1,
     "metadata": {},
     "output_type": "execute_result"
    }
   ],
   "source": [
    "a = ['im', 'it']\n",
    "\n",
    "sorted(a)"
   ]
  }
 ],
 "metadata": {
  "interpreter": {
   "hash": "1cb989b854fd988d6400614094cb807f874635294f3ee7ee8786de23886924c0"
  },
  "kernelspec": {
   "display_name": "Python 3.8.13 ('dev38')",
   "language": "python",
   "name": "python3"
  },
  "language_info": {
   "codemirror_mode": {
    "name": "ipython",
    "version": 3
   },
   "file_extension": ".py",
   "mimetype": "text/x-python",
   "name": "python",
   "nbconvert_exporter": "python",
   "pygments_lexer": "ipython3",
   "version": "3.9.11"
  },
  "orig_nbformat": 4
 },
 "nbformat": 4,
 "nbformat_minor": 2
}
