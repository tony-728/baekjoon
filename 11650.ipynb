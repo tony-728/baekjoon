{
 "cells": [
  {
   "cell_type": "code",
   "execution_count": 11,
   "metadata": {},
   "outputs": [],
   "source": [
    "import sys\n",
    "# 좌표 정렬하기\n",
    "\n",
    "N = int(input())\n",
    "\n",
    "lst = []\n",
    "answer = []\n",
    "\n",
    "for _ in range(N):\n",
    "    x, y = map(int, sys.stdin.readline().split())\n",
    "    lst.append([x,y])\n",
    "\n",
    "lst = sorted(lst, key=lambda x : (x[0], x[1]))\n",
    "\n",
    "\n",
    "for i in lst:\n",
    "    print(i[0], i[1])\n"
   ]
  }
 ],
 "metadata": {
  "interpreter": {
   "hash": "1cb989b854fd988d6400614094cb807f874635294f3ee7ee8786de23886924c0"
  },
  "kernelspec": {
   "display_name": "Python 3.8.12 ('dev38')",
   "language": "python",
   "name": "python3"
  },
  "language_info": {
   "codemirror_mode": {
    "name": "ipython",
    "version": 3
   },
   "file_extension": ".py",
   "mimetype": "text/x-python",
   "name": "python",
   "nbconvert_exporter": "python",
   "pygments_lexer": "ipython3",
   "version": "3.8.12"
  },
  "orig_nbformat": 4
 },
 "nbformat": 4,
 "nbformat_minor": 2
}
