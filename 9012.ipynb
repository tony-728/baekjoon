{
 "cells": [
  {
   "cell_type": "code",
   "execution_count": 2,
   "metadata": {},
   "outputs": [
    {
     "ename": "ValueError",
     "evalue": "invalid literal for int() with base 10: ''",
     "output_type": "error",
     "traceback": [
      "\u001b[1;31m---------------------------------------------------------------------------\u001b[0m",
      "\u001b[1;31mValueError\u001b[0m                                Traceback (most recent call last)",
      "\u001b[1;32mc:\\Users\\ksang\\Dropbox\\CT\\baekjoon\\9012.ipynb Cell 1'\u001b[0m in \u001b[0;36m<cell line: 4>\u001b[1;34m()\u001b[0m\n\u001b[0;32m      <a href='vscode-notebook-cell:/c%3A/Users/ksang/Dropbox/CT/baekjoon/9012.ipynb#ch0000000?line=0'>1</a>\u001b[0m \u001b[39m# 괄호\u001b[39;00m\n\u001b[0;32m      <a href='vscode-notebook-cell:/c%3A/Users/ksang/Dropbox/CT/baekjoon/9012.ipynb#ch0000000?line=1'>2</a>\u001b[0m \u001b[39mimport\u001b[39;00m \u001b[39msys\u001b[39;00m\n\u001b[1;32m----> <a href='vscode-notebook-cell:/c%3A/Users/ksang/Dropbox/CT/baekjoon/9012.ipynb#ch0000000?line=3'>4</a>\u001b[0m n \u001b[39m=\u001b[39m \u001b[39mint\u001b[39;49m(\u001b[39minput\u001b[39;49m())\n\u001b[0;32m      <a href='vscode-notebook-cell:/c%3A/Users/ksang/Dropbox/CT/baekjoon/9012.ipynb#ch0000000?line=5'>6</a>\u001b[0m \u001b[39mfor\u001b[39;00m _ \u001b[39min\u001b[39;00m \u001b[39mrange\u001b[39m(n):\n\u001b[0;32m      <a href='vscode-notebook-cell:/c%3A/Users/ksang/Dropbox/CT/baekjoon/9012.ipynb#ch0000000?line=6'>7</a>\u001b[0m     l \u001b[39m=\u001b[39m \u001b[39m0\u001b[39m\n",
      "\u001b[1;31mValueError\u001b[0m: invalid literal for int() with base 10: ''"
     ]
    }
   ],
   "source": [
    "# 괄호\n",
    "import sys\n",
    "\n",
    "n = int(input())\n",
    "\n",
    "for _ in range(n):\n",
    "    answer = []\n",
    "    vps = sys.stdin.readline()\n",
    "    for i in vps:\n",
    "        if i == '(':\n",
    "            answer.append(i)\n",
    "\n",
    "        elif i == ')':\n",
    "            if answer and answer[-1] == \"(\":\n",
    "                answer.pop()\n",
    "            else:\n",
    "                answer.append(i)\n",
    "    \n",
    "    if answer:\n",
    "        print(\"NO\")\n",
    "    else:\n",
    "        print(\"YES\")\n"
   ]
  },
  {
   "cell_type": "code",
   "execution_count": 3,
   "metadata": {},
   "outputs": [
    {
     "ename": "IndexError",
     "evalue": "pop from empty list",
     "output_type": "error",
     "traceback": [
      "\u001b[1;31m---------------------------------------------------------------------------\u001b[0m",
      "\u001b[1;31mIndexError\u001b[0m                                Traceback (most recent call last)",
      "\u001b[1;32mc:\\Users\\ksang\\Dropbox\\CT\\baekjoon\\9012.ipynb Cell 2'\u001b[0m in \u001b[0;36m<cell line: 3>\u001b[1;34m()\u001b[0m\n\u001b[0;32m      <a href='vscode-notebook-cell:/c%3A/Users/ksang/Dropbox/CT/baekjoon/9012.ipynb#ch0000001?line=0'>1</a>\u001b[0m a \u001b[39m=\u001b[39m []\n\u001b[1;32m----> <a href='vscode-notebook-cell:/c%3A/Users/ksang/Dropbox/CT/baekjoon/9012.ipynb#ch0000001?line=2'>3</a>\u001b[0m a\u001b[39m.\u001b[39;49mpop()\n",
      "\u001b[1;31mIndexError\u001b[0m: pop from empty list"
     ]
    }
   ],
   "source": [
    "a = []\n",
    "\n",
    "a.pop()"
   ]
  }
 ],
 "metadata": {
  "interpreter": {
   "hash": "1cb989b854fd988d6400614094cb807f874635294f3ee7ee8786de23886924c0"
  },
  "kernelspec": {
   "display_name": "Python 3.8.13 ('dev38')",
   "language": "python",
   "name": "python3"
  },
  "language_info": {
   "codemirror_mode": {
    "name": "ipython",
    "version": 3
   },
   "file_extension": ".py",
   "mimetype": "text/x-python",
   "name": "python",
   "nbconvert_exporter": "python",
   "pygments_lexer": "ipython3",
   "version": "3.9.11"
  },
  "orig_nbformat": 4
 },
 "nbformat": 4,
 "nbformat_minor": 2
}
