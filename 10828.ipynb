{
 "cells": [
  {
   "cell_type": "code",
   "execution_count": 3,
   "metadata": {},
   "outputs": [
    {
     "name": "stderr",
     "output_type": "stream",
     "text": [
      "<string>:1: SyntaxWarning: 'set' object is not callable; perhaps you missed a comma?\n"
     ]
    },
    {
     "ename": "TypeError",
     "evalue": "'set' object is not callable",
     "output_type": "error",
     "traceback": [
      "\u001b[1;31m---------------------------------------------------------------------------\u001b[0m",
      "\u001b[1;31mTypeError\u001b[0m                                 Traceback (most recent call last)",
      "\u001b[1;32mc:\\Users\\ksang\\Dropbox\\CT\\baekjoon\\10828.ipynb Cell 1'\u001b[0m in \u001b[0;36m<cell line: 37>\u001b[1;34m()\u001b[0m\n\u001b[0;32m     <a href='vscode-notebook-cell:/c%3A/Users/ksang/Dropbox/CT/baekjoon/10828.ipynb#ch0000000?line=40'>41</a>\u001b[0m     exec(command[\u001b[39m0\u001b[39m])\n\u001b[0;32m     <a href='vscode-notebook-cell:/c%3A/Users/ksang/Dropbox/CT/baekjoon/10828.ipynb#ch0000000?line=41'>42</a>\u001b[0m \u001b[39melse\u001b[39;00m:\n\u001b[1;32m---> <a href='vscode-notebook-cell:/c%3A/Users/ksang/Dropbox/CT/baekjoon/10828.ipynb#ch0000000?line=42'>43</a>\u001b[0m     exec(\u001b[39m\"\u001b[39;49m\u001b[39m{command[0]}\u001b[39;49;00m\u001b[39m(\u001b[39;49m\u001b[39m{command[1]}\u001b[39;49;00m\u001b[39m)\u001b[39;49m\u001b[39m\"\u001b[39;49m)\n",
      "File \u001b[1;32m<string>:1\u001b[0m, in \u001b[0;36m<module>\u001b[1;34m\u001b[0m\n",
      "\u001b[1;31mTypeError\u001b[0m: 'set' object is not callable"
     ]
    }
   ],
   "source": [
    "# 스택\n",
    "\n",
    "import sys\n",
    "my_stack = []\n",
    "\n",
    "\n",
    "def push(x):\n",
    "    global my_stack\n",
    "    my_stack.append(x)\n",
    "\n",
    "\n",
    "def top():\n",
    "    global my_stack\n",
    "    if my_stack:\n",
    "        print(my_stack[-1])\n",
    "    else:\n",
    "        print(-1)\n",
    "\n",
    "\n",
    "def size():\n",
    "    global my_stack\n",
    "    print(len(my_stack))\n",
    "\n",
    "\n",
    "def pop():\n",
    "    global my_stack\n",
    "    if my_stack:\n",
    "        print(my_stack.pop())\n",
    "    else:\n",
    "        print(-1)\n",
    "\n",
    "\n",
    "def empty():\n",
    "    global my_stack\n",
    "    if my_stack:\n",
    "        print(0)\n",
    "    else:\n",
    "        print(1)\n",
    "\n",
    "\n",
    "N = int(input())  # 명령의 수\n",
    "\n",
    "for _ in range(N):\n",
    "    command = sys.stdin.readline().split()\n",
    "\n",
    "    if len(command) == 1:\n",
    "        exec(f\"{command[0]}()\")\n",
    "    else:\n",
    "        exec(f\"{command[0]}({command[1]})\")\n"
   ]
  },
  {
   "cell_type": "code",
   "execution_count": 2,
   "metadata": {},
   "outputs": [
    {
     "data": {
      "text/plain": [
       "[1, 2]"
      ]
     },
     "execution_count": 2,
     "metadata": {},
     "output_type": "execute_result"
    }
   ],
   "source": [
    "a = [1,2,3]\n",
    "\n",
    "a.pop()\n",
    "a"
   ]
  }
 ],
 "metadata": {
  "interpreter": {
   "hash": "a0ce7580e0241c87cb8c01ed191ebfb528913cd035859f50059197555ebf95d7"
  },
  "kernelspec": {
   "display_name": "Python 3.9.11 ('dev39')",
   "language": "python",
   "name": "python3"
  },
  "language_info": {
   "codemirror_mode": {
    "name": "ipython",
    "version": 3
   },
   "file_extension": ".py",
   "mimetype": "text/x-python",
   "name": "python",
   "nbconvert_exporter": "python",
   "pygments_lexer": "ipython3",
   "version": "3.9.11"
  },
  "orig_nbformat": 4
 },
 "nbformat": 4,
 "nbformat_minor": 2
}
