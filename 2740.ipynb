{
 "cells": [
  {
   "cell_type": "code",
   "execution_count": null,
   "metadata": {},
   "outputs": [],
   "source": [
    "# 행렬 곱셈\n",
    "\n",
    "import numpy as np\n",
    "import sys\n",
    "\n",
    "input = sys.stdin.readline\n",
    "\n",
    "metrix_a = []\n",
    "metrix_b = []\n",
    "n_a, m_a = map(int, input().split())\n",
    "for _ in range(n_a):\n",
    "    metrix_a.append(list(map(int, input().split())))\n",
    "\n",
    "n_b, m_b = map(int, input().split())\n",
    "for _ in range(n_b):\n",
    "    metrix_b.append(list(map(int, input().split())))\n",
    "\n",
    "metrix_a = np.array(metrix_a)\n",
    "metrix_b = np.array(metrix_b)\n",
    "\n",
    "\n",
    "answer = metrix_a.dot(metrix_b)\n",
    "\n",
    "for row in answer:\n",
    "    for val in row:\n",
    "        print(val, end=\" \")\n",
    "    print()\n"
   ]
  },
  {
   "cell_type": "code",
   "execution_count": 6,
   "metadata": {},
   "outputs": [
    {
     "name": "stdout",
     "output_type": "stream",
     "text": [
      "[-1, -6, 18]\n"
     ]
    }
   ],
   "source": [
    "import sys\n",
    "\n",
    "input = sys.stdin.readline\n",
    "\n",
    "matrix_a = []\n",
    "matrix_b = []\n",
    "n_a, m_a = map(int, input().split())\n",
    "for _ in range(n_a):\n",
    "    matrix_a.append(list(map(int, input().split())))\n",
    "\n",
    "n_b, m_b = map(int, input().split())\n",
    "for _ in range(n_b):\n",
    "    matrix_b.append(list(map(int, input().split())))\n",
    "\n",
    "answer = [m_b * [0] for i in range(n_a)]\n",
    "\n",
    "\n",
    "\"\"\"\n",
    "a행렬 x b행렬의 크기는 다음과 같다.\n",
    "n_a x m_a * n_b x m_b = n_a x m_b\n",
    "m_a == n_b이여야 한다.\n",
    "\"\"\"\n",
    "# n_a만큼 반복\n",
    "for i in range(n_a):\n",
    "    # m_b만큼 반복\n",
    "    # 그래야 n_a x m_b크기의 행렬이 만들어 진다.\n",
    "    for j in range(m_b):\n",
    "        # n_b만큼 반복하므로써 실제 행렬의 곱을 수행\n",
    "        for k in range(n_b):\n",
    "            answer[i][j] += matrix_a[i][k] * matrix_b[k][j]\n",
    "\n",
    "\n",
    "for row in answer:\n",
    "    for col in row:\n",
    "        print(col, end=\" \")\n",
    "    print()\n"
   ]
  }
 ],
 "metadata": {
  "interpreter": {
   "hash": "a0ce7580e0241c87cb8c01ed191ebfb528913cd035859f50059197555ebf95d7"
  },
  "kernelspec": {
   "display_name": "Python 3.9.11 ('dev39')",
   "language": "python",
   "name": "python3"
  },
  "language_info": {
   "codemirror_mode": {
    "name": "ipython",
    "version": 3
   },
   "file_extension": ".py",
   "mimetype": "text/x-python",
   "name": "python",
   "nbconvert_exporter": "python",
   "pygments_lexer": "ipython3",
   "version": "3.9.11"
  },
  "orig_nbformat": 4
 },
 "nbformat": 4,
 "nbformat_minor": 2
}
