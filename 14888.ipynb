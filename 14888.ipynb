{
 "cells": [
  {
   "cell_type": "code",
   "execution_count": 28,
   "metadata": {},
   "outputs": [
    {
     "name": "stdout",
     "output_type": "stream",
     "text": [
      "['5', '6']\n",
      "[2]\n"
     ]
    }
   ],
   "source": [
    "# 연산자 끼워넣기\n",
    "\n",
    "import sys\n",
    "from itertools import permutations\n",
    "\n",
    "n = int(input())  # 수의 개수\n",
    "n_list = list(map(int, sys.stdin.readline().split())) # 수열\n",
    "oper_count = list(map(int, sys.stdin.readline().split())) # 연산자의 갯수\n",
    "operator = [\"+\", \"-\", \"*\", \"/\"]\n",
    "oper_permutations = []\n",
    "\n",
    "\n",
    "# 연산자의 갯수만큼 연산자를 추가\n",
    "for idx, i in enumerate(oper_count):\n",
    "    if i > 0:\n",
    "        oper_permutations.extend(operator[idx] * i)\n",
    "\n",
    "# 연산자가 2개 이상이면 연산자의 순열을 생성\n",
    "# set으로 중복된 연산자의 순열은 제거\n",
    "if n > 2:\n",
    "    oper_permutations = list(set(permutations(oper_permutations)))\n",
    "\n",
    "max_val = -1000000000 # 문제에서 최대 10억\n",
    "min_val = 1000000000 # 문제에서 최소 -10억 \n",
    "\n",
    "# 연산자의 순열 갯수만큼 반복\n",
    "for oper in oper_permutations:\n",
    "    answer = n_list[0]\n",
    "    # 연산자의 갯수만큼 반복\n",
    "    # 연산자는 수열의 개수보다 1개 적다\n",
    "    for i in range(len(oper)):\n",
    "        if oper[i] == \"+\":\n",
    "            answer += n_list[i + 1]\n",
    "        elif oper[i] == \"-\":\n",
    "            answer -= n_list[i + 1]\n",
    "        elif oper[i] == \"*\":\n",
    "            answer *= n_list[i + 1]\n",
    "        elif oper[i] == \"/\":\n",
    "            answer = int(answer / n_list[i + 1])\n",
    "\n",
    "    if max_val < answer:\n",
    "        max_val = answer\n",
    "    if min_val > answer:\n",
    "        min_val = answer\n",
    "\n",
    "print(max_val)\n",
    "print(min_val)\n"
   ]
  },
  {
   "cell_type": "code",
   "execution_count": null,
   "metadata": {},
   "outputs": [],
   "source": [
    "# DFS로 풀이\n",
    "\n",
    "# 백트래킹 (Python3 통과, PyPy3도 통과)\n",
    "import sys\n",
    "\n",
    "input = sys.stdin.readline\n",
    "N = int(input())\n",
    "num = list(map(int, input().split()))\n",
    "op = list(map(int, input().split()))  # +, -, *, //\n",
    "\n",
    "maximum = -1e9\n",
    "minimum = 1e9\n",
    "\n",
    "\n",
    "def dfs(depth, total, plus, minus, multiply, divide):\n",
    "    global maximum, minimum\n",
    "    if depth == N:\n",
    "        maximum = max(total, maximum)\n",
    "        minimum = min(total, minimum)\n",
    "        return\n",
    "\n",
    "    if plus:\n",
    "        dfs(depth + 1, total + num[depth], plus - 1, minus, multiply, divide)\n",
    "    if minus:\n",
    "        dfs(depth + 1, total - num[depth], plus, minus - 1, multiply, divide)\n",
    "    if multiply:\n",
    "        dfs(depth + 1, total * num[depth], plus, minus, multiply - 1, divide)\n",
    "    if divide:\n",
    "        dfs(depth + 1, int(total / num[depth]), plus, minus, multiply, divide - 1)\n",
    "\n",
    "\n",
    "dfs(1, num[0], op[0], op[1], op[2], op[3])\n",
    "print(maximum)\n",
    "print(minimum)"
   ]
  }
 ],
 "metadata": {
  "interpreter": {
   "hash": "a0ce7580e0241c87cb8c01ed191ebfb528913cd035859f50059197555ebf95d7"
  },
  "kernelspec": {
   "display_name": "Python 3.9.11 ('dev39')",
   "language": "python",
   "name": "python3"
  },
  "language_info": {
   "codemirror_mode": {
    "name": "ipython",
    "version": 3
   },
   "file_extension": ".py",
   "mimetype": "text/x-python",
   "name": "python",
   "nbconvert_exporter": "python",
   "pygments_lexer": "ipython3",
   "version": "3.9.11"
  },
  "orig_nbformat": 4
 },
 "nbformat": 4,
 "nbformat_minor": 2
}
