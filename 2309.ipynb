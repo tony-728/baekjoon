{
 "cells": [
  {
   "cell_type": "code",
   "execution_count": null,
   "metadata": {},
   "outputs": [],
   "source": [
    "num_list = []\n",
    "a, b = 0,0\n",
    "num_list = [int(input()) for _ in range(9)]\n",
    "\n",
    "num_list = sorted(num_list)\n",
    "\n",
    "# 모든 리스트를 순회하면서 찾는다.\n",
    "for i in range(9):\n",
    "    for j in range(i+1, 9):\n",
    "        if sum(num_list) - (num_list[i]+num_list[j]) == 100:\n",
    "            a = num_list[i]\n",
    "            b = num_list[j]\n",
    "\n",
    "num_list.remove(a)\n",
    "num_list.remove(b)\n",
    "\n",
    "print('\\n'.join(map(str, sorted(num_list))))"
   ]
  }
 ],
 "metadata": {
  "language_info": {
   "name": "python"
  },
  "orig_nbformat": 4
 },
 "nbformat": 4,
 "nbformat_minor": 2
}
