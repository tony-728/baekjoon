{
 "cells": [
  {
   "cell_type": "code",
   "execution_count": 15,
   "metadata": {},
   "outputs": [
    {
     "name": "stdout",
     "output_type": "stream",
     "text": [
      "0 2 \n"
     ]
    }
   ],
   "source": [
    "# 양의 정수 n이 주어졌을 때, 이를 이진수로 나타냈을 때 1의 위치를 모두 찾는 프로그램을 작성하시오\n",
    "t = int(input()) # 테스트 케이스 수\n",
    "\n",
    "for i in range(t):\n",
    "    count = 0\n",
    "    x = int(input())    \n",
    "    while x > 0:\n",
    "        if x % 2 == 1:\n",
    "            print(count, end=' ')\n",
    "        x = x // 2\n",
    "        count += 1\n",
    "    print()\n",
    "    "
   ]
  },
  {
   "cell_type": "code",
   "execution_count": 16,
   "metadata": {},
   "outputs": [
    {
     "name": "stdout",
     "output_type": "stream",
     "text": [
      "0 2 3 "
     ]
    }
   ],
   "source": [
    "# 다른 사람의 풀이\n",
    "T = int(input())\n",
    "\n",
    "for _ in range(T):\n",
    "    # bin함수는 10진수를 2진수로 바꿔주는 함수이다.\n",
    "    # -> 0b1101식의 문자열이 된다.\n",
    "    n = bin(int(input()))[2:]\n",
    "    for i in range(len(n)):\n",
    "        if n[-i-1] == '1': # 2진수의 값을 역순으로 봐야하기 때문에 \n",
    "            print(i, end = \" \")"
   ]
  }
 ],
 "metadata": {
  "interpreter": {
   "hash": "cda19163e710579022c08378d5e79736453ffbc5f14467cde856eea17feec0ea"
  },
  "kernelspec": {
   "display_name": "Python 3.7.11 ('convergence37_32')",
   "language": "python",
   "name": "python3"
  },
  "language_info": {
   "codemirror_mode": {
    "name": "ipython",
    "version": 3
   },
   "file_extension": ".py",
   "mimetype": "text/x-python",
   "name": "python",
   "nbconvert_exporter": "python",
   "pygments_lexer": "ipython3",
   "version": "3.8.12"
  },
  "orig_nbformat": 4
 },
 "nbformat": 4,
 "nbformat_minor": 2
}
