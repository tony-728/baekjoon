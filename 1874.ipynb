{
 "cells": [
  {
   "cell_type": "code",
   "execution_count": null,
   "metadata": {},
   "outputs": [],
   "source": [
    "# 스택 수열\n",
    "\n",
    "\"\"\"\n",
    "# 수열을 만들 수 있는지 없는지를 알아야 한다.\n",
    "\n",
    "\"\"\"\n",
    "import sys\n",
    "\n",
    "n = int(input())\n",
    "input_data = []\n",
    "my_stack = []\n",
    "answer = []\n",
    "\n",
    "# 수열 입력\n",
    "# 1 ~ n까지 숫자를 이용하여 입력받은 수열을 만들어야 한다.\n",
    "for _ in range(n):\n",
    "    input_data.append(int(sys.stdin.readline().rstrip()))\n",
    "\n",
    "# 1부터 입력된 숫자를 확인\n",
    "for i in range(1, n + 1):\n",
    "    # 1부터 숫자를 my_stack에 추가한다, +도 answer에 추가한다.\n",
    "    answer.append(\"+\")\n",
    "    my_stack.append(i)\n",
    "\n",
    "    # 만약 my_stack의 마지막과 입력된 숫자의 처음이 같다면\n",
    "    # my_stack과 input_data에서 pop한다. pop연산이므로 -를 answer에 추가한다.\n",
    "    while my_stack[-1] == input_data[0]:\n",
    "        answer.append(\"-\")\n",
    "        my_stack.pop()\n",
    "        input_data.pop(0)\n",
    "\n",
    "        # my_stack이 비어지면 반복문을 탈출한다.\n",
    "        if len(my_stack) == 0:\n",
    "            break\n",
    "\n",
    "if not input_data:\n",
    "    for i in answer:\n",
    "        print(i)\n",
    "else:\n",
    "    print(\"NO\")\n"
   ]
  },
  {
   "cell_type": "code",
   "execution_count": 2,
   "metadata": {},
   "outputs": [
    {
     "ename": "AttributeError",
     "evalue": "'list' object has no attribute 'empty'",
     "output_type": "error",
     "traceback": [
      "\u001b[1;31m---------------------------------------------------------------------------\u001b[0m",
      "\u001b[1;31mAttributeError\u001b[0m                            Traceback (most recent call last)",
      "\u001b[1;32mc:\\Users\\ksang\\Dropbox\\CT\\baekjoon\\1874.ipynb Cell 2'\u001b[0m in \u001b[0;36m<cell line: 3>\u001b[1;34m()\u001b[0m\n\u001b[0;32m      <a href='vscode-notebook-cell:/c%3A/Users/ksang/Dropbox/CT/baekjoon/1874.ipynb#ch0000001?line=0'>1</a>\u001b[0m a \u001b[39m=\u001b[39m []\n\u001b[1;32m----> <a href='vscode-notebook-cell:/c%3A/Users/ksang/Dropbox/CT/baekjoon/1874.ipynb#ch0000001?line=2'>3</a>\u001b[0m a\u001b[39m.\u001b[39;49mempty()\n",
      "\u001b[1;31mAttributeError\u001b[0m: 'list' object has no attribute 'empty'"
     ]
    }
   ],
   "source": [
    "n = int(input())\n",
    "stack = []\n",
    "answer = []\n",
    "flag = 0\n",
    "cur = 1\n",
    "for i in range(n):\n",
    "    num = int(input())\n",
    "    while cur <= num:       # 입력한 수를 만날 때 까지 오름차순으로 push\n",
    "        stack.append(cur)\n",
    "        answer.append(\"+\")\n",
    "        cur += 1\n",
    "    # 입력한 수를 만나면 while문 탈출. 즉 cur = num일 때 까지 while문을 돌아 스택을 쌓는다.\n",
    "\n",
    "    if stack[-1] == num:    # stack의 TOP이 입력한 숫자와 같다면\n",
    "        stack.pop()         # 스택의 TOP을 꺼내 수열을 만들어 준다.\n",
    "        answer.append(\"-\")\n",
    "    else:                   # stack의 TOP이 입력한 수가 아니면 주어진 스택을 만들 수 없다.\n",
    "        print(\"NO\")         # 왜냐하면 12345 처럼 오름차순으로 스택이 입력되는데\n",
    "        flag = 1            # TOP이 num보다 크면 num은 TOP보다 더 아래에 쌓여있기 때문이다.\n",
    "        break               \n",
    "\n",
    "if flag == 0:\n",
    "    for i in answer:\n",
    "        print(i)"
   ]
  }
 ],
 "metadata": {
  "interpreter": {
   "hash": "a0ce7580e0241c87cb8c01ed191ebfb528913cd035859f50059197555ebf95d7"
  },
  "kernelspec": {
   "display_name": "Python 3.9.11 ('dev39')",
   "language": "python",
   "name": "python3"
  },
  "language_info": {
   "codemirror_mode": {
    "name": "ipython",
    "version": 3
   },
   "file_extension": ".py",
   "mimetype": "text/x-python",
   "name": "python",
   "nbconvert_exporter": "python",
   "pygments_lexer": "ipython3",
   "version": "3.9.11"
  },
  "orig_nbformat": 4
 },
 "nbformat": 4,
 "nbformat_minor": 2
}
