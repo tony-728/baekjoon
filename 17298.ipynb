{
 "cells": [
  {
   "cell_type": "code",
   "execution_count": 4,
   "metadata": {},
   "outputs": [
    {
     "name": "stdout",
     "output_type": "stream",
     "text": [
      "5 7 7 7 -1 "
     ]
    }
   ],
   "source": [
    "# 오큰수\n",
    "\"\"\"\n",
    "크기가 N인 수열 A = A1, A2, ..., AN이 있다.\n",
    "수열의 각 원소 Ai에 대해서 오큰수 NGE(i)를 구하려고 한다.\n",
    "Ai의 오큰수는 오른쪽에 있으면서 Ai보다 큰 수 중에서 가장 왼쪽에 있는 수를 의미한다.\n",
    "그러한 수가 없는 경우에 오큰수는 -1이다.\n",
    "\"\"\"\n",
    "\n",
    "N = int(input())\n",
    "\n",
    "arr = list(map(int, input().split()))\n",
    "for i in range(N):\n",
    "    check = True\n",
    "    target = arr[i]\n",
    "    for j in range(i,N):\n",
    "        if target < arr[j]:\n",
    "            print(arr[j], end=' ')\n",
    "            check = False\n",
    "    \n",
    "    if check:\n",
    "        print(-1, end=' ')\n",
    "        \n",
    "        "
   ]
  },
  {
   "cell_type": "code",
   "execution_count": 15,
   "metadata": {},
   "outputs": [
    {
     "name": "stdout",
     "output_type": "stream",
     "text": [
      "[5, 7, 7, -1]\n"
     ]
    }
   ],
   "source": [
    "import sys\n",
    "N = int(input())\n",
    "\n",
    "arr = list(map(int, sys.stdin.readline().split()))\n",
    "\n",
    "# 오큰수에 포함되지 않으면 -1이므로 모두 -1로 세팅한다.\n",
    "answer = [-1] * N\n",
    "\n",
    "my_stack = []\n",
    "# 스택에 인덱스를 넣어주는 것이 중요하다.\n",
    "my_stack.append(0)\n",
    "\n",
    "for i in range(1,N):\n",
    "    # 마지막 인덱스의 값이 현재 값보다 크면 인덱스를 추가\n",
    "    if arr[my_stack[-1]] >= arr[i]:\n",
    "        my_stack.append(i)\n",
    "    else:\n",
    "        # 스택이 비어있지 않고\n",
    "        # 스택에 마지막 인덱스의 값이 현재의 값보다 클 때\n",
    "        # 해당하는 인덱스에 해당하는 결과 배열에 값을 변경한다.\n",
    "        while my_stack and arr[my_stack[-1]] < arr[i]:\n",
    "            answer[my_stack.pop()] = arr[i]\n",
    "        my_stack.append(i)\n",
    "\n",
    "for a in answer:\n",
    "    print(a, end=\" \")"
   ]
  }
 ],
 "metadata": {
  "interpreter": {
   "hash": "a0ce7580e0241c87cb8c01ed191ebfb528913cd035859f50059197555ebf95d7"
  },
  "kernelspec": {
   "display_name": "Python 3.9.11 ('dev39')",
   "language": "python",
   "name": "python3"
  },
  "language_info": {
   "codemirror_mode": {
    "name": "ipython",
    "version": 3
   },
   "file_extension": ".py",
   "mimetype": "text/x-python",
   "name": "python",
   "nbconvert_exporter": "python",
   "pygments_lexer": "ipython3",
   "version": "3.9.11"
  },
  "orig_nbformat": 4
 },
 "nbformat": 4,
 "nbformat_minor": 2
}
