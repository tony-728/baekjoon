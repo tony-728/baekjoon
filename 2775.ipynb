{
 "cells": [
  {
   "cell_type": "code",
   "execution_count": 19,
   "metadata": {},
   "outputs": [
    {
     "name": "stdout",
     "output_type": "stream",
     "text": [
      "6\n",
      "10\n"
     ]
    }
   ],
   "source": [
    "# 부녀회장이 될테야\n",
    "\n",
    "def check_people(k, n):\n",
    "    floor_people = []\n",
    "    for i in range(k + 1):  # 층\n",
    "        people = []\n",
    "        for j in range(n):  # 호\n",
    "            if not floor_people: # 처음 경우 0층을 세팅\n",
    "                people.append(j + 1)\n",
    "            else:\n",
    "                if j == 0:\n",
    "                    people.append(1) # 모든 층의 1호는 1명이 산다\n",
    "                else:\n",
    "                    # 이전 층의 현재호까지의 사람을 더한 수가 현재 층의 현재 호의 사람\n",
    "                    people.append(sum(floor_people[i - 1][: j + 1]))\n",
    "\n",
    "        floor_people.append(people)\n",
    "\n",
    "    return floor_people\n",
    "\n",
    "\n",
    "T = int(input())\n",
    "\n",
    "for _ in range(T):\n",
    "    k = int(input())\n",
    "    n = int(input())\n",
    "\n",
    "    result = check_people(k, n)\n",
    "    print(result[k][n - 1])\n"
   ]
  },
  {
   "cell_type": "code",
   "execution_count": 17,
   "metadata": {},
   "outputs": [
    {
     "data": {
      "text/plain": [
       "6"
      ]
     },
     "execution_count": 17,
     "metadata": {},
     "output_type": "execute_result"
    }
   ],
   "source": [
    "def check_people(k, n):\n",
    "    floor_people = []\n",
    "    for i in range(k + 1):  # 층\n",
    "        people = []\n",
    "        for j in range(n):  # 호\n",
    "            if not floor_people:\n",
    "                people.append(j + 1)\n",
    "            else:\n",
    "                if j == 0:\n",
    "                    people.append(1)\n",
    "                else:\n",
    "                    people.append(sum(floor_people[i - 1][:j + 1]))\n",
    "\n",
    "        floor_people.append(people)\n",
    "\n",
    "    return floor_people\n",
    "\n",
    "\n",
    "result = check_people(1,3)\n",
    "\n",
    "result[1][3-1]\n"
   ]
  }
 ],
 "metadata": {
  "interpreter": {
   "hash": "1cb989b854fd988d6400614094cb807f874635294f3ee7ee8786de23886924c0"
  },
  "kernelspec": {
   "display_name": "Python 3.8.12 ('dev38')",
   "language": "python",
   "name": "python3"
  },
  "language_info": {
   "codemirror_mode": {
    "name": "ipython",
    "version": 3
   },
   "file_extension": ".py",
   "mimetype": "text/x-python",
   "name": "python",
   "nbconvert_exporter": "python",
   "pygments_lexer": "ipython3",
   "version": "3.8.13"
  },
  "orig_nbformat": 4
 },
 "nbformat": 4,
 "nbformat_minor": 2
}
