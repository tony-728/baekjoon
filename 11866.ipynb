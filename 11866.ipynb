{
 "cells": [
  {
   "cell_type": "code",
   "execution_count": 14,
   "metadata": {},
   "outputs": [
    {
     "name": "stdout",
     "output_type": "stream",
     "text": [
      "<3, 6, 2, 7, 5, 1, 4>\n"
     ]
    }
   ],
   "source": [
    "# 요세푸스 문제0\n",
    "from collections import deque\n",
    "N, K = map(int, input().split())\n",
    "\n",
    "my_deque = deque([i for i in range(1, N+1)])\n",
    "\n",
    "print(\"<\", end='')\n",
    "while len(my_deque) > 1:\n",
    "    for _ in range(K-1):\n",
    "        my_deque.append(my_deque.popleft())\n",
    "    print(my_deque.popleft(), end=', ')\n",
    "\n",
    "print(f\"{my_deque[0]}>\")\n",
    "\n"
   ]
  }
 ],
 "metadata": {
  "interpreter": {
   "hash": "a0ce7580e0241c87cb8c01ed191ebfb528913cd035859f50059197555ebf95d7"
  },
  "kernelspec": {
   "display_name": "Python 3.9.11 ('dev39')",
   "language": "python",
   "name": "python3"
  },
  "language_info": {
   "codemirror_mode": {
    "name": "ipython",
    "version": 3
   },
   "file_extension": ".py",
   "mimetype": "text/x-python",
   "name": "python",
   "nbconvert_exporter": "python",
   "pygments_lexer": "ipython3",
   "version": "3.9.11"
  },
  "orig_nbformat": 4
 },
 "nbformat": 4,
 "nbformat_minor": 2
}
