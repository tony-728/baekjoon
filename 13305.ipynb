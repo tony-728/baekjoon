{
 "cells": [
  {
   "cell_type": "code",
   "execution_count": null,
   "metadata": {},
   "outputs": [],
   "source": [
    "# 주유소\n",
    "\"\"\"\n",
    "각 도시에 있는 주유소의 기름 가격과, \n",
    "각 도시를 연결하는 도로의 길이를 입력으로 받아\n",
    "제일 왼쪽 도시에서 제일 오른쪽 도시로 이동하는 최소의 비용을 계산하는 프로그램을 작성하시오.\n",
    "\n",
    "생각하기\n",
    "- 현재 기름값이 가장 저렴하게 유지 되면 된다.\n",
    "- 첫번째 노드에서 두번째 노드로 갈때는 무조건 첫번째 노드에서 두번째 노드로 이동할 거리만큼\n",
    "기름이 필요하므로 넣어야한다. 첫번째 기름값을 저장\n",
    "- 두번째 노드부터는 현재 위치에 기름값과 저장한 기름값을 비교하여 더 저럼한 기름값으로 갱신한다.\n",
    "\"\"\"\n",
    "import sys\n",
    "\n",
    "n = int(input()) # 도시의 개수\n",
    "\n",
    "# 간선과 노드 입력\n",
    "edges = list(map(int, sys.stdin.readline().split()))\n",
    "nodes = list(map(int, sys.stdin.readline().split()))\n",
    "\n",
    "node = nodes[0]\n",
    "answer = 0\n",
    "\n",
    "for i in range(1, n):\n",
    "    answer += node * edges[i-1]\n",
    "\n",
    "    if nodes[i] < node:\n",
    "        node = nodes[i]\n",
    "\n",
    "print(answer)\n",
    "    "
   ]
  }
 ],
 "metadata": {
  "language_info": {
   "name": "python"
  },
  "orig_nbformat": 4
 },
 "nbformat": 4,
 "nbformat_minor": 2
}
