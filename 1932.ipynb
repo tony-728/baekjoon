{
 "cells": [
  {
   "cell_type": "code",
   "execution_count": null,
   "metadata": {},
   "outputs": [],
   "source": [
    "# 정수 삼각형\n",
    "import sys\n",
    "\n",
    "n = int(input())\n",
    "\n",
    "answer = []\n",
    "for _ in range(n):\n",
    "    temp = []\n",
    "    l = list(map(int, sys.stdin.readline().split()))\n",
    "\n",
    "    if answer:\n",
    "        # 입력받은 값들을 더함\n",
    "        for idx1, i in enumerate(l):\n",
    "            check = []\n",
    "            for idx2, j in enumerate(answer[-1]): # 모든 경우를 봐야하기 때문에 오래걸림..\n",
    "                if idx1-1 == idx2 or idx1 == idx2: \n",
    "                    check.append(i+j)\n",
    "        \n",
    "            temp.append(max(check))\n",
    "        answer.append(temp)\n",
    "\n",
    "    else:\n",
    "        answer.append(l)\n",
    "\n",
    "print(max(answer[-1]))\n"
   ]
  },
  {
   "cell_type": "code",
   "execution_count": 3,
   "metadata": {},
   "outputs": [
    {
     "data": {
      "text/plain": [
       "[5, 7]"
      ]
     },
     "execution_count": 3,
     "metadata": {},
     "output_type": "execute_result"
    }
   ],
   "source": [
    "\"\"\"\n",
    "d[0][0] = 7\n",
    "d[1][0] = 3+7, d[1][1] = 8+7\n",
    "d[2][0] = 8+d[1][0], d[2][1] = 1 + max(d[1][0],d[1][1]), d[2][2] = 0 + d[1][1]\n",
    "d[3][0] = 2+d[2][0], d[3][1] = 7 + max(d[2][0],d[2][1]), d[3][2] = 4 + max(d[2][1],d[2][2]), d[3][3] = 4 + d[2][2]\n",
    "\n",
    "양 끝은 입력받은 수에 이전 양끝을 더하면 된다.\n",
    "중간은 이전 값에 왼쪽 오른쪽 중 큰 값과 더하면 된다.\n",
    "\n",
    "\"\"\"\n",
    "\n",
    "\n",
    "n=int(input())\n",
    "d=[]\n",
    "for i in range(n):\n",
    "  d.append(list(map(int, input().split())))\n",
    "\n",
    "for i in range(1,n):\n",
    "  for j in range(len(d[i])): # 현재 보고있는 리스트의 길이만큼 반복\n",
    "    if j==0:\n",
    "      d[i][j]=d[i][j]+d[i-1][j]\n",
    "    elif j==len(d[i])-1: \n",
    "      d[i][j]=d[i][j]+d[i-1][j-1]\n",
    "    else:\n",
    "      d[i][j]=max(d[i-1][j-1],d[i-1][j])+d[i][j]\n",
    "print(max(d[n-1]))"
   ]
  }
 ],
 "metadata": {
  "interpreter": {
   "hash": "a0ce7580e0241c87cb8c01ed191ebfb528913cd035859f50059197555ebf95d7"
  },
  "kernelspec": {
   "display_name": "Python 3.9.11 ('dev39')",
   "language": "python",
   "name": "python3"
  },
  "language_info": {
   "codemirror_mode": {
    "name": "ipython",
    "version": 3
   },
   "file_extension": ".py",
   "mimetype": "text/x-python",
   "name": "python",
   "nbconvert_exporter": "python",
   "pygments_lexer": "ipython3",
   "version": "3.9.11"
  },
  "orig_nbformat": 4
 },
 "nbformat": 4,
 "nbformat_minor": 2
}
